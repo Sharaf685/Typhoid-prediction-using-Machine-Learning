{
  "cells": [
    {
      "cell_type": "code",
      "execution_count": null,
      "metadata": {
        "id": "x1z4v3eeESDA"
      },
      "outputs": [],
      "source": [
        "import pandas as pd\n",
        "from sklearn.metrics import confusion_matrix, classification_report, log_loss\n",
        "from sklearn import metrics\n",
        "from sklearn.metrics import f1_score\n",
        "from sklearn.metrics import precision_score\n",
        "from sklearn.metrics import recall_score\n",
        "from sklearn.metrics import roc_auc_score\n",
        "from sklearn.metrics import roc_curve, roc_auc_score , auc\n",
        "from sklearn.model_selection import cross_val_score\n",
        "from sklearn.model_selection import StratifiedKFold\n",
        "import numpy as np\n",
        "import warnings\n",
        "warnings.filterwarnings('ignore')"
      ]
    },
    {
      "cell_type": "code",
      "source": [
        "from google.colab import drive\n",
        "drive.mount('/content/drive')"
      ],
      "metadata": {
        "colab": {
          "base_uri": "https://localhost:8080/"
        },
        "id": "yeXS-3mLlztw",
        "outputId": "80f47b28-ad1a-4068-d4f3-1622a403ada4"
      },
      "execution_count": null,
      "outputs": [
        {
          "output_type": "stream",
          "name": "stdout",
          "text": [
            "Drive already mounted at /content/drive; to attempt to forcibly remount, call drive.mount(\"/content/drive\", force_remount=True).\n"
          ]
        }
      ]
    },
    {
      "cell_type": "code",
      "execution_count": null,
      "metadata": {
        "id": "grl0Jt9IEih5"
      },
      "outputs": [],
      "source": [
        "df=pd.read_csv('/content/drive/MyDrive/Final Defense (Atik & Rad)/Typhoid/Typhoid-main-file/Final_Typhoid_F_Encoded.csv')"
      ]
    },
    {
      "cell_type": "code",
      "execution_count": null,
      "metadata": {
        "id": "gZWfNVRfqIB7"
      },
      "outputs": [],
      "source": []
    },
    {
      "cell_type": "code",
      "execution_count": null,
      "metadata": {
        "id": "efrC38DREa1B"
      },
      "outputs": [],
      "source": []
    },
    {
      "cell_type": "code",
      "execution_count": null,
      "metadata": {
        "colab": {
          "base_uri": "https://localhost:8080/",
          "height": 428
        },
        "id": "wxcOO_NUqF65",
        "outputId": "c528dea2-8888-472e-8a5f-33efc03a0ce2"
      },
      "outputs": [
        {
          "output_type": "execute_result",
          "data": {
            "text/plain": [
              "               age          sex     headache  RETRO-OCULAR PAIN  \\\n",
              "count  1742.000000  1746.000000  1746.000000        1746.000000   \n",
              "mean     33.758037     0.506873     0.796105           0.252577   \n",
              "std      20.199397     0.500096     0.403007           0.434615   \n",
              "min       0.000000     0.000000     0.000000           0.000000   \n",
              "25%      18.000000     0.000000     1.000000           0.000000   \n",
              "50%      31.000000     1.000000     1.000000           0.000000   \n",
              "75%      49.000000     1.000000     1.000000           1.000000   \n",
              "max      86.000000     1.000000     1.000000           1.000000   \n",
              "\n",
              "       muscle or muscle joint pain       NAUSEA         Rash  fast heart rate  \\\n",
              "count                  1746.000000  1746.000000  1746.000000      1746.000000   \n",
              "mean                      0.676403     0.505727     0.166094         0.170103   \n",
              "std                       0.467982     0.500110     0.372272         0.375831   \n",
              "min                       0.000000     0.000000     0.000000         0.000000   \n",
              "25%                       0.000000     0.000000     0.000000         0.000000   \n",
              "50%                       1.000000     1.000000     0.000000         0.000000   \n",
              "75%                       1.000000     1.000000     0.000000         0.000000   \n",
              "max                       1.000000     1.000000     1.000000         1.000000   \n",
              "\n",
              "       bloody cough  less urination  ...  Diarrhea or constipation  \\\n",
              "count   1746.000000     1746.000000  ...               1746.000000   \n",
              "mean       0.030355        0.147766  ...                  0.532073   \n",
              "std        0.171612        0.354970  ...                  0.499113   \n",
              "min        0.000000        0.000000  ...                  0.000000   \n",
              "25%        0.000000        0.000000  ...                  0.000000   \n",
              "50%        0.000000        0.000000  ...                  1.000000   \n",
              "75%        0.000000        0.000000  ...                  1.000000   \n",
              "max        1.000000        1.000000  ...                  1.000000   \n",
              "\n",
              "       Loss of appetite        Cough      fatigue  weight loss  \\\n",
              "count       1746.000000  1746.000000  1746.000000  1746.000000   \n",
              "mean           0.499427     0.523482     0.567583     0.552692   \n",
              "std            0.500143     0.499591     0.495553     0.497358   \n",
              "min            0.000000     0.000000     0.000000     0.000000   \n",
              "25%            0.000000     0.000000     0.000000     0.000000   \n",
              "50%            0.000000     1.000000     1.000000     1.000000   \n",
              "75%            1.000000     1.000000     1.000000     1.000000   \n",
              "max            1.000000     1.000000     1.000000     1.000000   \n",
              "\n",
              "       Swollen stomach  Abdominal pain  Difficulty paying attention  \\\n",
              "count      1746.000000     1746.000000                  1746.000000   \n",
              "mean          0.519473        0.521191                     0.536082   \n",
              "std           0.499764        0.499694                     0.498839   \n",
              "min           0.000000        0.000000                     0.000000   \n",
              "25%           0.000000        0.000000                     0.000000   \n",
              "50%           1.000000        1.000000                     1.000000   \n",
              "75%           1.000000        1.000000                     1.000000   \n",
              "max           1.000000        1.000000                     1.000000   \n",
              "\n",
              "         Agitation  hallucinations  \n",
              "count  1746.000000     1746.000000  \n",
              "mean      0.561856        0.548110  \n",
              "std       0.496301        0.497823  \n",
              "min       0.000000        0.000000  \n",
              "25%       0.000000        0.000000  \n",
              "50%       1.000000        1.000000  \n",
              "75%       1.000000        1.000000  \n",
              "max       1.000000        1.000000  \n",
              "\n",
              "[8 rows x 28 columns]"
            ],
            "text/html": [
              "\n",
              "  <div id=\"df-9bb99303-f1b2-4ab6-ab0a-b7316aa5f6b8\">\n",
              "    <div class=\"colab-df-container\">\n",
              "      <div>\n",
              "<style scoped>\n",
              "    .dataframe tbody tr th:only-of-type {\n",
              "        vertical-align: middle;\n",
              "    }\n",
              "\n",
              "    .dataframe tbody tr th {\n",
              "        vertical-align: top;\n",
              "    }\n",
              "\n",
              "    .dataframe thead th {\n",
              "        text-align: right;\n",
              "    }\n",
              "</style>\n",
              "<table border=\"1\" class=\"dataframe\">\n",
              "  <thead>\n",
              "    <tr style=\"text-align: right;\">\n",
              "      <th></th>\n",
              "      <th>age</th>\n",
              "      <th>sex</th>\n",
              "      <th>headache</th>\n",
              "      <th>RETRO-OCULAR PAIN</th>\n",
              "      <th>muscle or muscle joint pain</th>\n",
              "      <th>NAUSEA</th>\n",
              "      <th>Rash</th>\n",
              "      <th>fast heart rate</th>\n",
              "      <th>bloody cough</th>\n",
              "      <th>less urination</th>\n",
              "      <th>...</th>\n",
              "      <th>Diarrhea or constipation</th>\n",
              "      <th>Loss of appetite</th>\n",
              "      <th>Cough</th>\n",
              "      <th>fatigue</th>\n",
              "      <th>weight loss</th>\n",
              "      <th>Swollen stomach</th>\n",
              "      <th>Abdominal pain</th>\n",
              "      <th>Difficulty paying attention</th>\n",
              "      <th>Agitation</th>\n",
              "      <th>hallucinations</th>\n",
              "    </tr>\n",
              "  </thead>\n",
              "  <tbody>\n",
              "    <tr>\n",
              "      <th>count</th>\n",
              "      <td>1742.000000</td>\n",
              "      <td>1746.000000</td>\n",
              "      <td>1746.000000</td>\n",
              "      <td>1746.000000</td>\n",
              "      <td>1746.000000</td>\n",
              "      <td>1746.000000</td>\n",
              "      <td>1746.000000</td>\n",
              "      <td>1746.000000</td>\n",
              "      <td>1746.000000</td>\n",
              "      <td>1746.000000</td>\n",
              "      <td>...</td>\n",
              "      <td>1746.000000</td>\n",
              "      <td>1746.000000</td>\n",
              "      <td>1746.000000</td>\n",
              "      <td>1746.000000</td>\n",
              "      <td>1746.000000</td>\n",
              "      <td>1746.000000</td>\n",
              "      <td>1746.000000</td>\n",
              "      <td>1746.000000</td>\n",
              "      <td>1746.000000</td>\n",
              "      <td>1746.000000</td>\n",
              "    </tr>\n",
              "    <tr>\n",
              "      <th>mean</th>\n",
              "      <td>33.758037</td>\n",
              "      <td>0.506873</td>\n",
              "      <td>0.796105</td>\n",
              "      <td>0.252577</td>\n",
              "      <td>0.676403</td>\n",
              "      <td>0.505727</td>\n",
              "      <td>0.166094</td>\n",
              "      <td>0.170103</td>\n",
              "      <td>0.030355</td>\n",
              "      <td>0.147766</td>\n",
              "      <td>...</td>\n",
              "      <td>0.532073</td>\n",
              "      <td>0.499427</td>\n",
              "      <td>0.523482</td>\n",
              "      <td>0.567583</td>\n",
              "      <td>0.552692</td>\n",
              "      <td>0.519473</td>\n",
              "      <td>0.521191</td>\n",
              "      <td>0.536082</td>\n",
              "      <td>0.561856</td>\n",
              "      <td>0.548110</td>\n",
              "    </tr>\n",
              "    <tr>\n",
              "      <th>std</th>\n",
              "      <td>20.199397</td>\n",
              "      <td>0.500096</td>\n",
              "      <td>0.403007</td>\n",
              "      <td>0.434615</td>\n",
              "      <td>0.467982</td>\n",
              "      <td>0.500110</td>\n",
              "      <td>0.372272</td>\n",
              "      <td>0.375831</td>\n",
              "      <td>0.171612</td>\n",
              "      <td>0.354970</td>\n",
              "      <td>...</td>\n",
              "      <td>0.499113</td>\n",
              "      <td>0.500143</td>\n",
              "      <td>0.499591</td>\n",
              "      <td>0.495553</td>\n",
              "      <td>0.497358</td>\n",
              "      <td>0.499764</td>\n",
              "      <td>0.499694</td>\n",
              "      <td>0.498839</td>\n",
              "      <td>0.496301</td>\n",
              "      <td>0.497823</td>\n",
              "    </tr>\n",
              "    <tr>\n",
              "      <th>min</th>\n",
              "      <td>0.000000</td>\n",
              "      <td>0.000000</td>\n",
              "      <td>0.000000</td>\n",
              "      <td>0.000000</td>\n",
              "      <td>0.000000</td>\n",
              "      <td>0.000000</td>\n",
              "      <td>0.000000</td>\n",
              "      <td>0.000000</td>\n",
              "      <td>0.000000</td>\n",
              "      <td>0.000000</td>\n",
              "      <td>...</td>\n",
              "      <td>0.000000</td>\n",
              "      <td>0.000000</td>\n",
              "      <td>0.000000</td>\n",
              "      <td>0.000000</td>\n",
              "      <td>0.000000</td>\n",
              "      <td>0.000000</td>\n",
              "      <td>0.000000</td>\n",
              "      <td>0.000000</td>\n",
              "      <td>0.000000</td>\n",
              "      <td>0.000000</td>\n",
              "    </tr>\n",
              "    <tr>\n",
              "      <th>25%</th>\n",
              "      <td>18.000000</td>\n",
              "      <td>0.000000</td>\n",
              "      <td>1.000000</td>\n",
              "      <td>0.000000</td>\n",
              "      <td>0.000000</td>\n",
              "      <td>0.000000</td>\n",
              "      <td>0.000000</td>\n",
              "      <td>0.000000</td>\n",
              "      <td>0.000000</td>\n",
              "      <td>0.000000</td>\n",
              "      <td>...</td>\n",
              "      <td>0.000000</td>\n",
              "      <td>0.000000</td>\n",
              "      <td>0.000000</td>\n",
              "      <td>0.000000</td>\n",
              "      <td>0.000000</td>\n",
              "      <td>0.000000</td>\n",
              "      <td>0.000000</td>\n",
              "      <td>0.000000</td>\n",
              "      <td>0.000000</td>\n",
              "      <td>0.000000</td>\n",
              "    </tr>\n",
              "    <tr>\n",
              "      <th>50%</th>\n",
              "      <td>31.000000</td>\n",
              "      <td>1.000000</td>\n",
              "      <td>1.000000</td>\n",
              "      <td>0.000000</td>\n",
              "      <td>1.000000</td>\n",
              "      <td>1.000000</td>\n",
              "      <td>0.000000</td>\n",
              "      <td>0.000000</td>\n",
              "      <td>0.000000</td>\n",
              "      <td>0.000000</td>\n",
              "      <td>...</td>\n",
              "      <td>1.000000</td>\n",
              "      <td>0.000000</td>\n",
              "      <td>1.000000</td>\n",
              "      <td>1.000000</td>\n",
              "      <td>1.000000</td>\n",
              "      <td>1.000000</td>\n",
              "      <td>1.000000</td>\n",
              "      <td>1.000000</td>\n",
              "      <td>1.000000</td>\n",
              "      <td>1.000000</td>\n",
              "    </tr>\n",
              "    <tr>\n",
              "      <th>75%</th>\n",
              "      <td>49.000000</td>\n",
              "      <td>1.000000</td>\n",
              "      <td>1.000000</td>\n",
              "      <td>1.000000</td>\n",
              "      <td>1.000000</td>\n",
              "      <td>1.000000</td>\n",
              "      <td>0.000000</td>\n",
              "      <td>0.000000</td>\n",
              "      <td>0.000000</td>\n",
              "      <td>0.000000</td>\n",
              "      <td>...</td>\n",
              "      <td>1.000000</td>\n",
              "      <td>1.000000</td>\n",
              "      <td>1.000000</td>\n",
              "      <td>1.000000</td>\n",
              "      <td>1.000000</td>\n",
              "      <td>1.000000</td>\n",
              "      <td>1.000000</td>\n",
              "      <td>1.000000</td>\n",
              "      <td>1.000000</td>\n",
              "      <td>1.000000</td>\n",
              "    </tr>\n",
              "    <tr>\n",
              "      <th>max</th>\n",
              "      <td>86.000000</td>\n",
              "      <td>1.000000</td>\n",
              "      <td>1.000000</td>\n",
              "      <td>1.000000</td>\n",
              "      <td>1.000000</td>\n",
              "      <td>1.000000</td>\n",
              "      <td>1.000000</td>\n",
              "      <td>1.000000</td>\n",
              "      <td>1.000000</td>\n",
              "      <td>1.000000</td>\n",
              "      <td>...</td>\n",
              "      <td>1.000000</td>\n",
              "      <td>1.000000</td>\n",
              "      <td>1.000000</td>\n",
              "      <td>1.000000</td>\n",
              "      <td>1.000000</td>\n",
              "      <td>1.000000</td>\n",
              "      <td>1.000000</td>\n",
              "      <td>1.000000</td>\n",
              "      <td>1.000000</td>\n",
              "      <td>1.000000</td>\n",
              "    </tr>\n",
              "  </tbody>\n",
              "</table>\n",
              "<p>8 rows × 28 columns</p>\n",
              "</div>\n",
              "      <button class=\"colab-df-convert\" onclick=\"convertToInteractive('df-9bb99303-f1b2-4ab6-ab0a-b7316aa5f6b8')\"\n",
              "              title=\"Convert this dataframe to an interactive table.\"\n",
              "              style=\"display:none;\">\n",
              "        \n",
              "  <svg xmlns=\"http://www.w3.org/2000/svg\" height=\"24px\"viewBox=\"0 0 24 24\"\n",
              "       width=\"24px\">\n",
              "    <path d=\"M0 0h24v24H0V0z\" fill=\"none\"/>\n",
              "    <path d=\"M18.56 5.44l.94 2.06.94-2.06 2.06-.94-2.06-.94-.94-2.06-.94 2.06-2.06.94zm-11 1L8.5 8.5l.94-2.06 2.06-.94-2.06-.94L8.5 2.5l-.94 2.06-2.06.94zm10 10l.94 2.06.94-2.06 2.06-.94-2.06-.94-.94-2.06-.94 2.06-2.06.94z\"/><path d=\"M17.41 7.96l-1.37-1.37c-.4-.4-.92-.59-1.43-.59-.52 0-1.04.2-1.43.59L10.3 9.45l-7.72 7.72c-.78.78-.78 2.05 0 2.83L4 21.41c.39.39.9.59 1.41.59.51 0 1.02-.2 1.41-.59l7.78-7.78 2.81-2.81c.8-.78.8-2.07 0-2.86zM5.41 20L4 18.59l7.72-7.72 1.47 1.35L5.41 20z\"/>\n",
              "  </svg>\n",
              "      </button>\n",
              "      \n",
              "  <style>\n",
              "    .colab-df-container {\n",
              "      display:flex;\n",
              "      flex-wrap:wrap;\n",
              "      gap: 12px;\n",
              "    }\n",
              "\n",
              "    .colab-df-convert {\n",
              "      background-color: #E8F0FE;\n",
              "      border: none;\n",
              "      border-radius: 50%;\n",
              "      cursor: pointer;\n",
              "      display: none;\n",
              "      fill: #1967D2;\n",
              "      height: 32px;\n",
              "      padding: 0 0 0 0;\n",
              "      width: 32px;\n",
              "    }\n",
              "\n",
              "    .colab-df-convert:hover {\n",
              "      background-color: #E2EBFA;\n",
              "      box-shadow: 0px 1px 2px rgba(60, 64, 67, 0.3), 0px 1px 3px 1px rgba(60, 64, 67, 0.15);\n",
              "      fill: #174EA6;\n",
              "    }\n",
              "\n",
              "    [theme=dark] .colab-df-convert {\n",
              "      background-color: #3B4455;\n",
              "      fill: #D2E3FC;\n",
              "    }\n",
              "\n",
              "    [theme=dark] .colab-df-convert:hover {\n",
              "      background-color: #434B5C;\n",
              "      box-shadow: 0px 1px 3px 1px rgba(0, 0, 0, 0.15);\n",
              "      filter: drop-shadow(0px 1px 2px rgba(0, 0, 0, 0.3));\n",
              "      fill: #FFFFFF;\n",
              "    }\n",
              "  </style>\n",
              "\n",
              "      <script>\n",
              "        const buttonEl =\n",
              "          document.querySelector('#df-9bb99303-f1b2-4ab6-ab0a-b7316aa5f6b8 button.colab-df-convert');\n",
              "        buttonEl.style.display =\n",
              "          google.colab.kernel.accessAllowed ? 'block' : 'none';\n",
              "\n",
              "        async function convertToInteractive(key) {\n",
              "          const element = document.querySelector('#df-9bb99303-f1b2-4ab6-ab0a-b7316aa5f6b8');\n",
              "          const dataTable =\n",
              "            await google.colab.kernel.invokeFunction('convertToInteractive',\n",
              "                                                     [key], {});\n",
              "          if (!dataTable) return;\n",
              "\n",
              "          const docLinkHtml = 'Like what you see? Visit the ' +\n",
              "            '<a target=\"_blank\" href=https://colab.research.google.com/notebooks/data_table.ipynb>data table notebook</a>'\n",
              "            + ' to learn more about interactive tables.';\n",
              "          element.innerHTML = '';\n",
              "          dataTable['output_type'] = 'display_data';\n",
              "          await google.colab.output.renderOutput(dataTable, element);\n",
              "          const docLink = document.createElement('div');\n",
              "          docLink.innerHTML = docLinkHtml;\n",
              "          element.appendChild(docLink);\n",
              "        }\n",
              "      </script>\n",
              "    </div>\n",
              "  </div>\n",
              "  "
            ]
          },
          "metadata": {},
          "execution_count": 7
        }
      ],
      "source": [
        "df.describe()"
      ]
    },
    {
      "cell_type": "code",
      "execution_count": null,
      "metadata": {
        "colab": {
          "base_uri": "https://localhost:8080/"
        },
        "id": "LmWyWor_ErXw",
        "outputId": "5a5bdc72-0603-41de-d4aa-f4415ec67091"
      },
      "outputs": [
        {
          "output_type": "stream",
          "name": "stdout",
          "text": [
            "<class 'pandas.core.frame.DataFrame'>\n",
            "RangeIndex: 1746 entries, 0 to 1745\n",
            "Data columns (total 29 columns):\n",
            " #   Column                        Non-Null Count  Dtype  \n",
            "---  ------                        --------------  -----  \n",
            " 0   age                           1742 non-null   float64\n",
            " 1   sex                           1746 non-null   int64  \n",
            " 2   headache                      1746 non-null   int64  \n",
            " 3   RETRO-OCULAR PAIN             1746 non-null   int64  \n",
            " 4   muscle or muscle joint pain   1746 non-null   int64  \n",
            " 5   NAUSEA                        1746 non-null   int64  \n",
            " 6   Rash                          1746 non-null   int64  \n",
            " 7   fast heart rate               1746 non-null   int64  \n",
            " 8   bloody cough                  1746 non-null   int64  \n",
            " 9   less urination                1746 non-null   int64  \n",
            " 10  Nose Bleeding                 1732 non-null   float64\n",
            " 11  Shortness of breath-asphyxia  1732 non-null   float64\n",
            " 12  SENSORY CHANGE                1732 non-null   float64\n",
            " 13  VOMITING                      1732 non-null   float64\n",
            " 14  traveler                      1721 non-null   float64\n",
            " 15  Swollen eyelid                1719 non-null   float64\n",
            " 16  muscle stiffness              1719 non-null   float64\n",
            " 17  Sweating                      1746 non-null   int64  \n",
            " 18  Diarrhea or constipation      1746 non-null   int64  \n",
            " 19  Loss of appetite              1746 non-null   int64  \n",
            " 20  Cough                         1746 non-null   int64  \n",
            " 21  fatigue                       1746 non-null   int64  \n",
            " 22  weight loss                   1746 non-null   int64  \n",
            " 23  Swollen stomach               1746 non-null   int64  \n",
            " 24  Abdominal pain                1746 non-null   int64  \n",
            " 25  Difficulty paying attention   1746 non-null   int64  \n",
            " 26  Agitation                     1746 non-null   int64  \n",
            " 27  hallucinations                1746 non-null   int64  \n",
            " 28  Fever Type                    1746 non-null   object \n",
            "dtypes: float64(8), int64(20), object(1)\n",
            "memory usage: 395.7+ KB\n"
          ]
        }
      ],
      "source": [
        "df.info()"
      ]
    },
    {
      "cell_type": "code",
      "execution_count": null,
      "metadata": {
        "colab": {
          "base_uri": "https://localhost:8080/"
        },
        "id": "6qUou7kuEsd4",
        "outputId": "62183075-4fb5-4bd0-a64b-042553543df1"
      },
      "outputs": [
        {
          "output_type": "execute_result",
          "data": {
            "text/plain": [
              "age                              4\n",
              "sex                              0\n",
              "headache                         0\n",
              "RETRO-OCULAR PAIN                0\n",
              "muscle or muscle joint pain      0\n",
              "NAUSEA                           0\n",
              "Rash                             0\n",
              "fast heart rate                  0\n",
              "bloody cough                     0\n",
              "less urination                   0\n",
              "Nose Bleeding                   14\n",
              "Shortness of breath-asphyxia    14\n",
              "SENSORY CHANGE                  14\n",
              "VOMITING                        14\n",
              "traveler                        25\n",
              "Swollen eyelid                  27\n",
              "muscle stiffness                27\n",
              "Sweating                         0\n",
              "Diarrhea or constipation         0\n",
              "Loss of appetite                 0\n",
              "Cough                            0\n",
              "fatigue                          0\n",
              "weight loss                      0\n",
              "Swollen stomach                  0\n",
              "Abdominal pain                   0\n",
              "Difficulty paying attention      0\n",
              "Agitation                        0\n",
              "hallucinations                   0\n",
              "Fever Type                       0\n",
              "dtype: int64"
            ]
          },
          "metadata": {},
          "execution_count": 9
        }
      ],
      "source": [
        "df.isnull().sum()"
      ]
    },
    {
      "cell_type": "code",
      "execution_count": null,
      "metadata": {
        "id": "AHJQ5NIpEw8g"
      },
      "outputs": [],
      "source": []
    },
    {
      "cell_type": "markdown",
      "metadata": {
        "id": "jslW2L6YE9qZ"
      },
      "source": [
        "# Missing Value Handlig"
      ]
    },
    {
      "cell_type": "markdown",
      "metadata": {
        "id": "Yk8rrT28Hsuk"
      },
      "source": [
        "Age"
      ]
    },
    {
      "cell_type": "code",
      "execution_count": null,
      "metadata": {
        "id": "xo-_fhO5FAzQ"
      },
      "outputs": [],
      "source": [
        "df['age'].fillna(int(df['age'].mean()), inplace=True)"
      ]
    },
    {
      "cell_type": "markdown",
      "metadata": {
        "id": "oE2JlJb7FyxS"
      },
      "source": [
        "Nose Bleeding "
      ]
    },
    {
      "cell_type": "code",
      "execution_count": null,
      "metadata": {
        "colab": {
          "base_uri": "https://localhost:8080/"
        },
        "id": "y2gtuRJWF8k9",
        "outputId": "c7e2ff0e-032f-42b6-dd0d-b4a02e2fc648"
      },
      "outputs": [
        {
          "output_type": "execute_result",
          "data": {
            "text/plain": [
              "0.0    1661\n",
              "1.0      71\n",
              "Name: Nose Bleeding, dtype: int64"
            ]
          },
          "metadata": {},
          "execution_count": 11
        }
      ],
      "source": [
        "df['Nose Bleeding'].value_counts()"
      ]
    },
    {
      "cell_type": "code",
      "execution_count": null,
      "metadata": {
        "id": "7_cmXqz-FsOH"
      },
      "outputs": [],
      "source": [
        "df['Nose Bleeding'].fillna(0, inplace=True)"
      ]
    },
    {
      "cell_type": "markdown",
      "metadata": {
        "id": "41ceMqzoGTkm"
      },
      "source": [
        "Shortness of breath-asphyxia"
      ]
    },
    {
      "cell_type": "code",
      "execution_count": null,
      "metadata": {
        "colab": {
          "base_uri": "https://localhost:8080/"
        },
        "id": "komaGYIDFsK4",
        "outputId": "b18a3a10-0bbc-43ee-8d55-46a56f6482e1"
      },
      "outputs": [
        {
          "output_type": "execute_result",
          "data": {
            "text/plain": [
              "0.0    1470\n",
              "1.0     262\n",
              "Name: Shortness of breath-asphyxia, dtype: int64"
            ]
          },
          "metadata": {},
          "execution_count": 13
        }
      ],
      "source": [
        "df['Shortness of breath-asphyxia'].value_counts()"
      ]
    },
    {
      "cell_type": "code",
      "execution_count": null,
      "metadata": {
        "id": "NYXNqwL1GSy9"
      },
      "outputs": [],
      "source": [
        "df['Shortness of breath-asphyxia'].fillna(0, inplace=True)"
      ]
    },
    {
      "cell_type": "markdown",
      "metadata": {
        "id": "akGmbViQGe4t"
      },
      "source": [
        "SENSORY CHANGE "
      ]
    },
    {
      "cell_type": "code",
      "execution_count": null,
      "metadata": {
        "colab": {
          "base_uri": "https://localhost:8080/"
        },
        "id": "cFBLHMFiGSv6",
        "outputId": "659efc42-ed60-44d3-e6df-b6bf0b9328f8"
      },
      "outputs": [
        {
          "output_type": "execute_result",
          "data": {
            "text/plain": [
              "0.0    1564\n",
              "1.0     168\n",
              "Name: SENSORY CHANGE, dtype: int64"
            ]
          },
          "metadata": {},
          "execution_count": 15
        }
      ],
      "source": [
        "df['SENSORY CHANGE'].value_counts()"
      ]
    },
    {
      "cell_type": "code",
      "execution_count": null,
      "metadata": {
        "id": "WW4uZ244GSs6"
      },
      "outputs": [],
      "source": [
        "df['SENSORY CHANGE'].fillna(0, inplace=True)"
      ]
    },
    {
      "cell_type": "markdown",
      "metadata": {
        "id": "3k56r97RGsL-"
      },
      "source": [
        "VOMITING"
      ]
    },
    {
      "cell_type": "code",
      "execution_count": null,
      "metadata": {
        "colab": {
          "base_uri": "https://localhost:8080/"
        },
        "id": "DoV3xoKqGSpU",
        "outputId": "ace7f08d-5251-49f7-8fcf-0adb1ad7a261"
      },
      "outputs": [
        {
          "output_type": "execute_result",
          "data": {
            "text/plain": [
              "0.0    1704\n",
              "1.0      28\n",
              "Name: VOMITING, dtype: int64"
            ]
          },
          "metadata": {},
          "execution_count": 17
        }
      ],
      "source": [
        "df['VOMITING'].value_counts()"
      ]
    },
    {
      "cell_type": "code",
      "execution_count": null,
      "metadata": {
        "id": "Ylt6PEFtGSlp"
      },
      "outputs": [],
      "source": [
        "df['VOMITING'].fillna(0, inplace=True)"
      ]
    },
    {
      "cell_type": "markdown",
      "metadata": {
        "id": "fci8qM5BHB2M"
      },
      "source": [
        "traveler"
      ]
    },
    {
      "cell_type": "code",
      "execution_count": null,
      "metadata": {
        "colab": {
          "base_uri": "https://localhost:8080/"
        },
        "id": "LWkxYLbIG1vz",
        "outputId": "15e77be5-2c62-47b5-8e6c-159790636fad"
      },
      "outputs": [
        {
          "output_type": "execute_result",
          "data": {
            "text/plain": [
              "0.0    1177\n",
              "1.0     544\n",
              "Name: traveler, dtype: int64"
            ]
          },
          "metadata": {},
          "execution_count": 19
        }
      ],
      "source": [
        "df['traveler'].value_counts()"
      ]
    },
    {
      "cell_type": "code",
      "execution_count": null,
      "metadata": {
        "id": "HyrQsi7RG1s3"
      },
      "outputs": [],
      "source": [
        "df['traveler'].fillna(0, inplace=True)"
      ]
    },
    {
      "cell_type": "markdown",
      "metadata": {
        "id": "FMdsUc9qHX0x"
      },
      "source": [
        "Swollen eyelid"
      ]
    },
    {
      "cell_type": "code",
      "execution_count": null,
      "metadata": {
        "colab": {
          "base_uri": "https://localhost:8080/"
        },
        "id": "1coOp2aVHA9R",
        "outputId": "3927abe0-c755-4efe-aab6-99d6f6c5112c"
      },
      "outputs": [
        {
          "output_type": "execute_result",
          "data": {
            "text/plain": [
              "0.0    1433\n",
              "1.0     286\n",
              "Name: Swollen eyelid, dtype: int64"
            ]
          },
          "metadata": {},
          "execution_count": 21
        }
      ],
      "source": [
        "df['Swollen eyelid'].value_counts()"
      ]
    },
    {
      "cell_type": "code",
      "execution_count": null,
      "metadata": {
        "id": "iESG0tnVHAzB"
      },
      "outputs": [],
      "source": [
        "df['Swollen eyelid'].fillna(0, inplace=True)"
      ]
    },
    {
      "cell_type": "markdown",
      "metadata": {
        "id": "uT13jLzjHdgZ"
      },
      "source": [
        "muscle stiffness"
      ]
    },
    {
      "cell_type": "code",
      "execution_count": null,
      "metadata": {
        "colab": {
          "base_uri": "https://localhost:8080/"
        },
        "id": "B1G-M2sZHOTs",
        "outputId": "7359c2eb-d6f5-4a21-ae0a-f7c86cf801bd"
      },
      "outputs": [
        {
          "output_type": "execute_result",
          "data": {
            "text/plain": [
              "0.0    1609\n",
              "1.0     110\n",
              "Name: muscle stiffness, dtype: int64"
            ]
          },
          "metadata": {},
          "execution_count": 23
        }
      ],
      "source": [
        "df['muscle stiffness'].value_counts()"
      ]
    },
    {
      "cell_type": "code",
      "execution_count": null,
      "metadata": {
        "id": "4q6zXoeiHOQg"
      },
      "outputs": [],
      "source": [
        "df['muscle stiffness'].fillna(0, inplace=True)"
      ]
    },
    {
      "cell_type": "code",
      "execution_count": null,
      "metadata": {
        "id": "zDPNXsiRHh43"
      },
      "outputs": [],
      "source": [
        "df=df.dropna()"
      ]
    },
    {
      "cell_type": "code",
      "execution_count": null,
      "metadata": {
        "colab": {
          "base_uri": "https://localhost:8080/"
        },
        "id": "fpik7eWgIV3X",
        "outputId": "e8b87337-b29e-4635-815e-91a8ba4b7882"
      },
      "outputs": [
        {
          "output_type": "execute_result",
          "data": {
            "text/plain": [
              "age                             0\n",
              "sex                             0\n",
              "headache                        0\n",
              "RETRO-OCULAR PAIN               0\n",
              "muscle or muscle joint pain     0\n",
              "NAUSEA                          0\n",
              "Rash                            0\n",
              "fast heart rate                 0\n",
              "bloody cough                    0\n",
              "less urination                  0\n",
              "Nose Bleeding                   0\n",
              "Shortness of breath-asphyxia    0\n",
              "SENSORY CHANGE                  0\n",
              "VOMITING                        0\n",
              "traveler                        0\n",
              "Swollen eyelid                  0\n",
              "muscle stiffness                0\n",
              "Sweating                        0\n",
              "Diarrhea or constipation        0\n",
              "Loss of appetite                0\n",
              "Cough                           0\n",
              "fatigue                         0\n",
              "weight loss                     0\n",
              "Swollen stomach                 0\n",
              "Abdominal pain                  0\n",
              "Difficulty paying attention     0\n",
              "Agitation                       0\n",
              "hallucinations                  0\n",
              "Fever Type                      0\n",
              "dtype: int64"
            ]
          },
          "metadata": {},
          "execution_count": 26
        }
      ],
      "source": [
        "df.isnull().sum()"
      ]
    },
    {
      "cell_type": "markdown",
      "metadata": {
        "id": "s3iZkagRIDKv"
      },
      "source": [
        "# Feature Engineering"
      ]
    },
    {
      "cell_type": "code",
      "execution_count": null,
      "metadata": {
        "colab": {
          "base_uri": "https://localhost:8080/"
        },
        "id": "nqczHGrMIGOW",
        "outputId": "2295ffbe-6f18-4ce9-9d3c-99c99ceffb7e"
      },
      "outputs": [
        {
          "output_type": "stream",
          "name": "stdout",
          "text": [
            "<class 'pandas.core.frame.DataFrame'>\n",
            "Int64Index: 1746 entries, 0 to 1745\n",
            "Data columns (total 29 columns):\n",
            " #   Column                        Non-Null Count  Dtype  \n",
            "---  ------                        --------------  -----  \n",
            " 0   age                           1746 non-null   float64\n",
            " 1   sex                           1746 non-null   int64  \n",
            " 2   headache                      1746 non-null   int64  \n",
            " 3   RETRO-OCULAR PAIN             1746 non-null   int64  \n",
            " 4   muscle or muscle joint pain   1746 non-null   int64  \n",
            " 5   NAUSEA                        1746 non-null   int64  \n",
            " 6   Rash                          1746 non-null   int64  \n",
            " 7   fast heart rate               1746 non-null   int64  \n",
            " 8   bloody cough                  1746 non-null   int64  \n",
            " 9   less urination                1746 non-null   int64  \n",
            " 10  Nose Bleeding                 1746 non-null   float64\n",
            " 11  Shortness of breath-asphyxia  1746 non-null   float64\n",
            " 12  SENSORY CHANGE                1746 non-null   float64\n",
            " 13  VOMITING                      1746 non-null   float64\n",
            " 14  traveler                      1746 non-null   float64\n",
            " 15  Swollen eyelid                1746 non-null   float64\n",
            " 16  muscle stiffness              1746 non-null   float64\n",
            " 17  Sweating                      1746 non-null   int64  \n",
            " 18  Diarrhea or constipation      1746 non-null   int64  \n",
            " 19  Loss of appetite              1746 non-null   int64  \n",
            " 20  Cough                         1746 non-null   int64  \n",
            " 21  fatigue                       1746 non-null   int64  \n",
            " 22  weight loss                   1746 non-null   int64  \n",
            " 23  Swollen stomach               1746 non-null   int64  \n",
            " 24  Abdominal pain                1746 non-null   int64  \n",
            " 25  Difficulty paying attention   1746 non-null   int64  \n",
            " 26  Agitation                     1746 non-null   int64  \n",
            " 27  hallucinations                1746 non-null   int64  \n",
            " 28  Fever Type                    1746 non-null   object \n",
            "dtypes: float64(8), int64(20), object(1)\n",
            "memory usage: 409.2+ KB\n"
          ]
        }
      ],
      "source": [
        "df.info()"
      ]
    },
    {
      "cell_type": "code",
      "execution_count": null,
      "metadata": {
        "id": "HYc0iDqtITPG"
      },
      "outputs": [],
      "source": [
        "def target_attribute(x):\n",
        "  if x=='Typhoid':\n",
        "    return 1\n",
        "  else:\n",
        "    return 0\n",
        "df['Fever Type']=df['Fever Type'].apply(target_attribute)"
      ]
    },
    {
      "cell_type": "code",
      "execution_count": null,
      "metadata": {
        "colab": {
          "base_uri": "https://localhost:8080/"
        },
        "id": "Kwk-Qk-xJ2xF",
        "outputId": "1365e703-9e2b-4742-cf07-a6df28fb393e"
      },
      "outputs": [
        {
          "output_type": "stream",
          "name": "stdout",
          "text": [
            "<class 'pandas.core.frame.DataFrame'>\n",
            "Int64Index: 1746 entries, 0 to 1745\n",
            "Data columns (total 29 columns):\n",
            " #   Column                        Non-Null Count  Dtype  \n",
            "---  ------                        --------------  -----  \n",
            " 0   age                           1746 non-null   float64\n",
            " 1   sex                           1746 non-null   int64  \n",
            " 2   headache                      1746 non-null   int64  \n",
            " 3   RETRO-OCULAR PAIN             1746 non-null   int64  \n",
            " 4   muscle or muscle joint pain   1746 non-null   int64  \n",
            " 5   NAUSEA                        1746 non-null   int64  \n",
            " 6   Rash                          1746 non-null   int64  \n",
            " 7   fast heart rate               1746 non-null   int64  \n",
            " 8   bloody cough                  1746 non-null   int64  \n",
            " 9   less urination                1746 non-null   int64  \n",
            " 10  Nose Bleeding                 1746 non-null   float64\n",
            " 11  Shortness of breath-asphyxia  1746 non-null   float64\n",
            " 12  SENSORY CHANGE                1746 non-null   float64\n",
            " 13  VOMITING                      1746 non-null   float64\n",
            " 14  traveler                      1746 non-null   float64\n",
            " 15  Swollen eyelid                1746 non-null   float64\n",
            " 16  muscle stiffness              1746 non-null   float64\n",
            " 17  Sweating                      1746 non-null   int64  \n",
            " 18  Diarrhea or constipation      1746 non-null   int64  \n",
            " 19  Loss of appetite              1746 non-null   int64  \n",
            " 20  Cough                         1746 non-null   int64  \n",
            " 21  fatigue                       1746 non-null   int64  \n",
            " 22  weight loss                   1746 non-null   int64  \n",
            " 23  Swollen stomach               1746 non-null   int64  \n",
            " 24  Abdominal pain                1746 non-null   int64  \n",
            " 25  Difficulty paying attention   1746 non-null   int64  \n",
            " 26  Agitation                     1746 non-null   int64  \n",
            " 27  hallucinations                1746 non-null   int64  \n",
            " 28  Fever Type                    1746 non-null   int64  \n",
            "dtypes: float64(8), int64(21)\n",
            "memory usage: 409.2 KB\n"
          ]
        }
      ],
      "source": [
        "df.info()"
      ]
    },
    {
      "cell_type": "code",
      "execution_count": null,
      "metadata": {
        "colab": {
          "base_uri": "https://localhost:8080/"
        },
        "id": "7lSfvOygJ45m",
        "outputId": "76c4b271-f1c5-4434-bd3c-64fb989d7b78"
      },
      "outputs": [
        {
          "output_type": "execute_result",
          "data": {
            "text/plain": [
              "Index(['age', 'sex', 'headache', 'RETRO-OCULAR PAIN',\n",
              "       'muscle or muscle joint pain', 'NAUSEA', 'Rash', 'fast heart rate',\n",
              "       'bloody cough', 'less urination', 'Nose Bleeding',\n",
              "       'Shortness of breath-asphyxia', 'SENSORY CHANGE', 'VOMITING',\n",
              "       'traveler', 'Swollen eyelid', 'muscle stiffness', 'Sweating',\n",
              "       'Diarrhea or constipation', 'Loss of appetite', 'Cough', 'fatigue',\n",
              "       'weight loss', 'Swollen stomach', 'Abdominal pain',\n",
              "       'Difficulty paying attention', 'Agitation', 'hallucinations',\n",
              "       'Fever Type'],\n",
              "      dtype='object')"
            ]
          },
          "metadata": {},
          "execution_count": 30
        }
      ],
      "source": [
        "df.columns"
      ]
    },
    {
      "cell_type": "markdown",
      "metadata": {
        "id": "v5pw9Hx1J6yr"
      },
      "source": [
        "# Model building"
      ]
    },
    {
      "cell_type": "code",
      "execution_count": null,
      "metadata": {
        "colab": {
          "base_uri": "https://localhost:8080/"
        },
        "id": "qLaJ6vqnD7W8",
        "outputId": "57284711-27c9-482d-e9a9-05c3db05d570"
      },
      "outputs": [
        {
          "output_type": "execute_result",
          "data": {
            "text/plain": [
              "(1746, 29)"
            ]
          },
          "metadata": {},
          "execution_count": 31
        }
      ],
      "source": [
        "df.shape"
      ]
    },
    {
      "cell_type": "code",
      "execution_count": null,
      "metadata": {
        "id": "0Vcdetj4D9V1"
      },
      "outputs": [],
      "source": [
        "df=df.drop_duplicates()"
      ]
    },
    {
      "cell_type": "code",
      "execution_count": null,
      "metadata": {
        "colab": {
          "base_uri": "https://localhost:8080/"
        },
        "id": "GBsT2BNeEEFo",
        "outputId": "ab3d3f5f-8c11-448e-8987-0060f7b0dabe"
      },
      "outputs": [
        {
          "output_type": "execute_result",
          "data": {
            "text/plain": [
              "(1504, 29)"
            ]
          },
          "metadata": {},
          "execution_count": 33
        }
      ],
      "source": [
        "df.shape"
      ]
    },
    {
      "cell_type": "code",
      "execution_count": null,
      "metadata": {
        "id": "1VZj_2efJ-Ht"
      },
      "outputs": [],
      "source": [
        "x=df.drop(['Fever Type'],axis=1)\n",
        "y=df['Fever Type']"
      ]
    },
    {
      "cell_type": "code",
      "execution_count": null,
      "metadata": {
        "id": "JVSNct75KYkl"
      },
      "outputs": [],
      "source": [
        "from sklearn.model_selection import train_test_split\n",
        "xtrain,xtest,ytrain,ytest=train_test_split(x,y,test_size=.25,random_state=0,stratify=y)"
      ]
    },
    {
      "cell_type": "code",
      "execution_count": null,
      "metadata": {
        "id": "8_iFXUP2MJ0k"
      },
      "outputs": [],
      "source": [
        "def roc_auc_values(MODEL):\n",
        "  probs = MODEL.predict_proba(xtest)\n",
        "  probs = probs[:, 1]\n",
        "  auc = roc_auc_score(ytest, probs)\n",
        "  fpr, tpr, _ = roc_curve(ytest, probs)\n",
        "  a={'tpr':tpr,\n",
        "     'fpr':fpr,\n",
        "     'auc':auc\n",
        "    }\n",
        "  return a\n"
      ]
    },
    {
      "cell_type": "code",
      "execution_count": null,
      "metadata": {
        "colab": {
          "base_uri": "https://localhost:8080/"
        },
        "id": "V9LdysYwKa3m",
        "outputId": "379d3e1f-b2d0-4179-8284-962ea24ea18b"
      },
      "outputs": [
        {
          "output_type": "stream",
          "name": "stdout",
          "text": [
            "Confusion matrix is :\n",
            "[[175   8]\n",
            " [  1 192]]\n",
            "\n",
            "Classification Report : \n",
            "              precision    recall  f1-score   support\n",
            "\n",
            "           0       0.99      0.96      0.97       183\n",
            "           1       0.96      0.99      0.98       193\n",
            "\n",
            "    accuracy                           0.98       376\n",
            "   macro avg       0.98      0.98      0.98       376\n",
            "weighted avg       0.98      0.98      0.98       376\n",
            "\n",
            "\n",
            "\n",
            "Testing accuracy :  0.976063829787234\n",
            "Training accuracy: 99.7340425531915\n",
            "F1 Score : 0.9760147993791065\n",
            "Precision : 0.9771590909090908\n",
            "Recall : 0.9755514029276027\n",
            "AUC = 0.980\n",
            "Sensitivity :  0.9943181818181818\n",
            "Specificity :  0.96\n",
            "false positive rate :  0.04\n",
            "false negative rate :  0.005681818181818182\n",
            "Negative Predictive Value :  0.9948186528497409\n",
            "False Discovery rate :  0.04371584699453552\n",
            "Mean Absolute Error: 0.023936170212765957\n",
            "10 fold cross validation:  [0.98013245 0.92715232 0.96688742 0.97350993 0.94       0.98666667\n",
            " 0.96666667 0.97333333 0.97333333 0.98      ]\n",
            "Mean of 10 fold cross validation :  0.9667682119205298\n"
          ]
        }
      ],
      "source": [
        "from sklearn.ensemble import RandomForestClassifier\n",
        "RF=RandomForestClassifier()\n",
        "RF.fit(xtrain,ytrain)\n",
        "print('Confusion matrix is :')\n",
        "cm = confusion_matrix(ytest, RF.predict(xtest))\n",
        "TP = cm[0][0]\n",
        "TN = cm[1][1]\n",
        "FP = cm[0][1]\n",
        "FN = cm[1][0]\n",
        "print(cm)\n",
        "print()\n",
        "classificationReport = classification_report(ytest, RF.predict(xtest))\n",
        "print(\"Classification Report : \")\n",
        "print (classificationReport)\n",
        "print(\"\\n\")\n",
        "print('Testing accuracy : ',RF.score(xtest,ytest))\n",
        "print(\"Training accuracy:\",RF.score(xtrain,ytrain)*100)\n",
        "print(\"F1 Score :\",f1_score(ytest, RF.predict(xtest),average='macro'))\n",
        "print(\"Precision :\", precision_score(ytest, RF.predict(xtest),average='macro'))\n",
        "print(\"Recall :\", recall_score(ytest, RF.predict(xtest),average='macro'))\n",
        "probs = RF.predict_proba(xtest)\n",
        "probs = probs[:, 1]\n",
        "auc = roc_auc_score(ytest, probs)\n",
        "fpr, tpr, _ = roc_curve(ytest, probs)\n",
        "auc1=metrics.auc(fpr, tpr)\n",
        "print('AUC = %.3f' % (auc1))\n",
        "print('Sensitivity : ', TP/(TP+FN))\n",
        "print('Specificity : ', TN/(TN+FP))\n",
        "print('false positive rate : ', FP/(FP+TN))\n",
        "print('false negative rate : ', FN/(FN+TP))\n",
        "print('Negative Predictive Value : ', TN/(TN+FN))\n",
        "print('False Discovery rate : ', FP/(TP+FP))\n",
        "print('Mean Absolute Error:', metrics.mean_absolute_error(ytest, RF.predict(xtest)))\n",
        "\n",
        "skfold=StratifiedKFold(n_splits=10)\n",
        "scores=cross_val_score(RF,x,y,cv=skfold)\n",
        "print(\"10 fold cross validation: \",scores)\n",
        "print(\"Mean of 10 fold cross validation : \",np.mean(scores))\n",
        "rf=roc_auc_values(RF)"
      ]
    },
    {
      "cell_type": "code",
      "execution_count": null,
      "metadata": {
        "id": "cfONSlDaMSqk"
      },
      "outputs": [],
      "source": [
        "from sklearn.tree import DecisionTreeClassifier\n",
        "DT=DecisionTreeClassifier()"
      ]
    },
    {
      "cell_type": "code",
      "execution_count": null,
      "metadata": {
        "id": "Cs_TeFhHMph9",
        "colab": {
          "base_uri": "https://localhost:8080/"
        },
        "outputId": "95837372-5dc7-4ba9-83b5-82ab2e1ec3d3"
      },
      "outputs": [
        {
          "output_type": "stream",
          "name": "stdout",
          "text": [
            "Confusion matrix is :\n",
            "[[175   8]\n",
            " [ 21 172]]\n",
            "\n",
            "Classification Report : \n",
            "              precision    recall  f1-score   support\n",
            "\n",
            "           0       0.89      0.96      0.92       183\n",
            "           1       0.96      0.89      0.92       193\n",
            "\n",
            "    accuracy                           0.92       376\n",
            "   macro avg       0.92      0.92      0.92       376\n",
            "weighted avg       0.93      0.92      0.92       376\n",
            "\n",
            "\n",
            "\n",
            "Testing accuracy :  0.9228723404255319\n",
            "Training accuracy: 99.7340425531915\n",
            "F1 Score : 0.9228510626257383\n",
            "Precision : 0.9250401046943599\n",
            "Recall : 0.9228723404255319\n",
            "AUC = 0.929\n",
            "Sensitivity :  0.8928571428571429\n",
            "Specificity :  0.9555555555555556\n",
            "false positive rate :  0.044444444444444446\n",
            "false negative rate :  0.10714285714285714\n",
            "Negative Predictive Value :  0.8911917098445595\n",
            "False Discovery rate :  0.04371584699453552\n",
            "Mean Absolute Error: 0.07712765957446809\n",
            "10 fold cross validation:  [0.96688742 0.91390728 0.96688742 0.94701987 0.92666667 0.95333333\n",
            " 0.94       0.96666667 0.96       0.95333333]\n",
            "Mean of 10 fold cross validation :  0.9494701986754966\n"
          ]
        }
      ],
      "source": [
        "DT.fit(xtrain,ytrain)\n",
        "print('Confusion matrix is :')\n",
        "cm = confusion_matrix(ytest, DT.predict(xtest))\n",
        "TP = cm[0][0]\n",
        "TN = cm[1][1]\n",
        "FP = cm[0][1]\n",
        "FN = cm[1][0]\n",
        "print(cm)\n",
        "print()\n",
        "classificationReport = classification_report(ytest, DT.predict(xtest))\n",
        "print(\"Classification Report : \")\n",
        "print (classificationReport)\n",
        "print(\"\\n\")\n",
        "print('Testing accuracy : ',DT.score(xtest,ytest))\n",
        "print(\"Training accuracy:\",DT.score(xtrain,ytrain)*100)\n",
        "print(\"F1 Score :\",f1_score(ytest, DT.predict(xtest),average='weighted'))\n",
        "print(\"Precision :\", precision_score(ytest, DT.predict(xtest),average='weighted'))\n",
        "print(\"Recall :\", recall_score(ytest, DT.predict(xtest),average='weighted'))\n",
        "probs = DT.predict_proba(xtest)\n",
        "probs = probs[:, 1]\n",
        "auc = roc_auc_score(ytest, probs)\n",
        "fpr, tpr, _ = roc_curve(ytest, probs)\n",
        "auc1=metrics.auc(fpr, tpr)\n",
        "print('AUC = %.3f' % (auc1))\n",
        "print('Sensitivity : ', TP/(TP+FN))\n",
        "print('Specificity : ', TN/(TN+FP))\n",
        "print('false positive rate : ', FP/(FP+TN))\n",
        "print('false negative rate : ', FN/(FN+TP))\n",
        "print('Negative Predictive Value : ', TN/(TN+FN))\n",
        "print('False Discovery rate : ', FP/(TP+FP))\n",
        "print('Mean Absolute Error:', metrics.mean_absolute_error(ytest, DT.predict(xtest)))\n",
        "\n",
        "skfold=StratifiedKFold(n_splits=10)\n",
        "scores=cross_val_score(DT,x,y,cv=skfold)\n",
        "print(\"10 fold cross validation: \",scores)\n",
        "print(\"Mean of 10 fold cross validation : \",np.mean(scores))\n",
        "dt=roc_auc_values(DT)"
      ]
    },
    {
      "cell_type": "code",
      "execution_count": null,
      "metadata": {
        "id": "5Wyk-LJDMyy8"
      },
      "outputs": [],
      "source": [
        "from sklearn.ensemble import AdaBoostClassifier\n",
        "ABC = AdaBoostClassifier()"
      ]
    },
    {
      "cell_type": "code",
      "execution_count": null,
      "metadata": {
        "colab": {
          "base_uri": "https://localhost:8080/"
        },
        "id": "YpCnXVAFM29E",
        "outputId": "d4386b22-83af-457d-8657-9978444980e6"
      },
      "outputs": [
        {
          "output_type": "stream",
          "name": "stdout",
          "text": [
            "Confusion matrix is :\n",
            "[[175   8]\n",
            " [  1 192]]\n",
            "\n",
            "Classification Report : \n",
            "              precision    recall  f1-score   support\n",
            "\n",
            "           0       0.99      0.96      0.97       183\n",
            "           1       0.96      0.99      0.98       193\n",
            "\n",
            "    accuracy                           0.98       376\n",
            "   macro avg       0.98      0.98      0.98       376\n",
            "weighted avg       0.98      0.98      0.98       376\n",
            "\n",
            "\n",
            "\n",
            "Testing accuracy :  0.976063829787234\n",
            "Training accuracy: 97.6063829787234\n",
            "F1 Score : 0.9760147993791065\n",
            "Precision : 0.9771590909090908\n",
            "Recall : 0.9755514029276027\n",
            "AUC = 0.985\n",
            "Sensitivity :  0.9943181818181818\n",
            "Specificity :  0.96\n",
            "false positive rate :  0.04\n",
            "false negative rate :  0.005681818181818182\n",
            "Negative Predictive Value :  0.9948186528497409\n",
            "False Discovery rate :  0.04371584699453552\n",
            "Mean Absolute Error: 0.023936170212765957\n",
            "10 fold cross validation:  [0.99337748 0.94039735 0.98013245 0.98013245 0.94666667 0.98666667\n",
            " 0.96       0.98666667 0.98666667 0.98      ]\n",
            "Mean of 10 fold cross validation :  0.9740706401766005\n"
          ]
        }
      ],
      "source": [
        "ABC.fit(xtrain,ytrain)\n",
        "print('Confusion matrix is :')\n",
        "cm = confusion_matrix(ytest, ABC.predict(xtest))\n",
        "TP = cm[0][0]\n",
        "TN = cm[1][1]\n",
        "FP = cm[0][1]\n",
        "FN = cm[1][0]\n",
        "print(cm)\n",
        "print()\n",
        "classificationReport = classification_report(ytest, ABC.predict(xtest))\n",
        "print(\"Classification Report : \")\n",
        "print (classificationReport)\n",
        "print(\"\\n\")\n",
        "print('Testing accuracy : ',ABC.score(xtest,ytest))\n",
        "print(\"Training accuracy:\",ABC.score(xtrain,ytrain)*100)\n",
        "print(\"F1 Score :\",f1_score(ytest, ABC.predict(xtest),average='macro'))\n",
        "print(\"Precision :\", precision_score(ytest, ABC.predict(xtest),average='macro'))\n",
        "print(\"Recall :\", recall_score(ytest, ABC.predict(xtest),average='macro'))\n",
        "probs = ABC.predict_proba(xtest)\n",
        "probs = probs[:, 1]\n",
        "auc = roc_auc_score(ytest, probs)\n",
        "fpr, tpr, _ = roc_curve(ytest, probs)\n",
        "auc1=metrics.auc(fpr, tpr)\n",
        "print('AUC = %.3f' % (auc1))\n",
        "print('Sensitivity : ', TP/(TP+FN))\n",
        "print('Specificity : ', TN/(TN+FP))\n",
        "print('false positive rate : ', FP/(FP+TN))\n",
        "print('false negative rate : ', FN/(FN+TP))\n",
        "print('Negative Predictive Value : ', TN/(TN+FN))\n",
        "print('False Discovery rate : ', FP/(TP+FP))\n",
        "print('Mean Absolute Error:', metrics.mean_absolute_error(ytest, ABC.predict(xtest)))\n",
        "\n",
        "skfold=StratifiedKFold(n_splits=10)\n",
        "scores=cross_val_score(ABC,x,y,cv=skfold)\n",
        "print(\"10 fold cross validation: \",scores)\n",
        "print(\"Mean of 10 fold cross validation : \",np.mean(scores))\n",
        "abc=roc_auc_values(ABC)"
      ]
    },
    {
      "cell_type": "code",
      "execution_count": null,
      "metadata": {
        "id": "czaJXbO9M8vE"
      },
      "outputs": [],
      "source": [
        "import xgboost\n",
        "XGB=xgboost.XGBClassifier()"
      ]
    },
    {
      "cell_type": "code",
      "execution_count": null,
      "metadata": {
        "colab": {
          "base_uri": "https://localhost:8080/"
        },
        "id": "xStaRJ2cM_1E",
        "outputId": "dead8851-2dfa-478c-8756-bb93c1ebded0"
      },
      "outputs": [
        {
          "output_type": "stream",
          "name": "stdout",
          "text": [
            "Confusion matrix is :\n",
            "[[175   8]\n",
            " [  0 193]]\n",
            "\n",
            "Classification Report : \n",
            "              precision    recall  f1-score   support\n",
            "\n",
            "           0       1.00      0.96      0.98       183\n",
            "           1       0.96      1.00      0.98       193\n",
            "\n",
            "    accuracy                           0.98       376\n",
            "   macro avg       0.98      0.98      0.98       376\n",
            "weighted avg       0.98      0.98      0.98       376\n",
            "\n",
            "\n",
            "\n",
            "Testing accuracy :  0.9787234042553191\n",
            "Training accuracy: 97.6063829787234\n",
            "F1 Score : 0.9786745313784987\n",
            "Precision : 0.9800995024875622\n",
            "Recall : 0.9781420765027322\n",
            "AUC = 0.986\n",
            "Sensitivity :  1.0\n",
            "Specificity :  0.9601990049751243\n",
            "false positive rate :  0.03980099502487562\n",
            "false negative rate :  0.0\n",
            "Negative Predictive Value :  1.0\n",
            "False Discovery rate :  0.04371584699453552\n",
            "Mean Absolute Error: 0.02127659574468085\n",
            "10 fold cross validation:  [0.99337748 0.94701987 0.98013245 0.98013245 0.94666667 0.98666667\n",
            " 0.97333333 0.98666667 0.99333333 0.98      ]\n",
            "Mean of 10 fold cross validation :  0.9767328918322298\n"
          ]
        }
      ],
      "source": [
        "XGB.fit(xtrain,ytrain)\n",
        "print('Confusion matrix is :')\n",
        "cm = confusion_matrix(ytest, XGB.predict(xtest))\n",
        "TP = cm[0][0]\n",
        "TN = cm[1][1]\n",
        "FP = cm[0][1]\n",
        "FN = cm[1][0]\n",
        "print(cm)\n",
        "print()\n",
        "classificationReport = classification_report(ytest, XGB.predict(xtest))\n",
        "print(\"Classification Report : \")\n",
        "print (classificationReport)\n",
        "print(\"\\n\")\n",
        "print('Testing accuracy : ',XGB.score(xtest,ytest))\n",
        "print(\"Training accuracy:\",XGB.score(xtrain,ytrain)*100)\n",
        "print(\"F1 Score :\",f1_score(ytest, XGB.predict(xtest),average='macro'))\n",
        "print(\"Precision :\", precision_score(ytest, XGB.predict(xtest),average='macro'))\n",
        "print(\"Recall :\", recall_score(ytest, XGB.predict(xtest),average='macro'))\n",
        "probs = XGB.predict_proba(xtest)\n",
        "probs = probs[:, 1]\n",
        "auc = roc_auc_score(ytest, probs)\n",
        "fpr, tpr, _ = roc_curve(ytest, probs)\n",
        "auc1=metrics.auc(fpr, tpr)\n",
        "print('AUC = %.3f' % (auc1))\n",
        "print('Sensitivity : ', TP/(TP+FN))\n",
        "print('Specificity : ', TN/(TN+FP))\n",
        "print('false positive rate : ', FP/(FP+TN))\n",
        "print('false negative rate : ', FN/(FN+TP))\n",
        "print('Negative Predictive Value : ', TN/(TN+FN))\n",
        "print('False Discovery rate : ', FP/(TP+FP))\n",
        "print('Mean Absolute Error:', metrics.mean_absolute_error(ytest, XGB.predict(xtest)))\n",
        "\n",
        "skfold=StratifiedKFold(n_splits=10)\n",
        "scores=cross_val_score(XGB,x,y,cv=skfold)\n",
        "print(\"10 fold cross validation: \",scores)\n",
        "print(\"Mean of 10 fold cross validation : \",np.mean(scores))\n",
        "xgb=roc_auc_values(XGB)"
      ]
    },
    {
      "cell_type": "code",
      "execution_count": null,
      "metadata": {
        "id": "CEZUMOG4NHw9"
      },
      "outputs": [],
      "source": [
        "from sklearn.neural_network import MLPClassifier\n",
        "MLP = MLPClassifier()"
      ]
    },
    {
      "cell_type": "code",
      "execution_count": null,
      "metadata": {
        "colab": {
          "base_uri": "https://localhost:8080/"
        },
        "id": "hoLWK2YDNHt-",
        "outputId": "6c49946a-e4dc-4465-c591-b471178e406e"
      },
      "outputs": [
        {
          "output_type": "stream",
          "name": "stdout",
          "text": [
            "Confusion matrix is :\n",
            "[[175   8]\n",
            " [  0 193]]\n",
            "\n",
            "Classification Report : \n",
            "              precision    recall  f1-score   support\n",
            "\n",
            "           0       1.00      0.96      0.98       183\n",
            "           1       0.96      1.00      0.98       193\n",
            "\n",
            "    accuracy                           0.98       376\n",
            "   macro avg       0.98      0.98      0.98       376\n",
            "weighted avg       0.98      0.98      0.98       376\n",
            "\n",
            "\n",
            "\n",
            "Testing accuracy :  0.9787234042553191\n",
            "Training accuracy: 98.22695035460993\n",
            "F1 Score : 0.9786745313784987\n",
            "Precision : 0.9800995024875622\n",
            "Recall : 0.9781420765027322\n",
            "AUC = 0.987\n",
            "Sensitivity :  1.0\n",
            "Specificity :  0.9601990049751243\n",
            "false positive rate :  0.03980099502487562\n",
            "false negative rate :  0.0\n",
            "Negative Predictive Value :  1.0\n",
            "False Discovery rate :  0.04371584699453552\n",
            "Mean Absolute Error: 0.02127659574468085\n",
            "10 fold cross validation:  [0.99337748 0.94701987 0.96688742 0.98013245 0.94666667 0.97333333\n",
            " 0.98       0.98666667 0.99333333 0.98      ]\n",
            "Mean of 10 fold cross validation :  0.9747417218543047\n"
          ]
        }
      ],
      "source": [
        "MLP.fit(xtrain,ytrain)\n",
        "print('Confusion matrix is :')\n",
        "cm = confusion_matrix(ytest, MLP.predict(xtest))\n",
        "TP = cm[0][0]\n",
        "TN = cm[1][1]\n",
        "FP = cm[0][1]\n",
        "FN = cm[1][0]\n",
        "print(cm)\n",
        "print()\n",
        "classificationReport = classification_report(ytest, MLP.predict(xtest))\n",
        "print(\"Classification Report : \")\n",
        "print (classificationReport)\n",
        "print(\"\\n\")\n",
        "print('Testing accuracy : ',MLP.score(xtest,ytest))\n",
        "print(\"Training accuracy:\",MLP.score(xtrain,ytrain)*100)\n",
        "print(\"F1 Score :\",f1_score(ytest, MLP.predict(xtest),average='macro'))\n",
        "print(\"Precision :\", precision_score(ytest, MLP.predict(xtest),average='macro'))\n",
        "print(\"Recall :\", recall_score(ytest, MLP.predict(xtest),average='macro'))\n",
        "probs = MLP.predict_proba(xtest)\n",
        "probs = probs[:, 1]\n",
        "auc = roc_auc_score(ytest, probs)\n",
        "fpr, tpr, _ = roc_curve(ytest, probs)\n",
        "auc1=metrics.auc(fpr, tpr)\n",
        "print('AUC = %.3f' % (auc1))\n",
        "print('Sensitivity : ', TP/(TP+FN))\n",
        "print('Specificity : ', TN/(TN+FP))\n",
        "print('false positive rate : ', FP/(FP+TN))\n",
        "print('false negative rate : ', FN/(FN+TP))\n",
        "print('Negative Predictive Value : ', TN/(TN+FN))\n",
        "print('False Discovery rate : ', FP/(TP+FP))\n",
        "print('Mean Absolute Error:', metrics.mean_absolute_error(ytest, MLP.predict(xtest)))\n",
        "\n",
        "skfold=StratifiedKFold(n_splits=10)\n",
        "scores=cross_val_score(MLP,x,y,cv=skfold)\n",
        "print(\"10 fold cross validation: \",scores)\n",
        "print(\"Mean of 10 fold cross validation : \",np.mean(scores))\n",
        "mlp=roc_auc_values(MLP)"
      ]
    },
    {
      "cell_type": "code",
      "execution_count": null,
      "metadata": {
        "id": "vaQ3rXmaNHrQ"
      },
      "outputs": [],
      "source": [
        "from sklearn.ensemble import  ExtraTreesClassifier\n",
        "ETC=ExtraTreesClassifier()"
      ]
    },
    {
      "cell_type": "code",
      "execution_count": null,
      "metadata": {
        "colab": {
          "base_uri": "https://localhost:8080/"
        },
        "id": "Hoc24FqUNHoT",
        "outputId": "76ea988d-f0ce-48ae-948a-d1030b83c74d"
      },
      "outputs": [
        {
          "output_type": "stream",
          "name": "stdout",
          "text": [
            "Confusion matrix is :\n",
            "[[175   8]\n",
            " [  4 189]]\n",
            "\n",
            "Classification Report : \n",
            "              precision    recall  f1-score   support\n",
            "\n",
            "           0       0.98      0.96      0.97       183\n",
            "           1       0.96      0.98      0.97       193\n",
            "\n",
            "    accuracy                           0.97       376\n",
            "   macro avg       0.97      0.97      0.97       376\n",
            "weighted avg       0.97      0.97      0.97       376\n",
            "\n",
            "\n",
            "\n",
            "Testing accuracy :  0.9680851063829787\n",
            "Training accuracy: 99.7340425531915\n",
            "F1 Score : 0.9680407989800255\n",
            "Precision : 0.9685222471145394\n",
            "Recall : 0.967779382202214\n",
            "AUC = 0.979\n",
            "Sensitivity :  0.9776536312849162\n",
            "Specificity :  0.9593908629441624\n",
            "false positive rate :  0.04060913705583756\n",
            "false negative rate :  0.0223463687150838\n",
            "Negative Predictive Value :  0.9792746113989638\n",
            "False Discovery rate :  0.04371584699453552\n",
            "Mean Absolute Error: 0.031914893617021274\n",
            "10 fold cross validation:  [0.97350993 0.92715232 0.9602649  0.97350993 0.93333333 0.98\n",
            " 0.96666667 0.96666667 0.96666667 0.97333333]\n",
            "Mean of 10 fold cross validation :  0.9621103752759381\n"
          ]
        }
      ],
      "source": [
        "ETC.fit(xtrain,ytrain)\n",
        "print('Confusion matrix is :')\n",
        "cm = confusion_matrix(ytest, ETC.predict(xtest))\n",
        "TP = cm[0][0]\n",
        "TN = cm[1][1]\n",
        "FP = cm[0][1]\n",
        "FN = cm[1][0]\n",
        "print(cm)\n",
        "print()\n",
        "classificationReport = classification_report(ytest, ETC.predict(xtest))\n",
        "print(\"Classification Report : \")\n",
        "print (classificationReport)\n",
        "print(\"\\n\")\n",
        "print('Testing accuracy : ',ETC.score(xtest,ytest))\n",
        "print(\"Training accuracy:\",ETC.score(xtrain,ytrain)*100)\n",
        "print(\"F1 Score :\",f1_score(ytest, ETC.predict(xtest),average='macro'))\n",
        "print(\"Precision :\", precision_score(ytest, ETC.predict(xtest),average='macro'))\n",
        "print(\"Recall :\", recall_score(ytest, ETC.predict(xtest),average='macro'))\n",
        "probs = ETC.predict_proba(xtest)\n",
        "probs = probs[:, 1]\n",
        "auc = roc_auc_score(ytest, probs)\n",
        "fpr, tpr, _ = roc_curve(ytest, probs)\n",
        "auc1=metrics.auc(fpr, tpr)\n",
        "print('AUC = %.3f' % (auc1))\n",
        "print('Sensitivity : ', TP/(TP+FN))\n",
        "print('Specificity : ', TN/(TN+FP))\n",
        "print('false positive rate : ', FP/(FP+TN))\n",
        "print('false negative rate : ', FN/(FN+TP))\n",
        "print('Negative Predictive Value : ', TN/(TN+FN))\n",
        "print('False Discovery rate : ', FP/(TP+FP))\n",
        "print('Mean Absolute Error:', metrics.mean_absolute_error(ytest, ETC.predict(xtest)))\n",
        "\n",
        "skfold=StratifiedKFold(n_splits=10)\n",
        "scores=cross_val_score(ETC,x,y,cv=skfold)\n",
        "print(\"10 fold cross validation: \",scores)\n",
        "print(\"Mean of 10 fold cross validation : \",np.mean(scores))\n",
        "etc=roc_auc_values(ETC)"
      ]
    },
    {
      "cell_type": "code",
      "execution_count": null,
      "metadata": {
        "id": "h0T4ebxBNHll"
      },
      "outputs": [],
      "source": [
        "from sklearn.ensemble import  GradientBoostingClassifier\n",
        "GBC= GradientBoostingClassifier()"
      ]
    },
    {
      "cell_type": "code",
      "execution_count": null,
      "metadata": {
        "colab": {
          "base_uri": "https://localhost:8080/"
        },
        "id": "e9FevXS2NHif",
        "outputId": "1cf89aa4-3462-45a3-a0cd-62368545fe3b"
      },
      "outputs": [
        {
          "output_type": "stream",
          "name": "stdout",
          "text": [
            "Confusion matrix is :\n",
            "[[175   8]\n",
            " [  0 193]]\n",
            "\n",
            "Classification Report : \n",
            "              precision    recall  f1-score   support\n",
            "\n",
            "           0       1.00      0.96      0.98       183\n",
            "           1       0.96      1.00      0.98       193\n",
            "\n",
            "    accuracy                           0.98       376\n",
            "   macro avg       0.98      0.98      0.98       376\n",
            "weighted avg       0.98      0.98      0.98       376\n",
            "\n",
            "\n",
            "\n",
            "Testing accuracy :  0.9787234042553191\n",
            "Training accuracy: 98.22695035460993\n",
            "F1 Score : 0.9786745313784987\n",
            "Precision : 0.9800995024875622\n",
            "Recall : 0.9781420765027322\n",
            "AUC = 0.986\n",
            "Sensitivity :  1.0\n",
            "Specificity :  0.9601990049751243\n",
            "false positive rate :  0.03980099502487562\n",
            "false negative rate :  0.0\n",
            "Negative Predictive Value :  1.0\n",
            "False Discovery rate :  0.04371584699453552\n",
            "Mean Absolute Error: 0.02127659574468085\n",
            "10 fold cross validation:  [0.99337748 0.94701987 0.98013245 0.97350993 0.94       0.98\n",
            " 0.97333333 0.98666667 0.99333333 0.98666667]\n",
            "Mean of 10 fold cross validation :  0.9754039735099338\n"
          ]
        }
      ],
      "source": [
        "GBC.fit(xtrain,ytrain)\n",
        "print('Confusion matrix is :')\n",
        "cm = confusion_matrix(ytest, GBC.predict(xtest))\n",
        "TP = cm[0][0]\n",
        "TN = cm[1][1]\n",
        "FP = cm[0][1]\n",
        "FN = cm[1][0]\n",
        "print(cm)\n",
        "print()\n",
        "classificationReport = classification_report(ytest, GBC.predict(xtest))\n",
        "print(\"Classification Report : \")\n",
        "print (classificationReport)\n",
        "print(\"\\n\")\n",
        "print('Testing accuracy : ',GBC.score(xtest,ytest))\n",
        "print(\"Training accuracy:\",GBC.score(xtrain,ytrain)*100)\n",
        "print(\"F1 Score :\",f1_score(ytest, GBC.predict(xtest),average='macro'))\n",
        "print(\"Precision :\", precision_score(ytest, GBC.predict(xtest),average='macro'))\n",
        "print(\"Recall :\", recall_score(ytest, GBC.predict(xtest),average='macro'))\n",
        "probs = GBC.predict_proba(xtest)\n",
        "probs = probs[:, 1]\n",
        "auc = roc_auc_score(ytest, probs)\n",
        "fpr, tpr, _ = roc_curve(ytest, probs)\n",
        "auc1=metrics.auc(fpr, tpr)\n",
        "print('AUC = %.3f' % (auc1))\n",
        "print('Sensitivity : ', TP/(TP+FN))\n",
        "print('Specificity : ', TN/(TN+FP))\n",
        "print('false positive rate : ', FP/(FP+TN))\n",
        "print('false negative rate : ', FN/(FN+TP))\n",
        "print('Negative Predictive Value : ', TN/(TN+FN))\n",
        "print('False Discovery rate : ', FP/(TP+FP))\n",
        "print('Mean Absolute Error:', metrics.mean_absolute_error(ytest, GBC.predict(xtest)))\n",
        "\n",
        "skfold=StratifiedKFold(n_splits=10)\n",
        "scores=cross_val_score(GBC,x,y,cv=skfold)\n",
        "print(\"10 fold cross validation: \",scores)\n",
        "print(\"Mean of 10 fold cross validation : \",np.mean(scores))\n",
        "gbc=roc_auc_values(GBC)"
      ]
    },
    {
      "cell_type": "code",
      "execution_count": null,
      "metadata": {
        "id": "agGEHGHTNHf6"
      },
      "outputs": [],
      "source": [
        "from sklearn.linear_model import SGDClassifier\n",
        "SGDC = SGDClassifier(loss='log')"
      ]
    },
    {
      "cell_type": "code",
      "execution_count": null,
      "metadata": {
        "colab": {
          "base_uri": "https://localhost:8080/"
        },
        "id": "ShKdutPGNHc8",
        "outputId": "6a10510a-be74-4fa4-93a0-a36ab431d16a"
      },
      "outputs": [
        {
          "output_type": "stream",
          "name": "stdout",
          "text": [
            "Confusion matrix is :\n",
            "[[175   8]\n",
            " [  7 186]]\n",
            "\n",
            "Classification Report : \n",
            "              precision    recall  f1-score   support\n",
            "\n",
            "           0       0.96      0.96      0.96       183\n",
            "           1       0.96      0.96      0.96       193\n",
            "\n",
            "    accuracy                           0.96       376\n",
            "   macro avg       0.96      0.96      0.96       376\n",
            "weighted avg       0.96      0.96      0.96       376\n",
            "\n",
            "\n",
            "\n",
            "Testing accuracy :  0.9601063829787234\n",
            "Training accuracy: 94.41489361702128\n",
            "F1 Score : 0.9600722098332801\n",
            "Precision : 0.9601506740681999\n",
            "Recall : 0.9600073614768254\n",
            "AUC = 0.976\n",
            "Sensitivity :  0.9615384615384616\n",
            "Specificity :  0.9587628865979382\n",
            "false positive rate :  0.041237113402061855\n",
            "false negative rate :  0.038461538461538464\n",
            "Negative Predictive Value :  0.9637305699481865\n",
            "False Discovery rate :  0.04371584699453552\n",
            "Mean Absolute Error: 0.0398936170212766\n",
            "10 fold cross validation:  [0.98675497 0.94039735 0.94701987 0.9602649  0.94666667 0.98666667\n",
            " 0.94666667 0.98       0.98       0.96      ]\n",
            "Mean of 10 fold cross validation :  0.9634437086092718\n"
          ]
        }
      ],
      "source": [
        "SGDC.fit(xtrain,ytrain)\n",
        "print('Confusion matrix is :')\n",
        "cm = confusion_matrix(ytest, SGDC.predict(xtest))\n",
        "TP = cm[0][0]\n",
        "TN = cm[1][1]\n",
        "FP = cm[0][1]\n",
        "FN = cm[1][0]\n",
        "print(cm)\n",
        "print()\n",
        "classificationReport = classification_report(ytest, SGDC.predict(xtest))\n",
        "print(\"Classification Report : \")\n",
        "print (classificationReport)\n",
        "print(\"\\n\")\n",
        "print('Testing accuracy : ',SGDC.score(xtest,ytest))\n",
        "print(\"Training accuracy:\",SGDC.score(xtrain,ytrain)*100)\n",
        "print(\"F1 Score :\",f1_score(ytest, SGDC.predict(xtest),average='macro'))\n",
        "print(\"Precision :\", precision_score(ytest, SGDC.predict(xtest),average='macro'))\n",
        "print(\"Recall :\", recall_score(ytest, SGDC.predict(xtest),average='macro'))\n",
        "probs = SGDC.predict_proba(xtest)\n",
        "probs = probs[:, 1]\n",
        "auc = roc_auc_score(ytest, probs)\n",
        "fpr, tpr, _ = roc_curve(ytest, probs)\n",
        "auc1=metrics.auc(fpr, tpr)\n",
        "print('AUC = %.3f' % (auc1))\n",
        "print('Sensitivity : ', TP/(TP+FN))\n",
        "print('Specificity : ', TN/(TN+FP))\n",
        "print('false positive rate : ', FP/(FP+TN))\n",
        "print('false negative rate : ', FN/(FN+TP))\n",
        "print('Negative Predictive Value : ', TN/(TN+FN))\n",
        "print('False Discovery rate : ', FP/(TP+FP))\n",
        "print('Mean Absolute Error:', metrics.mean_absolute_error(ytest, SGDC.predict(xtest)))\n",
        "\n",
        "skfold=StratifiedKFold(n_splits=10)\n",
        "scores=cross_val_score(SGDC,x,y,cv=skfold)\n",
        "print(\"10 fold cross validation: \",scores)\n",
        "print(\"Mean of 10 fold cross validation : \",np.mean(scores))\n",
        "sgdc=roc_auc_values(SGDC)"
      ]
    },
    {
      "cell_type": "code",
      "execution_count": null,
      "metadata": {
        "id": "pCdPIIxGNHaN"
      },
      "outputs": [],
      "source": [
        "from sklearn.experimental import enable_hist_gradient_boosting\n",
        "from sklearn.ensemble import HistGradientBoostingClassifier\n",
        "HGB=HistGradientBoostingClassifier()"
      ]
    },
    {
      "cell_type": "code",
      "execution_count": null,
      "metadata": {
        "colab": {
          "base_uri": "https://localhost:8080/"
        },
        "id": "Ai3-NXwbNHXO",
        "outputId": "ce8556a0-d97a-4c50-a311-0ffd2c6a3d08"
      },
      "outputs": [
        {
          "output_type": "stream",
          "name": "stdout",
          "text": [
            "Confusion matrix is :\n",
            "[[175   8]\n",
            " [  5 188]]\n",
            "\n",
            "Classification Report : \n",
            "              precision    recall  f1-score   support\n",
            "\n",
            "           0       0.97      0.96      0.96       183\n",
            "           1       0.96      0.97      0.97       193\n",
            "\n",
            "    accuracy                           0.97       376\n",
            "   macro avg       0.97      0.97      0.97       376\n",
            "weighted avg       0.97      0.97      0.97       376\n",
            "\n",
            "\n",
            "\n",
            "Testing accuracy :  0.9654255319148937\n",
            "Training accuracy: 99.55673758865248\n",
            "F1 Score : 0.9653841523437223\n",
            "Precision : 0.965702947845805\n",
            "Recall : 0.9651887086270845\n",
            "AUC = 0.984\n",
            "Sensitivity :  0.9722222222222222\n",
            "Specificity :  0.9591836734693877\n",
            "false positive rate :  0.04081632653061224\n",
            "false negative rate :  0.027777777777777776\n",
            "Negative Predictive Value :  0.9740932642487047\n",
            "False Discovery rate :  0.04371584699453552\n",
            "Mean Absolute Error: 0.034574468085106384\n",
            "10 fold cross validation:  [0.98013245 0.93377483 0.97350993 0.97350993 0.93333333 0.98\n",
            " 0.97333333 0.98       0.98666667 0.98      ]\n",
            "Mean of 10 fold cross validation :  0.9694260485651215\n"
          ]
        }
      ],
      "source": [
        "HGB.fit(xtrain,ytrain)\n",
        "print('Confusion matrix is :')\n",
        "cm = confusion_matrix(ytest, HGB.predict(xtest))\n",
        "TP = cm[0][0]\n",
        "TN = cm[1][1]\n",
        "FP = cm[0][1]\n",
        "FN = cm[1][0]\n",
        "print(cm)\n",
        "print()\n",
        "classificationReport = classification_report(ytest, HGB.predict(xtest))\n",
        "print(\"Classification Report : \")\n",
        "print (classificationReport)\n",
        "print(\"\\n\")\n",
        "print('Testing accuracy : ',HGB.score(xtest,ytest))\n",
        "print(\"Training accuracy:\",HGB.score(xtrain,ytrain)*100)\n",
        "print(\"F1 Score :\",f1_score(ytest, HGB.predict(xtest),average='macro'))\n",
        "print(\"Precision :\", precision_score(ytest, HGB.predict(xtest),average='macro'))\n",
        "print(\"Recall :\", recall_score(ytest, HGB.predict(xtest),average='macro'))\n",
        "probs = HGB.predict_proba(xtest)\n",
        "probs = probs[:, 1]\n",
        "auc = roc_auc_score(ytest, probs)\n",
        "fpr, tpr, _ = roc_curve(ytest, probs)\n",
        "auc1=metrics.auc(fpr, tpr)\n",
        "print('AUC = %.3f' % (auc1))\n",
        "print('Sensitivity : ', TP/(TP+FN))\n",
        "print('Specificity : ', TN/(TN+FP))\n",
        "print('false positive rate : ', FP/(FP+TN))\n",
        "print('false negative rate : ', FN/(FN+TP))\n",
        "print('Negative Predictive Value : ', TN/(TN+FN))\n",
        "print('False Discovery rate : ', FP/(TP+FP))\n",
        "print('Mean Absolute Error:', metrics.mean_absolute_error(ytest, HGB.predict(xtest)))\n",
        "\n",
        "skfold=StratifiedKFold(n_splits=10)\n",
        "scores=cross_val_score(HGB,x,y,cv=skfold)\n",
        "print(\"10 fold cross validation: \",scores)\n",
        "print(\"Mean of 10 fold cross validation : \",np.mean(scores))\n",
        "hgb=roc_auc_values(HGB)"
      ]
    },
    {
      "cell_type": "code",
      "execution_count": null,
      "metadata": {
        "id": "tkbUnLHcNHUR"
      },
      "outputs": [],
      "source": [
        "from lightgbm import LGBMClassifier\n",
        "LGBM=LGBMClassifier()"
      ]
    },
    {
      "cell_type": "code",
      "execution_count": null,
      "metadata": {
        "colab": {
          "base_uri": "https://localhost:8080/"
        },
        "id": "21SjLDHONHQ0",
        "outputId": "fa208e74-e919-4cc7-d75c-35a1111e5e83"
      },
      "outputs": [
        {
          "output_type": "stream",
          "name": "stdout",
          "text": [
            "Confusion matrix is :\n",
            "[[175   8]\n",
            " [  5 188]]\n",
            "\n",
            "Classification Report : \n",
            "              precision    recall  f1-score   support\n",
            "\n",
            "           0       0.97      0.96      0.96       183\n",
            "           1       0.96      0.97      0.97       193\n",
            "\n",
            "    accuracy                           0.97       376\n",
            "   macro avg       0.97      0.97      0.97       376\n",
            "weighted avg       0.97      0.97      0.97       376\n",
            "\n",
            "\n",
            "\n",
            "Testing accuracy :  0.9654255319148937\n",
            "Training accuracy: 99.64539007092199\n",
            "F1 Score : 0.9653841523437223\n",
            "Precision : 0.965702947845805\n",
            "Recall : 0.9651887086270845\n",
            "AUC = 0.984\n",
            "Sensitivity :  0.9722222222222222\n",
            "Specificity :  0.9591836734693877\n",
            "false positive rate :  0.04081632653061224\n",
            "false negative rate :  0.027777777777777776\n",
            "Negative Predictive Value :  0.9740932642487047\n",
            "False Discovery rate :  0.04371584699453552\n",
            "Mean Absolute Error: 0.034574468085106384\n",
            "10 fold cross validation:  [0.98013245 0.93377483 0.97350993 0.97350993 0.94       0.98\n",
            " 0.97333333 0.98       0.98666667 0.98      ]\n",
            "Mean of 10 fold cross validation :  0.9700927152317881\n"
          ]
        }
      ],
      "source": [
        "LGBM.fit(xtrain,ytrain)\n",
        "print('Confusion matrix is :')\n",
        "cm = confusion_matrix(ytest, LGBM.predict(xtest))\n",
        "TP = cm[0][0]\n",
        "TN = cm[1][1]\n",
        "FP = cm[0][1]\n",
        "FN = cm[1][0]\n",
        "print(cm)\n",
        "print()\n",
        "classificationReport = classification_report(ytest, LGBM.predict(xtest))\n",
        "print(\"Classification Report : \")\n",
        "print (classificationReport)\n",
        "print(\"\\n\")\n",
        "print('Testing accuracy : ',LGBM.score(xtest,ytest))\n",
        "print(\"Training accuracy:\",LGBM.score(xtrain,ytrain)*100)\n",
        "print(\"F1 Score :\",f1_score(ytest, LGBM.predict(xtest),average='macro'))\n",
        "print(\"Precision :\", precision_score(ytest, LGBM.predict(xtest),average='macro'))\n",
        "print(\"Recall :\", recall_score(ytest, LGBM.predict(xtest),average='macro'))\n",
        "probs = LGBM.predict_proba(xtest)\n",
        "probs = probs[:, 1]\n",
        "auc = roc_auc_score(ytest, probs)\n",
        "fpr, tpr, _ = roc_curve(ytest, probs)\n",
        "auc1=metrics.auc(fpr, tpr)\n",
        "print('AUC = %.3f' % (auc1))\n",
        "print('Sensitivity : ', TP/(TP+FN))\n",
        "print('Specificity : ', TN/(TN+FP))\n",
        "print('false positive rate : ', FP/(FP+TN))\n",
        "print('false negative rate : ', FN/(FN+TP))\n",
        "print('Negative Predictive Value : ', TN/(TN+FN))\n",
        "print('False Discovery rate : ', FP/(TP+FP))\n",
        "print('Mean Absolute Error:', metrics.mean_absolute_error(ytest, LGBM.predict(xtest)))\n",
        "\n",
        "skfold=StratifiedKFold(n_splits=10)\n",
        "scores=cross_val_score(LGBM,x,y,cv=skfold)\n",
        "print(\"10 fold cross validation: \",scores)\n",
        "print(\"Mean of 10 fold cross validation : \",np.mean(scores))\n",
        "lgbm=roc_auc_values(LGBM)"
      ]
    },
    {
      "cell_type": "code",
      "execution_count": null,
      "metadata": {
        "id": "BvdPXWgGNHNP"
      },
      "outputs": [],
      "source": [
        "from sklearn.neighbors import KNeighborsClassifier\n",
        "KNNC=KNeighborsClassifier(n_neighbors=5)"
      ]
    },
    {
      "cell_type": "code",
      "execution_count": null,
      "metadata": {
        "colab": {
          "base_uri": "https://localhost:8080/"
        },
        "id": "GmK0RzwcNTgO",
        "outputId": "c788faa1-1f22-4e8d-bed3-21ab8cb4ce70"
      },
      "outputs": [
        {
          "output_type": "stream",
          "name": "stdout",
          "text": [
            "Confusion matrix is :\n",
            "[[174   9]\n",
            " [  0 193]]\n",
            "\n",
            "Classification Report : \n",
            "              precision    recall  f1-score   support\n",
            "\n",
            "           0       1.00      0.95      0.97       183\n",
            "           1       0.96      1.00      0.98       193\n",
            "\n",
            "    accuracy                           0.98       376\n",
            "   macro avg       0.98      0.98      0.98       376\n",
            "weighted avg       0.98      0.98      0.98       376\n",
            "\n",
            "\n",
            "\n",
            "Testing accuracy :  0.976063829787234\n",
            "Training accuracy: 96.09929078014184\n",
            "F1 Score : 0.9760025529199021\n",
            "Precision : 0.9777227722772277\n",
            "Recall : 0.9754098360655737\n",
            "AUC = 0.979\n",
            "Sensitivity :  1.0\n",
            "Specificity :  0.9554455445544554\n",
            "false positive rate :  0.04455445544554455\n",
            "false negative rate :  0.0\n",
            "Negative Predictive Value :  1.0\n",
            "False Discovery rate :  0.04918032786885246\n",
            "Mean Absolute Error: 0.023936170212765957\n",
            "10 fold cross validation:  [0.97350993 0.92715232 0.94039735 0.97350993 0.93333333 0.96666667\n",
            " 0.96666667 0.97333333 0.96666667 0.95333333]\n",
            "Mean of 10 fold cross validation :  0.957456953642384\n"
          ]
        }
      ],
      "source": [
        "KNNC.fit(xtrain,ytrain)\n",
        "print('Confusion matrix is :')\n",
        "cm = confusion_matrix(ytest, KNNC.predict(xtest))\n",
        "TP = cm[0][0]\n",
        "TN = cm[1][1]\n",
        "FP = cm[0][1]\n",
        "FN = cm[1][0]\n",
        "print(cm)\n",
        "print()\n",
        "classificationReport = classification_report(ytest, KNNC.predict(xtest))\n",
        "print(\"Classification Report : \")\n",
        "print (classificationReport)\n",
        "print(\"\\n\")\n",
        "print('Testing accuracy : ',KNNC.score(xtest,ytest))\n",
        "print(\"Training accuracy:\",KNNC.score(xtrain,ytrain)*100)\n",
        "print(\"F1 Score :\",f1_score(ytest, KNNC.predict(xtest),average='macro'))\n",
        "print(\"Precision :\", precision_score(ytest, KNNC.predict(xtest),average='macro'))\n",
        "print(\"Recall :\", recall_score(ytest, KNNC.predict(xtest),average='macro'))\n",
        "probs = KNNC.predict_proba(xtest)\n",
        "probs = probs[:, 1]\n",
        "auc = roc_auc_score(ytest, probs)\n",
        "fpr, tpr, _ = roc_curve(ytest, probs)\n",
        "auc1=metrics.auc(fpr, tpr)\n",
        "print('AUC = %.3f' % (auc1))\n",
        "print('Sensitivity : ', TP/(TP+FN))\n",
        "print('Specificity : ', TN/(TN+FP))\n",
        "print('false positive rate : ', FP/(FP+TN))\n",
        "print('false negative rate : ', FN/(FN+TP))\n",
        "print('Negative Predictive Value : ', TN/(TN+FN))\n",
        "print('False Discovery rate : ', FP/(TP+FP))\n",
        "print('Mean Absolute Error:', metrics.mean_absolute_error(ytest, KNNC.predict(xtest)))\n",
        "\n",
        "skfold=StratifiedKFold(n_splits=10)\n",
        "scores=cross_val_score(KNNC,x,y,cv=skfold)\n",
        "print(\"10 fold cross validation: \",scores)\n",
        "print(\"Mean of 10 fold cross validation : \",np.mean(scores))\n",
        "knnc=roc_auc_values(KNNC)"
      ]
    },
    {
      "cell_type": "code",
      "execution_count": null,
      "metadata": {
        "id": "REUKemvoNTdN"
      },
      "outputs": [],
      "source": [
        "\n",
        "from sklearn.naive_bayes import GaussianNB\n",
        "GNB = GaussianNB()"
      ]
    },
    {
      "cell_type": "code",
      "execution_count": null,
      "metadata": {
        "colab": {
          "base_uri": "https://localhost:8080/"
        },
        "id": "QF38NipSNTaP",
        "outputId": "54c9c8ad-2152-40c1-e109-b4aa1f15ba28"
      },
      "outputs": [
        {
          "output_type": "stream",
          "name": "stdout",
          "text": [
            "Confusion matrix is :\n",
            "[[175   8]\n",
            " [  0 193]]\n",
            "\n",
            "Classification Report : \n",
            "              precision    recall  f1-score   support\n",
            "\n",
            "           0       1.00      0.96      0.98       183\n",
            "           1       0.96      1.00      0.98       193\n",
            "\n",
            "    accuracy                           0.98       376\n",
            "   macro avg       0.98      0.98      0.98       376\n",
            "weighted avg       0.98      0.98      0.98       376\n",
            "\n",
            "\n",
            "\n",
            "Testing accuracy :  0.9787234042553191\n",
            "Training accuracy: 97.4290780141844\n",
            "F1 Score : 0.9786745313784987\n",
            "Precision : 0.9800995024875622\n",
            "Recall : 0.9781420765027322\n",
            "AUC = 0.976\n",
            "Sensitivity :  1.0\n",
            "Specificity :  0.9601990049751243\n",
            "false positive rate :  0.03980099502487562\n",
            "false negative rate :  0.0\n",
            "Negative Predictive Value :  1.0\n",
            "False Discovery rate :  0.04371584699453552\n",
            "Mean Absolute Error: 0.02127659574468085\n",
            "10 fold cross validation:  [0.98675497 0.94701987 0.95364238 0.97350993 0.94666667 0.98\n",
            " 0.96666667 0.96666667 0.98       0.96666667]\n",
            "Mean of 10 fold cross validation :  0.9667593818984548\n"
          ]
        }
      ],
      "source": [
        "GNB.fit(xtrain,ytrain)\n",
        "print('Confusion matrix is :')\n",
        "cm = confusion_matrix(ytest, GNB.predict(xtest))\n",
        "TP = cm[0][0]\n",
        "TN = cm[1][1]\n",
        "FP = cm[0][1]\n",
        "FN = cm[1][0]\n",
        "print(cm)\n",
        "print()\n",
        "classificationReport = classification_report(ytest, GNB.predict(xtest))\n",
        "print(\"Classification Report : \")\n",
        "print (classificationReport)\n",
        "print(\"\\n\")\n",
        "print('Testing accuracy : ',GNB.score(xtest,ytest))\n",
        "print(\"Training accuracy:\",GNB.score(xtrain,ytrain)*100)\n",
        "print(\"F1 Score :\",f1_score(ytest, GNB.predict(xtest),average='macro'))\n",
        "print(\"Precision :\", precision_score(ytest, GNB.predict(xtest),average='macro'))\n",
        "print(\"Recall :\", recall_score(ytest, GNB.predict(xtest),average='macro'))\n",
        "probs = GNB.predict_proba(xtest)\n",
        "probs = probs[:, 1]\n",
        "auc = roc_auc_score(ytest, probs)\n",
        "fpr, tpr, _ = roc_curve(ytest, probs)\n",
        "auc1=metrics.auc(fpr, tpr)\n",
        "print('AUC = %.3f' % (auc1))\n",
        "print('Sensitivity : ', TP/(TP+FN))\n",
        "print('Specificity : ', TN/(TN+FP))\n",
        "print('false positive rate : ', FP/(FP+TN))\n",
        "print('false negative rate : ', FN/(FN+TP))\n",
        "print('Negative Predictive Value : ', TN/(TN+FN))\n",
        "print('False Discovery rate : ', FP/(TP+FP))\n",
        "print('Mean Absolute Error:', metrics.mean_absolute_error(ytest, GNB.predict(xtest)))\n",
        "\n",
        "skfold=StratifiedKFold(n_splits=10)\n",
        "scores=cross_val_score(GNB,x,y,cv=skfold)\n",
        "print(\"10 fold cross validation: \",scores)\n",
        "print(\"Mean of 10 fold cross validation : \",np.mean(scores))\n",
        "gnb=roc_auc_values(GNB)"
      ]
    },
    {
      "cell_type": "code",
      "execution_count": null,
      "metadata": {
        "id": "tn0FJvKENTXb"
      },
      "outputs": [],
      "source": [
        "from sklearn.linear_model import LogisticRegression\n",
        "LR = LogisticRegression(multi_class='multinomial', max_iter=1000)"
      ]
    },
    {
      "cell_type": "code",
      "execution_count": null,
      "metadata": {
        "colab": {
          "base_uri": "https://localhost:8080/"
        },
        "id": "jM1miKGcNTUk",
        "outputId": "05c4d4d7-762b-4d26-d7c2-497034e0acec"
      },
      "outputs": [
        {
          "output_type": "stream",
          "name": "stdout",
          "text": [
            "Confusion matrix is :\n",
            "[[175   8]\n",
            " [  0 193]]\n",
            "\n",
            "Classification Report : \n",
            "              precision    recall  f1-score   support\n",
            "\n",
            "           0       1.00      0.96      0.98       183\n",
            "           1       0.96      1.00      0.98       193\n",
            "\n",
            "    accuracy                           0.98       376\n",
            "   macro avg       0.98      0.98      0.98       376\n",
            "weighted avg       0.98      0.98      0.98       376\n",
            "\n",
            "\n",
            "\n",
            "Testing accuracy :  0.9787234042553191\n",
            "Training accuracy: 97.6063829787234\n",
            "F1 Score : 0.9786745313784987\n",
            "Precision : 0.9800995024875622\n",
            "Recall : 0.9781420765027322\n",
            "AUC = 0.983\n",
            "Sensitivity :  1.0\n",
            "Specificity :  0.9601990049751243\n",
            "false positive rate :  0.03980099502487562\n",
            "false negative rate :  0.0\n",
            "Negative Predictive Value :  1.0\n",
            "False Discovery rate :  0.04371584699453552\n",
            "Mean Absolute Error: 0.02127659574468085\n",
            "10 fold cross validation:  [0.98675497 0.94701987 0.98013245 0.98013245 0.94666667 0.98666667\n",
            " 0.97333333 0.98666667 0.99333333 0.98      ]\n",
            "Mean of 10 fold cross validation :  0.9760706401766006\n"
          ]
        }
      ],
      "source": [
        "LR.fit(xtrain,ytrain)\n",
        "print('Confusion matrix is :')\n",
        "cm = confusion_matrix(ytest, LR.predict(xtest))\n",
        "TP = cm[0][0]\n",
        "TN = cm[1][1]\n",
        "FP = cm[0][1]\n",
        "FN = cm[1][0]\n",
        "print(cm)\n",
        "print()\n",
        "classificationReport = classification_report(ytest, LR.predict(xtest))\n",
        "print(\"Classification Report : \")\n",
        "print (classificationReport)\n",
        "print(\"\\n\")\n",
        "print('Testing accuracy : ',LR.score(xtest,ytest))\n",
        "print(\"Training accuracy:\",LR.score(xtrain,ytrain)*100)\n",
        "print(\"F1 Score :\",f1_score(ytest, LR.predict(xtest),average='macro'))\n",
        "print(\"Precision :\", precision_score(ytest, LR.predict(xtest),average='macro'))\n",
        "print(\"Recall :\", recall_score(ytest, LR.predict(xtest),average='macro'))\n",
        "probs = LR.predict_proba(xtest)\n",
        "probs = probs[:, 1]\n",
        "auc = roc_auc_score(ytest, probs)\n",
        "fpr, tpr, _ = roc_curve(ytest, probs)\n",
        "auc1=metrics.auc(fpr, tpr)\n",
        "print('AUC = %.3f' % (auc1))\n",
        "print('Sensitivity : ', TP/(TP+FN))\n",
        "print('Specificity : ', TN/(TN+FP))\n",
        "print('false positive rate : ', FP/(FP+TN))\n",
        "print('false negative rate : ', FN/(FN+TP))\n",
        "print('Negative Predictive Value : ', TN/(TN+FN))\n",
        "print('False Discovery rate : ', FP/(TP+FP))\n",
        "print('Mean Absolute Error:', metrics.mean_absolute_error(ytest, LR.predict(xtest)))\n",
        "\n",
        "skfold=StratifiedKFold(n_splits=10)\n",
        "scores=cross_val_score(LR,x,y,cv=skfold)\n",
        "print(\"10 fold cross validation: \",scores)\n",
        "print(\"Mean of 10 fold cross validation : \",np.mean(scores))\n",
        "lr=roc_auc_values(LR)"
      ]
    },
    {
      "cell_type": "code",
      "execution_count": null,
      "metadata": {
        "id": "KfkTBEtINTRW"
      },
      "outputs": [],
      "source": [
        "from sklearn.ensemble import BaggingClassifier\n",
        "BC = BaggingClassifier(n_estimators = 500, max_samples = 0.5, max_features = 0.5)"
      ]
    },
    {
      "cell_type": "code",
      "execution_count": null,
      "metadata": {
        "colab": {
          "base_uri": "https://localhost:8080/"
        },
        "id": "rzEnvK4qNZak",
        "outputId": "ca57f440-ec0e-4ca1-8d7a-ddc86fc6278d"
      },
      "outputs": [
        {
          "output_type": "stream",
          "name": "stdout",
          "text": [
            "Confusion matrix is :\n",
            "[[175   8]\n",
            " [  0 193]]\n",
            "\n",
            "Classification Report : \n",
            "              precision    recall  f1-score   support\n",
            "\n",
            "           0       1.00      0.96      0.98       183\n",
            "           1       0.96      1.00      0.98       193\n",
            "\n",
            "    accuracy                           0.98       376\n",
            "   macro avg       0.98      0.98      0.98       376\n",
            "weighted avg       0.98      0.98      0.98       376\n",
            "\n",
            "\n",
            "\n",
            "Testing accuracy :  0.9787234042553191\n",
            "Training accuracy: 97.6063829787234\n",
            "F1 Score : 0.9786745313784987\n",
            "Precision : 0.9800995024875622\n",
            "Recall : 0.9781420765027322\n",
            "AUC = 0.977\n",
            "Sensitivity :  1.0\n",
            "Specificity :  0.9601990049751243\n",
            "false positive rate :  0.03980099502487562\n",
            "false negative rate :  0.0\n",
            "Negative Predictive Value :  1.0\n",
            "False Discovery rate :  0.04371584699453552\n",
            "Mean Absolute Error: 0.02127659574468085\n",
            "10 fold cross validation:  [0.99337748 0.94701987 0.98013245 0.98013245 0.94666667 0.98666667\n",
            " 0.97333333 0.98666667 0.99333333 0.98      ]\n",
            "Mean of 10 fold cross validation :  0.9767328918322298\n"
          ]
        }
      ],
      "source": [
        "BC.fit(xtrain,ytrain)\n",
        "print('Confusion matrix is :')\n",
        "cm = confusion_matrix(ytest, BC.predict(xtest))\n",
        "TP = cm[0][0]\n",
        "TN = cm[1][1]\n",
        "FP = cm[0][1]\n",
        "FN = cm[1][0]\n",
        "print(cm)\n",
        "print()\n",
        "classificationReport = classification_report(ytest, BC.predict(xtest))\n",
        "print(\"Classification Report : \")\n",
        "print (classificationReport)\n",
        "print(\"\\n\")\n",
        "print('Testing accuracy : ',BC.score(xtest,ytest))\n",
        "print(\"Training accuracy:\",BC.score(xtrain,ytrain)*100)\n",
        "print(\"F1 Score :\",f1_score(ytest, BC.predict(xtest),average='macro'))\n",
        "print(\"Precision :\", precision_score(ytest, BC.predict(xtest),average='macro'))\n",
        "print(\"Recall :\", recall_score(ytest, BC.predict(xtest),average='macro'))\n",
        "probs = BC.predict_proba(xtest)\n",
        "probs = probs[:, 1]\n",
        "auc = roc_auc_score(ytest, probs)\n",
        "fpr, tpr, _ = roc_curve(ytest, probs)\n",
        "auc1=metrics.auc(fpr, tpr)\n",
        "print('AUC = %.3f' % (auc1))\n",
        "print('Sensitivity : ', TP/(TP+FN))\n",
        "print('Specificity : ', TN/(TN+FP))\n",
        "print('false positive rate : ', FP/(FP+TN))\n",
        "print('false negative rate : ', FN/(FN+TP))\n",
        "print('Negative Predictive Value : ', TN/(TN+FN))\n",
        "print('False Discovery rate : ', FP/(TP+FP))\n",
        "print('Mean Absolute Error:', metrics.mean_absolute_error(ytest, BC.predict(xtest)))\n",
        "\n",
        "skfold=StratifiedKFold(n_splits=10)\n",
        "scores=cross_val_score(BC,x,y,cv=skfold)\n",
        "print(\"10 fold cross validation: \",scores)\n",
        "print(\"Mean of 10 fold cross validation : \",np.mean(scores))\n",
        "bc=roc_auc_values(BC)"
      ]
    },
    {
      "cell_type": "code",
      "execution_count": null,
      "metadata": {
        "id": "20jba7LLNZX2"
      },
      "outputs": [],
      "source": []
    },
    {
      "cell_type": "markdown",
      "metadata": {
        "id": "ap_wMukcOysf"
      },
      "source": [
        "ROC Curve"
      ]
    },
    {
      "cell_type": "code",
      "execution_count": null,
      "metadata": {
        "colab": {
          "base_uri": "https://localhost:8080/",
          "height": 893
        },
        "id": "bt8H-4eMNZU5",
        "outputId": "d1381ac9-a9db-482f-a99a-41a7993ebe9c"
      },
      "outputs": [
        {
          "output_type": "display_data",
          "data": {
            "text/plain": [
              "<Figure size 1080x1080 with 1 Axes>"
            ],
            "image/png": "[encoded data removed]"
          },
          "metadata": {
            "needs_background": "light"
          }
        }
      ],
      "source": [
        "import seaborn as sns\n",
        "import matplotlib.pyplot as plt\n",
        "plt.figure(figsize=(15,15))\n",
        "plt.plot(gbc['fpr'], gbc['tpr'],   label='GBC (AUC = %0.3f)' % gbc['auc'])\n",
        "plt.plot(lgbm['fpr'], lgbm['tpr'],  label='LGBM (AUC = %0.3f)' % lgbm['auc'])\n",
        "plt.plot(bc['fpr'], bc['tpr'],  label='Bagging Classifier (AUC = %0.3f)' % bc['auc'])\n",
        "plt.plot(rf['fpr'], rf['tpr'], label='Random Forest (AUC = %0.3f)' % rf['auc'])\n",
        "plt.plot(etc['fpr'], etc['tpr'], label='Extra Tree (AUC = %0.3f)' % etc['auc'])\n",
        "plt.plot(hgb['fpr'], hgb['tpr'],  label='HGB(AUC = %0.3f)' % hgb['auc'])\n",
        "plt.plot(xgb['fpr'], xgb['tpr'], label='XG Boost (AUC = %0.3f)' % xgb['auc'])\n",
        "\n",
        "# Title\n",
        "plt.title('ROC Curve')\n",
        "# Axis labels\n",
        "plt.xlabel('False Positive Rate')\n",
        "plt.ylabel('True Positive Rate')\n",
        "# Show legend\n",
        "plt.legend() # \n",
        "# Show plot\n",
        "plt.grid(False)\n",
        "plt.show()"
      ]
    },
    {
      "cell_type": "code",
      "execution_count": null,
      "metadata": {
        "colab": {
          "base_uri": "https://localhost:8080/"
        },
        "id": "R5CYi9mpNZR6",
        "outputId": "a8a9ae97-a0f9-4aaf-d699-a2d6d63203c5"
      },
      "outputs": [
        {
          "output_type": "stream",
          "name": "stdout",
          "text": [
            "CPU times: user 3.26 ms, sys: 1.04 ms, total: 4.29 ms\n",
            "Wall time: 4.44 ms\n"
          ]
        },
        {
          "output_type": "execute_result",
          "data": {
            "text/plain": [
              "array([1, 1, 1, 0, 1, 1, 0, 0, 0, 1, 1, 1, 1, 0, 1, 0, 0, 1, 1, 0, 0, 1,\n",
              "       0, 0, 1, 1, 0, 1, 1, 0, 0, 1, 1, 0, 0, 1, 0, 0, 0, 0, 0, 1, 0, 0,\n",
              "       0, 0, 0, 1, 0, 1, 1, 0, 0, 1, 0, 1, 0, 0, 0, 0, 1, 1, 1, 1, 1, 1,\n",
              "       0, 1, 0, 1, 0, 0, 0, 1, 1, 1, 0, 1, 0, 1, 0, 1, 1, 0, 0, 1, 0, 0,\n",
              "       0, 0, 1, 1, 1, 1, 0, 1, 1, 0, 0, 1, 0, 0, 0, 0, 1, 1, 0, 0, 1, 0,\n",
              "       1, 1, 0, 1, 0, 0, 1, 0, 1, 1, 0, 1, 1, 1, 1, 0, 1, 0, 1, 1, 1, 1,\n",
              "       1, 1, 1, 1, 1, 1, 1, 0, 0, 0, 1, 0, 1, 0, 0, 0, 0, 1, 1, 0, 0, 0,\n",
              "       1, 1, 1, 1, 0, 1, 1, 1, 0, 1, 0, 1, 0, 1, 0, 0, 1, 1, 0, 1, 0, 1,\n",
              "       0, 1, 0, 1, 0, 1, 1, 1, 1, 0, 0, 1, 1, 1, 0, 1, 1, 1, 1, 0, 1, 0,\n",
              "       0, 1, 0, 0, 1, 1, 1, 0, 0, 1, 0, 1, 1, 0, 0, 0, 1, 0, 1, 1, 1, 0,\n",
              "       1, 0, 1, 1, 0, 0, 0, 0, 0, 0, 1, 1, 0, 0, 1, 0, 0, 0, 1, 0, 1, 1,\n",
              "       0, 0, 1, 0, 0, 1, 1, 1, 1, 1, 0, 1, 0, 1, 1, 1, 1, 0, 1, 0, 1, 0,\n",
              "       0, 0, 0, 0, 1, 1, 1, 1, 0, 1, 0, 0, 0, 0, 1, 0, 0, 0, 1, 0, 1, 1,\n",
              "       0, 1, 1, 1, 0, 0, 0, 1, 1, 1, 0, 1, 0, 1, 0, 0, 1, 1, 1, 1, 0, 1,\n",
              "       0, 1, 0, 1, 1, 1, 1, 0, 0, 1, 1, 1, 1, 0, 0, 0, 0, 1, 1, 0, 0, 1,\n",
              "       1, 0, 0, 0, 0, 1, 0, 0, 1, 0, 1, 0, 1, 1, 1, 1, 0, 0, 1, 1, 1, 1,\n",
              "       1, 1, 0, 1, 1, 0, 1, 0, 1, 1, 1, 0, 1, 1, 1, 1, 0, 1, 1, 1, 1, 0,\n",
              "       0, 0])"
            ]
          },
          "metadata": {},
          "execution_count": 65
        }
      ],
      "source": [
        "%%time\n",
        "XGB.predict(xtest)"
      ]
    },
    {
      "cell_type": "code",
      "execution_count": null,
      "metadata": {
        "colab": {
          "base_uri": "https://localhost:8080/"
        },
        "id": "1MYCyMLgz5_H",
        "outputId": "750cdcef-f6b2-4c77-db67-e53d60faa3cd"
      },
      "outputs": [
        {
          "output_type": "stream",
          "name": "stdout",
          "text": [
            "CPU times: user 16.3 ms, sys: 37 µs, total: 16.3 ms\n",
            "Wall time: 16.5 ms\n"
          ]
        },
        {
          "output_type": "execute_result",
          "data": {
            "text/plain": [
              "array([1, 1, 1, 0, 1, 1, 0, 0, 0, 1, 1, 1, 1, 0, 1, 0, 0, 1, 1, 0, 0, 1,\n",
              "       0, 0, 1, 1, 0, 1, 1, 0, 0, 1, 1, 0, 0, 1, 0, 0, 0, 0, 0, 1, 0, 0,\n",
              "       0, 0, 0, 1, 0, 1, 1, 0, 0, 1, 0, 1, 0, 0, 0, 0, 1, 1, 1, 1, 1, 1,\n",
              "       0, 1, 0, 1, 0, 0, 0, 1, 1, 1, 0, 0, 0, 1, 0, 1, 1, 0, 0, 1, 0, 0,\n",
              "       0, 0, 1, 1, 1, 1, 0, 1, 1, 0, 0, 1, 0, 0, 0, 0, 1, 1, 0, 0, 1, 0,\n",
              "       1, 1, 0, 1, 0, 0, 1, 0, 1, 1, 0, 1, 1, 1, 1, 0, 1, 0, 1, 1, 1, 1,\n",
              "       1, 1, 1, 1, 1, 1, 1, 0, 0, 0, 1, 0, 1, 0, 0, 0, 0, 1, 1, 0, 0, 0,\n",
              "       1, 1, 1, 1, 0, 1, 1, 1, 0, 1, 0, 1, 0, 1, 0, 0, 1, 1, 0, 1, 0, 1,\n",
              "       0, 1, 0, 1, 0, 1, 1, 1, 1, 0, 0, 1, 1, 1, 0, 1, 1, 1, 1, 0, 1, 0,\n",
              "       0, 1, 0, 0, 1, 1, 1, 0, 0, 1, 0, 1, 1, 0, 0, 0, 1, 0, 1, 1, 1, 0,\n",
              "       1, 0, 1, 1, 0, 0, 0, 0, 0, 0, 1, 1, 0, 0, 1, 0, 0, 0, 1, 0, 1, 1,\n",
              "       0, 0, 1, 0, 0, 1, 1, 1, 1, 1, 0, 1, 0, 1, 1, 1, 1, 0, 1, 0, 1, 0,\n",
              "       0, 0, 0, 0, 1, 1, 1, 1, 0, 1, 0, 0, 0, 0, 1, 0, 0, 0, 1, 0, 1, 1,\n",
              "       0, 1, 1, 1, 0, 0, 0, 1, 1, 1, 0, 1, 0, 1, 0, 0, 1, 1, 1, 1, 0, 1,\n",
              "       0, 1, 0, 1, 1, 1, 1, 0, 0, 1, 1, 1, 1, 0, 0, 0, 0, 1, 1, 0, 0, 1,\n",
              "       1, 0, 0, 0, 0, 1, 0, 0, 1, 0, 1, 0, 1, 1, 1, 1, 0, 0, 1, 1, 1, 1,\n",
              "       1, 1, 0, 1, 1, 0, 1, 0, 1, 1, 1, 0, 1, 1, 1, 1, 0, 1, 1, 1, 1, 0,\n",
              "       0, 0])"
            ]
          },
          "metadata": {},
          "execution_count": 66
        }
      ],
      "source": [
        "%%time\n",
        "RF.predict(xtest)"
      ]
    },
    {
      "cell_type": "code",
      "execution_count": null,
      "metadata": {
        "colab": {
          "base_uri": "https://localhost:8080/"
        },
        "id": "ENJx-ckbz5xa",
        "outputId": "31e65fda-e48b-413c-a19a-e8da0cefbd6e"
      },
      "outputs": [
        {
          "output_type": "stream",
          "name": "stdout",
          "text": [
            "CPU times: user 19 ms, sys: 0 ns, total: 19 ms\n",
            "Wall time: 21.1 ms\n"
          ]
        },
        {
          "output_type": "execute_result",
          "data": {
            "text/plain": [
              "array([1, 1, 1, 0, 1, 1, 0, 0, 0, 1, 1, 1, 1, 0, 1, 0, 0, 1, 1, 0, 0, 1,\n",
              "       0, 0, 1, 1, 0, 1, 1, 0, 0, 1, 1, 0, 0, 1, 0, 0, 0, 0, 0, 1, 0, 0,\n",
              "       0, 0, 0, 1, 0, 1, 1, 0, 0, 1, 0, 1, 0, 0, 0, 0, 1, 1, 1, 1, 1, 1,\n",
              "       0, 1, 0, 1, 0, 0, 0, 1, 1, 1, 0, 0, 0, 1, 0, 1, 1, 0, 0, 1, 0, 0,\n",
              "       0, 0, 1, 1, 1, 1, 0, 1, 1, 0, 0, 1, 0, 0, 0, 0, 1, 1, 0, 0, 1, 0,\n",
              "       1, 1, 0, 1, 0, 0, 1, 0, 1, 1, 0, 1, 1, 1, 1, 0, 1, 0, 1, 1, 1, 1,\n",
              "       1, 1, 1, 1, 1, 1, 1, 0, 0, 0, 1, 0, 1, 0, 0, 0, 0, 1, 1, 0, 0, 0,\n",
              "       1, 1, 1, 1, 0, 1, 1, 1, 0, 0, 0, 1, 0, 1, 0, 0, 1, 1, 0, 1, 0, 1,\n",
              "       0, 1, 0, 1, 0, 1, 1, 1, 1, 0, 0, 1, 1, 1, 0, 1, 1, 1, 1, 0, 1, 0,\n",
              "       0, 1, 0, 0, 1, 1, 1, 0, 0, 1, 0, 1, 0, 0, 0, 0, 1, 0, 1, 1, 1, 0,\n",
              "       1, 0, 1, 1, 0, 0, 0, 0, 0, 0, 1, 1, 0, 0, 1, 0, 0, 0, 1, 0, 1, 1,\n",
              "       0, 0, 1, 0, 0, 1, 1, 1, 1, 1, 0, 1, 0, 1, 1, 1, 1, 0, 1, 0, 1, 0,\n",
              "       0, 0, 0, 0, 1, 0, 1, 1, 0, 1, 0, 0, 0, 0, 1, 0, 0, 0, 1, 0, 1, 1,\n",
              "       0, 1, 1, 1, 0, 0, 0, 1, 1, 1, 0, 1, 0, 1, 0, 0, 1, 1, 1, 1, 0, 1,\n",
              "       0, 1, 0, 1, 1, 1, 1, 0, 0, 1, 1, 1, 1, 0, 0, 0, 0, 1, 1, 0, 0, 1,\n",
              "       1, 0, 0, 0, 0, 1, 0, 0, 1, 0, 1, 0, 1, 1, 1, 1, 0, 0, 1, 1, 1, 1,\n",
              "       1, 1, 0, 1, 1, 0, 1, 0, 1, 1, 1, 0, 1, 1, 1, 1, 0, 1, 1, 1, 1, 0,\n",
              "       0, 0])"
            ]
          },
          "metadata": {},
          "execution_count": 67
        }
      ],
      "source": [
        "%%time\n",
        "ETC.predict(xtest)"
      ]
    },
    {
      "cell_type": "code",
      "execution_count": null,
      "metadata": {
        "colab": {
          "base_uri": "https://localhost:8080/"
        },
        "id": "wZrSei0TImlx",
        "outputId": "734a9a5c-5730-4f80-8afe-7bc303f202dd"
      },
      "outputs": [
        {
          "output_type": "stream",
          "name": "stdout",
          "text": [
            "CPU times: user 2.81 ms, sys: 0 ns, total: 2.81 ms\n",
            "Wall time: 2.61 ms\n"
          ]
        },
        {
          "output_type": "execute_result",
          "data": {
            "text/plain": [
              "array([1, 1, 1, 0, 1, 1, 0, 0, 0, 1, 1, 1, 1, 0, 1, 0, 0, 1, 1, 0, 0, 1,\n",
              "       0, 0, 1, 0, 0, 1, 1, 0, 0, 1, 1, 0, 0, 1, 0, 0, 0, 0, 0, 1, 0, 0,\n",
              "       0, 0, 0, 1, 0, 1, 1, 0, 0, 0, 0, 1, 0, 0, 0, 0, 1, 1, 1, 1, 1, 1,\n",
              "       0, 1, 0, 1, 0, 0, 0, 1, 1, 1, 0, 1, 0, 1, 0, 1, 1, 0, 0, 1, 0, 0,\n",
              "       0, 0, 1, 1, 1, 1, 0, 1, 0, 0, 0, 1, 0, 0, 0, 0, 1, 1, 0, 0, 1, 0,\n",
              "       1, 1, 0, 1, 0, 0, 1, 0, 1, 1, 0, 1, 1, 1, 1, 0, 1, 0, 1, 1, 1, 1,\n",
              "       1, 1, 1, 1, 1, 1, 1, 0, 0, 0, 1, 0, 0, 0, 0, 0, 0, 1, 1, 0, 0, 0,\n",
              "       1, 1, 1, 1, 0, 1, 1, 1, 0, 1, 0, 1, 0, 1, 0, 0, 1, 1, 0, 1, 0, 1,\n",
              "       0, 1, 0, 1, 0, 1, 1, 1, 1, 0, 0, 1, 1, 1, 0, 1, 1, 1, 0, 0, 1, 0,\n",
              "       0, 1, 0, 0, 1, 0, 1, 0, 0, 1, 0, 1, 1, 0, 0, 0, 1, 0, 1, 1, 1, 0,\n",
              "       1, 0, 1, 1, 0, 0, 0, 0, 0, 0, 1, 1, 0, 0, 1, 0, 0, 0, 1, 0, 1, 1,\n",
              "       0, 0, 1, 0, 0, 1, 1, 1, 1, 1, 0, 1, 0, 1, 1, 1, 1, 0, 1, 0, 1, 0,\n",
              "       0, 0, 0, 0, 1, 1, 1, 1, 0, 1, 0, 0, 0, 0, 1, 0, 0, 0, 1, 0, 1, 1,\n",
              "       0, 1, 1, 0, 0, 0, 0, 1, 1, 1, 0, 1, 0, 1, 0, 0, 1, 1, 1, 1, 0, 1,\n",
              "       0, 1, 0, 1, 1, 1, 1, 0, 0, 1, 1, 1, 1, 0, 0, 0, 0, 1, 1, 0, 0, 1,\n",
              "       1, 0, 0, 0, 0, 1, 0, 0, 1, 0, 1, 0, 1, 1, 1, 1, 0, 0, 1, 1, 1, 1,\n",
              "       1, 1, 0, 1, 1, 0, 1, 0, 1, 1, 1, 0, 1, 1, 1, 1, 0, 1, 1, 1, 1, 0,\n",
              "       0, 0])"
            ]
          },
          "metadata": {},
          "execution_count": 68
        }
      ],
      "source": [
        "%%time\n",
        "SGDC.predict(xtest)"
      ]
    },
    {
      "cell_type": "code",
      "execution_count": null,
      "metadata": {
        "colab": {
          "base_uri": "https://localhost:8080/"
        },
        "id": "vf-5CTfvImKX",
        "outputId": "0a2625b7-ec9a-42ac-a497-613f1ef979c3"
      },
      "outputs": [
        {
          "output_type": "stream",
          "name": "stdout",
          "text": [
            "CPU times: user 4.7 ms, sys: 5.72 ms, total: 10.4 ms\n",
            "Wall time: 7.87 ms\n"
          ]
        },
        {
          "output_type": "execute_result",
          "data": {
            "text/plain": [
              "array([1, 1, 1, 0, 1, 1, 0, 0, 0, 1, 1, 1, 1, 0, 1, 0, 0, 1, 1, 0, 0, 1,\n",
              "       0, 0, 1, 1, 0, 1, 1, 0, 0, 1, 1, 0, 0, 1, 0, 0, 0, 0, 0, 1, 0, 0,\n",
              "       0, 0, 0, 1, 0, 1, 1, 0, 0, 1, 0, 1, 0, 0, 0, 0, 1, 1, 1, 1, 1, 1,\n",
              "       0, 1, 0, 1, 0, 0, 0, 1, 1, 1, 0, 1, 0, 1, 0, 1, 1, 0, 0, 1, 0, 0,\n",
              "       0, 0, 1, 1, 1, 1, 0, 1, 1, 0, 0, 1, 0, 0, 0, 0, 1, 1, 0, 0, 1, 0,\n",
              "       1, 1, 0, 1, 0, 0, 1, 0, 1, 1, 0, 1, 1, 1, 1, 0, 1, 0, 1, 1, 1, 1,\n",
              "       1, 1, 1, 1, 1, 1, 1, 0, 0, 0, 1, 0, 1, 0, 0, 0, 0, 1, 1, 0, 0, 0,\n",
              "       1, 1, 1, 1, 0, 1, 1, 1, 0, 1, 0, 1, 0, 1, 0, 0, 1, 1, 0, 1, 0, 1,\n",
              "       0, 1, 0, 1, 0, 1, 1, 1, 1, 0, 0, 1, 1, 1, 0, 1, 1, 1, 1, 0, 1, 0,\n",
              "       0, 1, 0, 0, 1, 1, 1, 0, 0, 1, 0, 1, 1, 0, 0, 0, 1, 0, 1, 1, 1, 0,\n",
              "       1, 0, 1, 1, 0, 0, 0, 0, 0, 0, 1, 1, 0, 0, 1, 0, 0, 0, 1, 0, 1, 1,\n",
              "       0, 0, 1, 0, 0, 1, 1, 1, 1, 1, 0, 1, 0, 1, 1, 1, 1, 0, 1, 0, 1, 0,\n",
              "       0, 0, 0, 0, 1, 1, 1, 1, 0, 1, 0, 0, 0, 0, 1, 0, 0, 0, 1, 0, 1, 1,\n",
              "       0, 1, 1, 1, 0, 0, 0, 1, 1, 1, 0, 1, 0, 1, 0, 0, 1, 1, 1, 1, 0, 1,\n",
              "       0, 1, 0, 1, 1, 1, 1, 0, 0, 1, 1, 1, 1, 0, 0, 0, 0, 1, 1, 0, 0, 1,\n",
              "       1, 0, 0, 0, 0, 1, 0, 0, 1, 0, 1, 0, 1, 1, 1, 1, 0, 0, 1, 1, 1, 1,\n",
              "       1, 1, 0, 1, 1, 0, 1, 0, 1, 1, 1, 0, 1, 1, 1, 1, 0, 1, 1, 1, 1, 0,\n",
              "       0, 0])"
            ]
          },
          "metadata": {},
          "execution_count": 69
        }
      ],
      "source": [
        "%%time\n",
        "MLP.predict(xtest)"
      ]
    },
    {
      "cell_type": "code",
      "execution_count": null,
      "metadata": {
        "colab": {
          "base_uri": "https://localhost:8080/"
        },
        "id": "sz9pJ8ueImJd",
        "outputId": "a1d71ec7-a4a2-41a9-c48c-36a5a506a943"
      },
      "outputs": [
        {
          "output_type": "stream",
          "name": "stdout",
          "text": [
            "CPU times: user 10.7 ms, sys: 690 µs, total: 11.4 ms\n",
            "Wall time: 7.34 ms\n"
          ]
        },
        {
          "output_type": "execute_result",
          "data": {
            "text/plain": [
              "array([1, 1, 1, 0, 1, 1, 0, 0, 0, 0, 1, 1, 1, 0, 1, 0, 0, 1, 1, 0, 0, 1,\n",
              "       0, 0, 1, 1, 0, 1, 1, 0, 0, 1, 1, 0, 0, 1, 0, 0, 0, 0, 0, 1, 0, 0,\n",
              "       0, 0, 0, 1, 0, 1, 1, 0, 0, 1, 0, 1, 0, 0, 0, 0, 1, 1, 1, 1, 1, 1,\n",
              "       0, 1, 0, 1, 0, 0, 0, 1, 1, 1, 0, 0, 0, 1, 0, 1, 1, 0, 0, 1, 0, 0,\n",
              "       0, 0, 1, 1, 1, 1, 0, 1, 1, 0, 0, 1, 0, 0, 0, 0, 0, 1, 0, 0, 1, 0,\n",
              "       1, 1, 0, 1, 0, 0, 1, 0, 1, 1, 0, 1, 1, 1, 1, 0, 1, 0, 1, 1, 1, 1,\n",
              "       1, 1, 1, 1, 1, 1, 1, 0, 0, 0, 1, 0, 1, 0, 0, 0, 0, 1, 1, 0, 0, 0,\n",
              "       1, 1, 1, 1, 0, 1, 1, 1, 0, 1, 0, 1, 0, 1, 0, 0, 1, 1, 0, 1, 0, 1,\n",
              "       0, 1, 0, 1, 0, 1, 1, 1, 0, 0, 0, 1, 1, 1, 0, 1, 1, 1, 1, 0, 1, 0,\n",
              "       0, 1, 0, 0, 1, 1, 1, 0, 0, 1, 0, 1, 1, 0, 0, 0, 1, 0, 1, 1, 1, 0,\n",
              "       1, 0, 1, 1, 0, 0, 0, 0, 0, 0, 1, 1, 0, 0, 1, 0, 0, 0, 0, 0, 1, 1,\n",
              "       0, 0, 1, 0, 0, 1, 1, 1, 1, 1, 0, 1, 0, 1, 1, 1, 1, 0, 1, 0, 1, 0,\n",
              "       0, 0, 0, 0, 1, 1, 1, 1, 0, 1, 0, 0, 0, 0, 1, 0, 0, 0, 1, 0, 1, 1,\n",
              "       0, 1, 1, 1, 0, 0, 0, 1, 1, 1, 0, 1, 0, 1, 0, 0, 1, 1, 1, 1, 0, 1,\n",
              "       0, 1, 0, 1, 1, 1, 1, 0, 0, 1, 1, 1, 1, 0, 0, 0, 0, 1, 1, 0, 0, 1,\n",
              "       1, 0, 0, 0, 0, 1, 0, 0, 1, 0, 1, 0, 1, 1, 1, 1, 0, 0, 1, 1, 1, 1,\n",
              "       1, 1, 0, 1, 1, 0, 1, 0, 1, 1, 1, 0, 1, 1, 1, 1, 0, 1, 1, 1, 1, 0,\n",
              "       0, 0])"
            ]
          },
          "metadata": {},
          "execution_count": 70
        }
      ],
      "source": [
        "%%time\n",
        "HGB.predict(xtest)"
      ]
    },
    {
      "cell_type": "code",
      "execution_count": null,
      "metadata": {
        "colab": {
          "base_uri": "https://localhost:8080/"
        },
        "id": "QLIfggCaImIu",
        "outputId": "77a1b7fa-5893-48a5-e2a2-9cf56e52af26"
      },
      "outputs": [
        {
          "output_type": "stream",
          "name": "stdout",
          "text": [
            "CPU times: user 4.56 ms, sys: 8.08 ms, total: 12.6 ms\n",
            "Wall time: 9.01 ms\n"
          ]
        },
        {
          "output_type": "execute_result",
          "data": {
            "text/plain": [
              "array([1, 1, 1, 0, 1, 1, 0, 0, 0, 0, 1, 1, 1, 0, 1, 0, 0, 1, 1, 0, 0, 1,\n",
              "       0, 0, 1, 1, 0, 1, 1, 0, 0, 1, 1, 0, 0, 1, 0, 0, 0, 0, 0, 1, 0, 0,\n",
              "       0, 0, 0, 1, 0, 1, 1, 0, 0, 1, 0, 1, 0, 0, 0, 0, 1, 1, 1, 1, 1, 1,\n",
              "       0, 1, 0, 1, 0, 0, 0, 1, 1, 1, 0, 0, 0, 1, 0, 1, 1, 0, 0, 1, 0, 0,\n",
              "       0, 0, 1, 1, 1, 1, 0, 1, 1, 0, 0, 1, 0, 0, 0, 0, 0, 1, 0, 0, 1, 0,\n",
              "       1, 1, 0, 1, 0, 0, 1, 0, 1, 1, 0, 1, 1, 1, 1, 0, 1, 0, 1, 1, 1, 1,\n",
              "       1, 1, 1, 1, 1, 1, 1, 0, 0, 0, 1, 0, 1, 0, 0, 0, 0, 1, 1, 0, 0, 0,\n",
              "       1, 1, 1, 1, 0, 1, 1, 1, 0, 1, 0, 1, 0, 1, 0, 0, 1, 1, 0, 1, 0, 1,\n",
              "       0, 1, 0, 1, 0, 1, 1, 1, 0, 0, 0, 1, 1, 1, 0, 1, 1, 1, 1, 0, 1, 0,\n",
              "       0, 0, 0, 0, 1, 1, 1, 0, 0, 1, 0, 1, 1, 0, 0, 0, 1, 0, 1, 1, 1, 0,\n",
              "       1, 0, 1, 1, 0, 0, 0, 0, 0, 0, 1, 1, 0, 0, 1, 0, 0, 0, 1, 0, 1, 1,\n",
              "       0, 0, 1, 0, 0, 1, 1, 1, 1, 1, 0, 1, 0, 1, 1, 1, 1, 0, 1, 0, 1, 0,\n",
              "       0, 0, 0, 0, 1, 1, 1, 1, 0, 1, 0, 0, 0, 0, 1, 0, 0, 0, 1, 0, 1, 1,\n",
              "       0, 1, 1, 1, 0, 0, 0, 1, 1, 1, 0, 1, 0, 1, 0, 0, 1, 1, 1, 1, 0, 1,\n",
              "       0, 1, 0, 1, 1, 1, 1, 0, 0, 1, 1, 1, 1, 0, 0, 0, 0, 1, 1, 0, 0, 1,\n",
              "       1, 0, 0, 0, 0, 1, 0, 0, 1, 0, 1, 0, 1, 1, 1, 1, 0, 0, 1, 1, 1, 1,\n",
              "       1, 1, 0, 1, 1, 0, 1, 0, 1, 1, 1, 0, 1, 1, 1, 1, 0, 1, 1, 1, 1, 0,\n",
              "       0, 0])"
            ]
          },
          "metadata": {},
          "execution_count": 71
        }
      ],
      "source": [
        "%%time\n",
        "LGBM.predict(xtest)"
      ]
    },
    {
      "cell_type": "code",
      "execution_count": null,
      "metadata": {
        "colab": {
          "base_uri": "https://localhost:8080/"
        },
        "id": "bfQWvmdlImHR",
        "outputId": "1a2f84d4-e430-40f9-fc58-1f3196b15f21"
      },
      "outputs": [
        {
          "output_type": "stream",
          "name": "stdout",
          "text": [
            "CPU times: user 2.73 ms, sys: 2.95 ms, total: 5.68 ms\n",
            "Wall time: 3.64 ms\n"
          ]
        },
        {
          "output_type": "execute_result",
          "data": {
            "text/plain": [
              "array([1, 1, 1, 0, 1, 1, 0, 0, 0, 1, 1, 1, 1, 0, 1, 0, 0, 1, 1, 0, 0, 1,\n",
              "       0, 0, 1, 1, 0, 1, 1, 0, 0, 1, 1, 0, 0, 1, 0, 0, 0, 0, 0, 1, 0, 0,\n",
              "       0, 0, 0, 1, 0, 1, 1, 0, 0, 1, 0, 1, 0, 0, 0, 0, 1, 1, 1, 1, 1, 1,\n",
              "       0, 1, 0, 1, 0, 0, 0, 1, 1, 1, 0, 1, 0, 1, 0, 1, 1, 0, 0, 1, 0, 0,\n",
              "       0, 0, 1, 1, 1, 1, 0, 1, 1, 0, 0, 1, 0, 0, 0, 0, 1, 1, 0, 0, 1, 0,\n",
              "       1, 1, 0, 1, 0, 0, 1, 0, 1, 1, 0, 1, 1, 1, 1, 0, 1, 0, 1, 1, 1, 1,\n",
              "       1, 1, 1, 1, 1, 1, 1, 0, 0, 0, 1, 0, 1, 0, 0, 0, 0, 1, 1, 0, 0, 0,\n",
              "       1, 1, 1, 1, 0, 1, 1, 1, 0, 1, 0, 1, 0, 1, 0, 0, 1, 1, 0, 1, 0, 1,\n",
              "       0, 1, 0, 1, 0, 1, 1, 1, 1, 0, 0, 1, 1, 1, 0, 1, 1, 1, 1, 0, 1, 0,\n",
              "       0, 1, 0, 0, 1, 1, 1, 0, 0, 1, 0, 1, 1, 0, 0, 0, 1, 0, 1, 1, 1, 0,\n",
              "       1, 0, 1, 1, 0, 0, 0, 0, 0, 0, 1, 1, 0, 0, 1, 0, 0, 0, 1, 0, 1, 1,\n",
              "       0, 0, 1, 0, 0, 1, 1, 1, 1, 1, 0, 1, 0, 1, 1, 1, 1, 0, 1, 0, 1, 0,\n",
              "       0, 0, 0, 0, 1, 1, 1, 1, 0, 1, 0, 0, 0, 0, 1, 0, 0, 0, 1, 0, 1, 1,\n",
              "       0, 1, 1, 1, 0, 0, 0, 1, 1, 1, 0, 1, 0, 1, 0, 0, 1, 1, 1, 1, 0, 1,\n",
              "       0, 1, 0, 1, 1, 1, 1, 0, 0, 1, 1, 1, 1, 0, 0, 0, 0, 1, 1, 0, 0, 1,\n",
              "       1, 0, 0, 0, 0, 1, 0, 0, 1, 0, 1, 0, 1, 1, 1, 1, 0, 0, 1, 1, 1, 1,\n",
              "       1, 1, 0, 1, 1, 0, 1, 0, 1, 1, 1, 0, 1, 1, 1, 1, 0, 1, 1, 1, 1, 0,\n",
              "       0, 0])"
            ]
          },
          "metadata": {},
          "execution_count": 72
        }
      ],
      "source": [
        "%%time\n",
        "GBC.predict(xtest)"
      ]
    },
    {
      "cell_type": "code",
      "execution_count": null,
      "metadata": {
        "colab": {
          "base_uri": "https://localhost:8080/"
        },
        "id": "0ulgvSnoImGR",
        "outputId": "95810412-b088-4beb-b920-00e516e8e9ac"
      },
      "outputs": [
        {
          "output_type": "stream",
          "name": "stdout",
          "text": [
            "CPU times: user 16.5 ms, sys: 8.14 ms, total: 24.6 ms\n",
            "Wall time: 12.7 ms\n"
          ]
        },
        {
          "output_type": "execute_result",
          "data": {
            "text/plain": [
              "array([1, 1, 1, 0, 1, 1, 0, 0, 0, 1, 1, 1, 1, 0, 1, 0, 0, 1, 1, 0, 0, 1,\n",
              "       0, 0, 1, 1, 0, 1, 1, 0, 0, 1, 1, 0, 0, 1, 0, 0, 0, 0, 0, 1, 0, 0,\n",
              "       0, 0, 0, 1, 0, 1, 1, 0, 0, 1, 0, 1, 0, 0, 0, 0, 1, 1, 1, 1, 1, 1,\n",
              "       0, 1, 0, 1, 0, 0, 0, 1, 1, 1, 0, 1, 0, 1, 0, 1, 1, 0, 0, 1, 0, 0,\n",
              "       0, 0, 1, 1, 1, 1, 0, 1, 1, 0, 0, 1, 0, 0, 0, 0, 1, 1, 0, 0, 1, 0,\n",
              "       1, 1, 0, 1, 0, 0, 1, 0, 1, 1, 0, 1, 1, 1, 1, 0, 1, 0, 1, 1, 1, 1,\n",
              "       1, 1, 1, 1, 1, 1, 1, 0, 0, 0, 1, 0, 1, 0, 0, 0, 0, 1, 1, 0, 0, 0,\n",
              "       1, 1, 1, 1, 0, 1, 1, 1, 0, 1, 0, 1, 0, 1, 0, 0, 0, 1, 0, 1, 0, 1,\n",
              "       0, 1, 0, 1, 0, 1, 1, 1, 1, 0, 0, 1, 1, 1, 0, 1, 1, 1, 1, 0, 1, 0,\n",
              "       0, 1, 0, 0, 1, 1, 1, 0, 0, 1, 0, 1, 1, 0, 0, 0, 1, 0, 1, 1, 1, 0,\n",
              "       1, 0, 1, 1, 0, 0, 0, 0, 0, 0, 1, 1, 0, 0, 1, 0, 0, 0, 1, 0, 1, 1,\n",
              "       0, 0, 1, 0, 0, 1, 1, 1, 1, 1, 0, 1, 0, 1, 1, 1, 1, 0, 1, 0, 1, 0,\n",
              "       0, 0, 0, 0, 1, 1, 1, 1, 0, 1, 0, 0, 0, 0, 1, 0, 0, 0, 1, 0, 1, 1,\n",
              "       0, 1, 1, 1, 0, 0, 0, 1, 1, 1, 0, 1, 0, 1, 0, 0, 1, 1, 1, 1, 0, 1,\n",
              "       0, 1, 0, 1, 1, 1, 1, 0, 0, 1, 1, 1, 1, 0, 0, 0, 0, 1, 1, 0, 0, 1,\n",
              "       1, 0, 0, 0, 0, 1, 0, 0, 1, 0, 1, 0, 1, 1, 1, 1, 0, 0, 1, 1, 1, 1,\n",
              "       1, 1, 0, 1, 1, 0, 1, 0, 1, 1, 1, 0, 1, 1, 1, 1, 0, 1, 1, 1, 1, 0,\n",
              "       0, 0])"
            ]
          },
          "metadata": {},
          "execution_count": 73
        }
      ],
      "source": [
        "%%time\n",
        "ABC.predict(xtest)"
      ]
    },
    {
      "cell_type": "code",
      "execution_count": null,
      "metadata": {
        "colab": {
          "base_uri": "https://localhost:8080/"
        },
        "id": "vhf6E-KDImEn",
        "outputId": "2c779640-77bb-4bba-de67-c0d62429e528"
      },
      "outputs": [
        {
          "output_type": "stream",
          "name": "stdout",
          "text": [
            "CPU times: user 2.03 ms, sys: 5 µs, total: 2.04 ms\n",
            "Wall time: 2.05 ms\n"
          ]
        },
        {
          "output_type": "execute_result",
          "data": {
            "text/plain": [
              "array([1, 1, 1, 0, 1, 1, 0, 0, 0, 0, 1, 1, 1, 0, 1, 0, 0, 1, 1, 0, 0, 1,\n",
              "       0, 0, 0, 0, 0, 1, 0, 0, 0, 1, 1, 0, 0, 1, 0, 0, 0, 0, 0, 1, 0, 0,\n",
              "       0, 0, 0, 1, 0, 1, 1, 0, 0, 0, 0, 1, 0, 0, 0, 0, 1, 1, 1, 1, 1, 1,\n",
              "       0, 1, 0, 1, 0, 0, 0, 1, 0, 1, 0, 0, 0, 1, 0, 1, 1, 0, 0, 1, 0, 0,\n",
              "       0, 0, 1, 0, 0, 1, 0, 1, 1, 0, 0, 1, 0, 0, 0, 0, 0, 1, 0, 0, 1, 0,\n",
              "       1, 1, 0, 1, 0, 0, 0, 0, 1, 1, 0, 1, 1, 1, 1, 0, 1, 0, 1, 1, 1, 1,\n",
              "       1, 1, 1, 1, 1, 1, 1, 0, 0, 0, 1, 0, 1, 0, 0, 0, 0, 1, 1, 0, 0, 0,\n",
              "       1, 1, 1, 1, 0, 1, 1, 1, 0, 1, 0, 1, 0, 1, 0, 0, 1, 1, 0, 1, 0, 1,\n",
              "       0, 1, 0, 1, 0, 1, 1, 1, 0, 0, 0, 1, 1, 1, 0, 1, 0, 1, 1, 0, 1, 0,\n",
              "       0, 0, 0, 0, 1, 1, 1, 0, 0, 1, 0, 1, 0, 0, 0, 0, 1, 0, 1, 1, 1, 0,\n",
              "       1, 0, 1, 1, 0, 0, 0, 0, 0, 0, 1, 1, 0, 0, 1, 0, 0, 0, 1, 0, 1, 0,\n",
              "       0, 0, 1, 0, 0, 1, 1, 1, 1, 1, 0, 1, 0, 1, 1, 1, 1, 0, 1, 0, 1, 0,\n",
              "       0, 0, 0, 0, 1, 1, 1, 1, 0, 0, 0, 0, 0, 0, 1, 0, 0, 0, 1, 0, 1, 1,\n",
              "       0, 0, 1, 1, 0, 0, 0, 1, 1, 1, 0, 1, 0, 1, 0, 0, 1, 1, 1, 1, 0, 1,\n",
              "       0, 1, 0, 1, 1, 1, 1, 0, 0, 1, 1, 1, 1, 0, 0, 0, 0, 1, 1, 0, 0, 1,\n",
              "       1, 0, 0, 0, 0, 0, 0, 0, 1, 0, 1, 0, 1, 1, 1, 1, 0, 0, 1, 1, 1, 1,\n",
              "       1, 0, 0, 1, 1, 0, 1, 0, 1, 1, 1, 0, 0, 1, 1, 1, 0, 1, 1, 1, 1, 0,\n",
              "       0, 0])"
            ]
          },
          "metadata": {},
          "execution_count": 74
        }
      ],
      "source": [
        "%%time\n",
        "DT.predict(xtest)"
      ]
    },
    {
      "cell_type": "code",
      "execution_count": null,
      "metadata": {
        "colab": {
          "base_uri": "https://localhost:8080/"
        },
        "id": "zoqYegDYIlxP",
        "outputId": "178a845b-7c95-44c4-f8f1-7ce0e31554ce"
      },
      "outputs": [
        {
          "output_type": "stream",
          "name": "stdout",
          "text": [
            "CPU times: user 29.1 ms, sys: 10.8 ms, total: 39.9 ms\n",
            "Wall time: 30.2 ms\n"
          ]
        },
        {
          "output_type": "execute_result",
          "data": {
            "text/plain": [
              "array([1, 1, 1, 0, 1, 1, 0, 0, 0, 1, 1, 1, 1, 0, 1, 0, 0, 1, 1, 0, 0, 1,\n",
              "       0, 0, 1, 1, 0, 1, 1, 0, 0, 1, 1, 0, 0, 1, 0, 0, 0, 0, 0, 1, 0, 0,\n",
              "       0, 0, 0, 1, 0, 1, 1, 0, 0, 1, 0, 1, 0, 0, 0, 0, 1, 1, 1, 1, 1, 1,\n",
              "       0, 1, 0, 1, 0, 0, 0, 1, 1, 1, 0, 1, 0, 1, 0, 1, 1, 0, 0, 1, 0, 0,\n",
              "       0, 0, 1, 1, 1, 1, 0, 1, 1, 0, 0, 1, 0, 0, 0, 0, 1, 1, 0, 0, 1, 0,\n",
              "       1, 1, 0, 1, 0, 0, 1, 0, 1, 1, 0, 1, 1, 1, 1, 0, 1, 0, 1, 1, 1, 1,\n",
              "       1, 1, 1, 1, 1, 1, 1, 0, 0, 0, 1, 0, 1, 0, 0, 0, 0, 1, 1, 0, 0, 0,\n",
              "       1, 1, 1, 1, 0, 1, 1, 1, 0, 1, 0, 1, 0, 1, 0, 0, 1, 1, 0, 1, 0, 1,\n",
              "       0, 1, 0, 1, 0, 1, 1, 1, 1, 0, 0, 1, 1, 1, 0, 1, 1, 1, 1, 0, 1, 0,\n",
              "       0, 1, 0, 0, 1, 1, 1, 0, 0, 1, 0, 1, 1, 0, 0, 0, 1, 0, 1, 1, 1, 0,\n",
              "       1, 0, 1, 1, 0, 0, 0, 0, 0, 0, 1, 1, 0, 0, 1, 0, 0, 0, 1, 0, 1, 1,\n",
              "       0, 1, 1, 0, 0, 1, 1, 1, 1, 1, 0, 1, 0, 1, 1, 1, 1, 0, 1, 0, 1, 0,\n",
              "       0, 0, 0, 0, 1, 1, 1, 1, 0, 1, 0, 0, 0, 0, 1, 0, 0, 0, 1, 0, 1, 1,\n",
              "       0, 1, 1, 1, 0, 0, 0, 1, 1, 1, 0, 1, 0, 1, 0, 0, 1, 1, 1, 1, 0, 1,\n",
              "       0, 1, 0, 1, 1, 1, 1, 0, 0, 1, 1, 1, 1, 0, 0, 0, 0, 1, 1, 0, 0, 1,\n",
              "       1, 0, 0, 0, 0, 1, 0, 0, 1, 0, 1, 0, 1, 1, 1, 1, 0, 0, 1, 1, 1, 1,\n",
              "       1, 1, 0, 1, 1, 0, 1, 0, 1, 1, 1, 0, 1, 1, 1, 1, 0, 1, 1, 1, 1, 0,\n",
              "       0, 0])"
            ]
          },
          "metadata": {},
          "execution_count": 75
        }
      ],
      "source": [
        "%%time\n",
        "KNNC.predict(xtest)"
      ]
    },
    {
      "cell_type": "code",
      "execution_count": null,
      "metadata": {
        "colab": {
          "base_uri": "https://localhost:8080/"
        },
        "id": "qQeao9hHIluf",
        "outputId": "d00d4fef-8bf1-4798-8a37-2f094571c55a"
      },
      "outputs": [
        {
          "output_type": "stream",
          "name": "stdout",
          "text": [
            "CPU times: user 4 ms, sys: 2.24 ms, total: 6.23 ms\n",
            "Wall time: 3.65 ms\n"
          ]
        },
        {
          "output_type": "execute_result",
          "data": {
            "text/plain": [
              "array([1, 1, 1, 0, 1, 1, 0, 0, 0, 1, 1, 1, 1, 0, 1, 0, 0, 1, 1, 0, 0, 1,\n",
              "       0, 0, 1, 1, 0, 1, 1, 0, 0, 1, 1, 0, 0, 1, 0, 0, 0, 0, 0, 1, 0, 0,\n",
              "       0, 0, 0, 1, 0, 1, 1, 0, 0, 1, 0, 1, 0, 0, 0, 0, 1, 1, 1, 1, 1, 1,\n",
              "       0, 1, 0, 1, 0, 0, 0, 1, 1, 1, 0, 1, 0, 1, 0, 1, 1, 0, 0, 1, 0, 0,\n",
              "       0, 0, 1, 1, 1, 1, 0, 1, 1, 0, 0, 1, 0, 0, 0, 0, 1, 1, 0, 0, 1, 0,\n",
              "       1, 1, 0, 1, 0, 0, 1, 0, 1, 1, 0, 1, 1, 1, 1, 0, 1, 0, 1, 1, 1, 1,\n",
              "       1, 1, 1, 1, 1, 1, 1, 0, 0, 0, 1, 0, 1, 0, 0, 0, 0, 1, 1, 0, 0, 0,\n",
              "       1, 1, 1, 1, 0, 1, 1, 1, 0, 1, 0, 1, 0, 1, 0, 0, 1, 1, 0, 1, 0, 1,\n",
              "       0, 1, 0, 1, 0, 1, 1, 1, 1, 0, 0, 1, 1, 1, 0, 1, 1, 1, 1, 0, 1, 0,\n",
              "       0, 1, 0, 0, 1, 1, 1, 0, 0, 1, 0, 1, 1, 0, 0, 0, 1, 0, 1, 1, 1, 0,\n",
              "       1, 0, 1, 1, 0, 0, 0, 0, 0, 0, 1, 1, 0, 0, 1, 0, 0, 0, 1, 0, 1, 1,\n",
              "       0, 0, 1, 0, 0, 1, 1, 1, 1, 1, 0, 1, 0, 1, 1, 1, 1, 0, 1, 0, 1, 0,\n",
              "       0, 0, 0, 0, 1, 1, 1, 1, 0, 1, 0, 0, 0, 0, 1, 0, 0, 0, 1, 0, 1, 1,\n",
              "       0, 1, 1, 1, 0, 0, 0, 1, 1, 1, 0, 1, 0, 1, 0, 0, 1, 1, 1, 1, 0, 1,\n",
              "       0, 1, 0, 1, 1, 1, 1, 0, 0, 1, 1, 1, 1, 0, 0, 0, 0, 1, 1, 0, 0, 1,\n",
              "       1, 0, 0, 0, 0, 1, 0, 0, 1, 0, 1, 0, 1, 1, 1, 1, 0, 0, 1, 1, 1, 1,\n",
              "       1, 1, 0, 1, 1, 0, 1, 0, 1, 1, 1, 0, 1, 1, 1, 1, 0, 1, 1, 1, 1, 0,\n",
              "       0, 0])"
            ]
          },
          "metadata": {},
          "execution_count": 76
        }
      ],
      "source": [
        "%%time\n",
        "GNB.predict(xtest)"
      ]
    },
    {
      "cell_type": "code",
      "execution_count": null,
      "metadata": {
        "id": "vHRT6pGaIlrU"
      },
      "outputs": [],
      "source": []
    },
    {
      "cell_type": "code",
      "execution_count": null,
      "metadata": {
        "id": "mgPpZdXGIlom"
      },
      "outputs": [],
      "source": []
    },
    {
      "cell_type": "code",
      "execution_count": null,
      "metadata": {
        "id": "Ntr8gUMAIlkw"
      },
      "outputs": [],
      "source": []
    },
    {
      "cell_type": "markdown",
      "metadata": {
        "id": "INQjjUSHP5oo"
      },
      "source": [
        "# ANN"
      ]
    },
    {
      "cell_type": "code",
      "execution_count": null,
      "metadata": {
        "id": "NTHTXPCBP63j"
      },
      "outputs": [],
      "source": [
        "from sklearn.preprocessing import StandardScaler, LabelEncoder\n",
        "sc=StandardScaler()\n",
        "sc.fit(xtrain)\n",
        "\n",
        "xtrain_sc=sc.transform(xtrain)\n",
        "xtest_sc=sc.transform(xtest)\n",
        "\n",
        "xtrain_sc_df=pd.DataFrame(xtrain_sc,columns=xtrain.columns)\n",
        "xtest_sc_df=pd.DataFrame(xtest_sc,columns=xtrain.columns)\n",
        "\n",
        "xtrain=xtrain_sc_df\n",
        "xtest=xtest_sc_df"
      ]
    },
    {
      "cell_type": "code",
      "execution_count": null,
      "metadata": {
        "colab": {
          "base_uri": "https://localhost:8080/"
        },
        "id": "rFJNxaa6QEPL",
        "outputId": "ec22982a-3331-4485-fa5b-1b2d3469774f"
      },
      "outputs": [
        {
          "output_type": "stream",
          "name": "stdout",
          "text": [
            "Looking in indexes: https://pypi.org/simple, https://us-python.pkg.dev/colab-wheels/public/simple/\n",
            "Collecting keras-tuner\n",
            "  Downloading keras_tuner-1.1.3-py3-none-any.whl (135 kB)\n",
            "\u001b[2K     \u001b[90m━━━━━━━━━━━━━━━━━━━━━━━━━━━━━━━━━━━━━━\u001b[0m \u001b[32m135.7/135.7 KB\u001b[0m \u001b[31m12.1 MB/s\u001b[0m eta \u001b[36m0:00:00\u001b[0m\n",
            "\u001b[?25hCollecting kt-legacy\n",
            "  Downloading kt_legacy-1.0.4-py3-none-any.whl (9.6 kB)\n",
            "Requirement already satisfied: ipython in /usr/local/lib/python3.8/dist-packages (from keras-tuner) (7.9.0)\n",
            "Requirement already satisfied: requests in /usr/local/lib/python3.8/dist-packages (from keras-tuner) (2.25.1)\n",
            "Requirement already satisfied: packaging in /usr/local/lib/python3.8/dist-packages (from keras-tuner) (21.3)\n",
            "Requirement already satisfied: numpy in /usr/local/lib/python3.8/dist-packages (from keras-tuner) (1.21.6)\n",
            "Requirement already satisfied: tensorboard in /usr/local/lib/python3.8/dist-packages (from keras-tuner) (2.9.1)\n",
            "Requirement already satisfied: prompt-toolkit<2.1.0,>=2.0.0 in /usr/local/lib/python3.8/dist-packages (from ipython->keras-tuner) (2.0.10)\n",
            "Requirement already satisfied: backcall in /usr/local/lib/python3.8/dist-packages (from ipython->keras-tuner) (0.2.0)\n",
            "Collecting jedi>=0.10\n",
            "  Downloading jedi-0.18.2-py2.py3-none-any.whl (1.6 MB)\n",
            "\u001b[2K     \u001b[90m━━━━━━━━━━━━━━━━━━━━━━━━━━━━━━━━━━━━━━━━\u001b[0m \u001b[32m1.6/1.6 MB\u001b[0m \u001b[31m77.4 MB/s\u001b[0m eta \u001b[36m0:00:00\u001b[0m\n",
            "\u001b[?25hRequirement already satisfied: traitlets>=4.2 in /usr/local/lib/python3.8/dist-packages (from ipython->keras-tuner) (5.7.1)\n",
            "Requirement already satisfied: pygments in /usr/local/lib/python3.8/dist-packages (from ipython->keras-tuner) (2.6.1)\n",
            "Requirement already satisfied: pickleshare in /usr/local/lib/python3.8/dist-packages (from ipython->keras-tuner) (0.7.5)\n",
            "Requirement already satisfied: setuptools>=18.5 in /usr/local/lib/python3.8/dist-packages (from ipython->keras-tuner) (57.4.0)\n",
            "Requirement already satisfied: decorator in /usr/local/lib/python3.8/dist-packages (from ipython->keras-tuner) (4.4.2)\n",
            "Requirement already satisfied: pexpect in /usr/local/lib/python3.8/dist-packages (from ipython->keras-tuner) (4.8.0)\n",
            "Requirement already satisfied: pyparsing!=3.0.5,>=2.0.2 in /usr/local/lib/python3.8/dist-packages (from packaging->keras-tuner) (3.0.9)\n",
            "Requirement already satisfied: chardet<5,>=3.0.2 in /usr/local/lib/python3.8/dist-packages (from requests->keras-tuner) (4.0.0)\n",
            "Requirement already satisfied: certifi>=2017.4.17 in /usr/local/lib/python3.8/dist-packages (from requests->keras-tuner) (2022.12.7)\n",
            "Requirement already satisfied: idna<3,>=2.5 in /usr/local/lib/python3.8/dist-packages (from requests->keras-tuner) (2.10)\n",
            "Requirement already satisfied: urllib3<1.27,>=1.21.1 in /usr/local/lib/python3.8/dist-packages (from requests->keras-tuner) (1.24.3)\n",
            "Requirement already satisfied: google-auth-oauthlib<0.5,>=0.4.1 in /usr/local/lib/python3.8/dist-packages (from tensorboard->keras-tuner) (0.4.6)\n",
            "Requirement already satisfied: protobuf<3.20,>=3.9.2 in /usr/local/lib/python3.8/dist-packages (from tensorboard->keras-tuner) (3.19.6)\n",
            "Requirement already satisfied: tensorboard-plugin-wit>=1.6.0 in /usr/local/lib/python3.8/dist-packages (from tensorboard->keras-tuner) (1.8.1)\n",
            "Requirement already satisfied: werkzeug>=1.0.1 in /usr/local/lib/python3.8/dist-packages (from tensorboard->keras-tuner) (1.0.1)\n",
            "Requirement already satisfied: absl-py>=0.4 in /usr/local/lib/python3.8/dist-packages (from tensorboard->keras-tuner) (1.3.0)\n",
            "Requirement already satisfied: markdown>=2.6.8 in /usr/local/lib/python3.8/dist-packages (from tensorboard->keras-tuner) (3.4.1)\n",
            "Requirement already satisfied: google-auth<3,>=1.6.3 in /usr/local/lib/python3.8/dist-packages (from tensorboard->keras-tuner) (2.16.0)\n",
            "Requirement already satisfied: grpcio>=1.24.3 in /usr/local/lib/python3.8/dist-packages (from tensorboard->keras-tuner) (1.51.1)\n",
            "Requirement already satisfied: wheel>=0.26 in /usr/local/lib/python3.8/dist-packages (from tensorboard->keras-tuner) (0.38.4)\n",
            "Requirement already satisfied: tensorboard-data-server<0.7.0,>=0.6.0 in /usr/local/lib/python3.8/dist-packages (from tensorboard->keras-tuner) (0.6.1)\n",
            "Requirement already satisfied: rsa<5,>=3.1.4 in /usr/local/lib/python3.8/dist-packages (from google-auth<3,>=1.6.3->tensorboard->keras-tuner) (4.9)\n",
            "Requirement already satisfied: pyasn1-modules>=0.2.1 in /usr/local/lib/python3.8/dist-packages (from google-auth<3,>=1.6.3->tensorboard->keras-tuner) (0.2.8)\n",
            "Requirement already satisfied: six>=1.9.0 in /usr/local/lib/python3.8/dist-packages (from google-auth<3,>=1.6.3->tensorboard->keras-tuner) (1.15.0)\n",
            "Requirement already satisfied: cachetools<6.0,>=2.0.0 in /usr/local/lib/python3.8/dist-packages (from google-auth<3,>=1.6.3->tensorboard->keras-tuner) (5.2.1)\n",
            "Requirement already satisfied: requests-oauthlib>=0.7.0 in /usr/local/lib/python3.8/dist-packages (from google-auth-oauthlib<0.5,>=0.4.1->tensorboard->keras-tuner) (1.3.1)\n",
            "Requirement already satisfied: parso<0.9.0,>=0.8.0 in /usr/local/lib/python3.8/dist-packages (from jedi>=0.10->ipython->keras-tuner) (0.8.3)\n",
            "Requirement already satisfied: importlib-metadata>=4.4 in /usr/local/lib/python3.8/dist-packages (from markdown>=2.6.8->tensorboard->keras-tuner) (6.0.0)\n",
            "Requirement already satisfied: wcwidth in /usr/local/lib/python3.8/dist-packages (from prompt-toolkit<2.1.0,>=2.0.0->ipython->keras-tuner) (0.2.5)\n",
            "Requirement already satisfied: ptyprocess>=0.5 in /usr/local/lib/python3.8/dist-packages (from pexpect->ipython->keras-tuner) (0.7.0)\n",
            "Requirement already satisfied: zipp>=0.5 in /usr/local/lib/python3.8/dist-packages (from importlib-metadata>=4.4->markdown>=2.6.8->tensorboard->keras-tuner) (3.11.0)\n",
            "Requirement already satisfied: pyasn1<0.5.0,>=0.4.6 in /usr/local/lib/python3.8/dist-packages (from pyasn1-modules>=0.2.1->google-auth<3,>=1.6.3->tensorboard->keras-tuner) (0.4.8)\n",
            "Requirement already satisfied: oauthlib>=3.0.0 in /usr/local/lib/python3.8/dist-packages (from requests-oauthlib>=0.7.0->google-auth-oauthlib<0.5,>=0.4.1->tensorboard->keras-tuner) (3.2.2)\n",
            "Installing collected packages: kt-legacy, jedi, keras-tuner\n",
            "Successfully installed jedi-0.18.2 keras-tuner-1.1.3 kt-legacy-1.0.4\n"
          ]
        }
      ],
      "source": [
        "!pip install keras-tuner"
      ]
    },
    {
      "cell_type": "code",
      "execution_count": null,
      "metadata": {
        "id": "h1awMJbWQSSz"
      },
      "outputs": [],
      "source": [
        "from tensorflow import keras\n",
        "from tensorflow.keras import layers\n",
        "from keras_tuner.tuners import RandomSearch\n",
        "import tensorflow as tf"
      ]
    },
    {
      "cell_type": "code",
      "execution_count": null,
      "metadata": {
        "id": "UfkYfMbYQYR0"
      },
      "outputs": [],
      "source": [
        "def build_model(hp):\n",
        "    model = keras.Sequential()\n",
        "    for i in range(hp.Int('num_layers', 2, 20)):\n",
        "        model.add(layers.Dense(units=hp.Int('units_' + str(i),\n",
        "                                            min_value=32,\n",
        "                                            max_value=512,\n",
        "                                            step=32),\n",
        "                               activation='relu'))\n",
        "    model.add(layers.Dense(1, activation='sigmoid'))\n",
        "    model.compile(\n",
        "        optimizer=keras.optimizers.Adam(\n",
        "            hp.Choice('learning_rate', [1e-2, 1e-3, 1e-4])),\n",
        "        loss='binary_crossentropy',\n",
        "        metrics=['accuracy'])\n",
        "    return model"
      ]
    },
    {
      "cell_type": "code",
      "execution_count": null,
      "metadata": {
        "id": "gRcTey36QZa2"
      },
      "outputs": [],
      "source": [
        "tuner = RandomSearch(\n",
        "    build_model,\n",
        "    objective='val_accuracy',\n",
        "    max_trials=15,\n",
        "    executions_per_trial=1,\n",
        "     directory='Typhoid',\n",
        "    project_name='Typhoid')"
      ]
    },
    {
      "cell_type": "code",
      "execution_count": null,
      "metadata": {
        "colab": {
          "base_uri": "https://localhost:8080/"
        },
        "id": "m4TH5cUcQa-W",
        "outputId": "1f998eb0-42ae-4e43-e0f0-a9330f30c85d"
      },
      "outputs": [
        {
          "output_type": "stream",
          "name": "stdout",
          "text": [
            "Search space summary\n",
            "Default search space size: 4\n",
            "num_layers (Int)\n",
            "{'default': None, 'conditions': [], 'min_value': 2, 'max_value': 20, 'step': 1, 'sampling': None}\n",
            "units_0 (Int)\n",
            "{'default': None, 'conditions': [], 'min_value': 32, 'max_value': 512, 'step': 32, 'sampling': None}\n",
            "units_1 (Int)\n",
            "{'default': None, 'conditions': [], 'min_value': 32, 'max_value': 512, 'step': 32, 'sampling': None}\n",
            "learning_rate (Choice)\n",
            "{'default': 0.01, 'conditions': [], 'values': [0.01, 0.001, 0.0001], 'ordered': True}\n"
          ]
        }
      ],
      "source": [
        "tuner.search_space_summary()"
      ]
    },
    {
      "cell_type": "code",
      "execution_count": null,
      "metadata": {
        "id": "fvpwIMIRQcae",
        "colab": {
          "base_uri": "https://localhost:8080/"
        },
        "outputId": "76cf6833-26b5-4c73-d39b-48b1a88b931b"
      },
      "outputs": [
        {
          "output_type": "stream",
          "name": "stdout",
          "text": [
            "Trial 15 Complete [00h 00m 14s]\n",
            "val_accuracy: 0.982300877571106\n",
            "\n",
            "Best val_accuracy So Far: 0.991150438785553\n",
            "Total elapsed time: 00h 05m 37s\n"
          ]
        }
      ],
      "source": [
        "tuner.search(xtrain, ytrain,\n",
        "             epochs=50,\n",
        "             validation_split=0.2,#validation_data=(xtest, ytest)\n",
        "             )"
      ]
    },
    {
      "cell_type": "code",
      "execution_count": null,
      "metadata": {
        "id": "4fa-JgmYQcXX",
        "colab": {
          "base_uri": "https://localhost:8080/"
        },
        "outputId": "ef34bbcf-909c-475d-f745-932a88f9a455"
      },
      "outputs": [
        {
          "output_type": "stream",
          "name": "stdout",
          "text": [
            "Results summary\n",
            "Results in Typhoid/Typhoid\n",
            "Showing 1 best trials\n",
            "<keras_tuner.engine.objective.Objective object at 0x7f3a1bc5f1f0>\n",
            "Trial summary\n",
            "Hyperparameters:\n",
            "num_layers: 4\n",
            "units_0: 64\n",
            "units_1: 352\n",
            "learning_rate: 0.01\n",
            "units_2: 352\n",
            "units_3: 352\n",
            "units_4: 384\n",
            "units_5: 128\n",
            "units_6: 320\n",
            "units_7: 320\n",
            "units_8: 64\n",
            "units_9: 416\n",
            "units_10: 64\n",
            "Score: 0.991150438785553\n"
          ]
        }
      ],
      "source": [
        "tuner.results_summary(num_trials=1) "
      ]
    },
    {
      "cell_type": "code",
      "execution_count": null,
      "metadata": {
        "id": "osVGpCz-QcU7"
      },
      "outputs": [],
      "source": [
        "besthp=tuner.get_best_hyperparameters(num_trials=1)[0]  "
      ]
    },
    {
      "cell_type": "code",
      "execution_count": null,
      "metadata": {
        "id": "B52ybCDmQcSK",
        "colab": {
          "base_uri": "https://localhost:8080/"
        },
        "outputId": "66913384-97c7-4092-bc23-2d30201f9777"
      },
      "outputs": [
        {
          "output_type": "execute_result",
          "data": {
            "text/plain": [
              "<keras_tuner.engine.hyperparameters.HyperParameters at 0x7f3a7382b5b0>"
            ]
          },
          "metadata": {},
          "execution_count": 86
        }
      ],
      "source": [
        "besthp"
      ]
    },
    {
      "cell_type": "code",
      "execution_count": null,
      "metadata": {
        "id": "UbsSo2ypQcPV",
        "colab": {
          "base_uri": "https://localhost:8080/"
        },
        "outputId": "8b8dc66b-0a50-497a-9343-bcb032ca84b6"
      },
      "outputs": [
        {
          "output_type": "stream",
          "name": "stdout",
          "text": [
            "0.01\n"
          ]
        }
      ],
      "source": [
        "print(besthp.get('learning_rate'))"
      ]
    },
    {
      "cell_type": "code",
      "execution_count": null,
      "metadata": {
        "id": "fEnKH-T9QcMl"
      },
      "outputs": [],
      "source": [
        "model=tuner.hypermodel.build(besthp)"
      ]
    },
    {
      "cell_type": "code",
      "execution_count": null,
      "metadata": {
        "id": "IQYp2FkvPqrp"
      },
      "outputs": [],
      "source": []
    },
    {
      "cell_type": "code",
      "execution_count": null,
      "metadata": {
        "id": "M8rixoxCMz7_",
        "colab": {
          "base_uri": "https://localhost:8080/",
          "height": 70
        },
        "outputId": "9c8702a2-e74b-443c-e4db-89fd755ac764"
      },
      "outputs": [
        {
          "output_type": "execute_result",
          "data": {
            "text/plain": [
              "'\\nclass MyThresholdCallback(tf.keras.callbacks.Callback):\\n    def __init__(self, threshold):\\n        super(MyThresholdCallback, self).__init__()\\n        self.threshold = threshold\\n        \\n    def on_epoch_end(self, epoch, logs=None):\\n      val_acc = logs[\"accuracy\"]\\n      if val_acc >= self.threshold:\\n        self.model.stop_training = True\\n\\ncallback=MyThresholdCallback(threshold=1.0)\\n'"
            ],
            "application/vnd.google.colaboratory.intrinsic+json": {
              "type": "string"
            }
          },
          "metadata": {},
          "execution_count": 89
        }
      ],
      "source": [
        "'''\n",
        "class MyThresholdCallback(tf.keras.callbacks.Callback):\n",
        "    def __init__(self, threshold):\n",
        "        super(MyThresholdCallback, self).__init__()\n",
        "        self.threshold = threshold\n",
        "        \n",
        "    def on_epoch_end(self, epoch, logs=None):\n",
        "      val_acc = logs[\"accuracy\"]\n",
        "      if val_acc >= self.threshold:\n",
        "        self.model.stop_training = True\n",
        "\n",
        "callback=MyThresholdCallback(threshold=1.0)\n",
        "'''"
      ]
    },
    {
      "cell_type": "code",
      "execution_count": null,
      "metadata": {
        "id": "-5XTcuwHJyMA"
      },
      "outputs": [],
      "source": [
        "#callback = tf.keras.callbacks.EarlyStopping(monitor='val_accuracy', patience=2)\n"
      ]
    },
    {
      "cell_type": "code",
      "execution_count": null,
      "metadata": {
        "id": "w0EFjrviQcJo",
        "colab": {
          "base_uri": "https://localhost:8080/"
        },
        "outputId": "f3660bc0-752b-495e-b18f-c3d261963a5c"
      },
      "outputs": [
        {
          "output_type": "stream",
          "name": "stdout",
          "text": [
            "Epoch 1/500\n",
            "29/29 [==============================] - 1s 12ms/step - loss: 0.3596 - accuracy: 0.9335 - val_loss: 0.1277 - val_accuracy: 0.9779\n",
            "Epoch 2/500\n",
            "29/29 [==============================] - 0s 5ms/step - loss: 0.1384 - accuracy: 0.9712 - val_loss: 0.1061 - val_accuracy: 0.9779\n",
            "Epoch 3/500\n",
            "29/29 [==============================] - 0s 6ms/step - loss: 0.1130 - accuracy: 0.9712 - val_loss: 0.1085 - val_accuracy: 0.9823\n",
            "Epoch 4/500\n",
            "29/29 [==============================] - 0s 6ms/step - loss: 0.1071 - accuracy: 0.9723 - val_loss: 0.0920 - val_accuracy: 0.9823\n",
            "Epoch 5/500\n",
            "29/29 [==============================] - 0s 6ms/step - loss: 0.1065 - accuracy: 0.9745 - val_loss: 0.1196 - val_accuracy: 0.9823\n",
            "Epoch 6/500\n",
            "29/29 [==============================] - 0s 6ms/step - loss: 0.0851 - accuracy: 0.9767 - val_loss: 0.1162 - val_accuracy: 0.9823\n",
            "Epoch 7/500\n",
            "29/29 [==============================] - 0s 6ms/step - loss: 0.0714 - accuracy: 0.9767 - val_loss: 0.1591 - val_accuracy: 0.9823\n",
            "Epoch 8/500\n",
            "29/29 [==============================] - 0s 6ms/step - loss: 0.0773 - accuracy: 0.9756 - val_loss: 0.1240 - val_accuracy: 0.9823\n",
            "Epoch 9/500\n",
            "29/29 [==============================] - 0s 6ms/step - loss: 0.0959 - accuracy: 0.9745 - val_loss: 0.1103 - val_accuracy: 0.9823\n",
            "Epoch 10/500\n",
            "29/29 [==============================] - 0s 6ms/step - loss: 0.0776 - accuracy: 0.9756 - val_loss: 0.1392 - val_accuracy: 0.9823\n",
            "Epoch 11/500\n",
            "29/29 [==============================] - 0s 5ms/step - loss: 0.0832 - accuracy: 0.9767 - val_loss: 0.1564 - val_accuracy: 0.9823\n",
            "Epoch 12/500\n",
            "29/29 [==============================] - 0s 6ms/step - loss: 0.0669 - accuracy: 0.9767 - val_loss: 0.1919 - val_accuracy: 0.9823\n",
            "Epoch 13/500\n",
            "29/29 [==============================] - 0s 6ms/step - loss: 0.0586 - accuracy: 0.9767 - val_loss: 0.1816 - val_accuracy: 0.9823\n",
            "Epoch 14/500\n",
            "29/29 [==============================] - 0s 6ms/step - loss: 0.0618 - accuracy: 0.9767 - val_loss: 0.1724 - val_accuracy: 0.9823\n",
            "Epoch 15/500\n",
            "29/29 [==============================] - 0s 5ms/step - loss: 0.0649 - accuracy: 0.9767 - val_loss: 0.1390 - val_accuracy: 0.9823\n",
            "Epoch 16/500\n",
            "29/29 [==============================] - 0s 5ms/step - loss: 0.0624 - accuracy: 0.9778 - val_loss: 0.2969 - val_accuracy: 0.9823\n",
            "Epoch 17/500\n",
            "29/29 [==============================] - 0s 6ms/step - loss: 0.0779 - accuracy: 0.9767 - val_loss: 0.2953 - val_accuracy: 0.9602\n",
            "Epoch 18/500\n",
            "29/29 [==============================] - 0s 6ms/step - loss: 0.1959 - accuracy: 0.9534 - val_loss: 0.0798 - val_accuracy: 0.9823\n",
            "Epoch 19/500\n",
            "29/29 [==============================] - 0s 5ms/step - loss: 0.1284 - accuracy: 0.9723 - val_loss: 0.0844 - val_accuracy: 0.9823\n",
            "Epoch 20/500\n",
            "29/29 [==============================] - 0s 6ms/step - loss: 0.1209 - accuracy: 0.9734 - val_loss: 0.0887 - val_accuracy: 0.9823\n",
            "Epoch 21/500\n",
            "29/29 [==============================] - 0s 5ms/step - loss: 0.0881 - accuracy: 0.9745 - val_loss: 0.0996 - val_accuracy: 0.9823\n",
            "Epoch 22/500\n",
            "29/29 [==============================] - 0s 6ms/step - loss: 0.0809 - accuracy: 0.9745 - val_loss: 0.0980 - val_accuracy: 0.9823\n",
            "Epoch 23/500\n",
            "29/29 [==============================] - 0s 6ms/step - loss: 0.0759 - accuracy: 0.9745 - val_loss: 0.1031 - val_accuracy: 0.9823\n",
            "Epoch 24/500\n",
            "29/29 [==============================] - 0s 5ms/step - loss: 0.0678 - accuracy: 0.9745 - val_loss: 0.1238 - val_accuracy: 0.9823\n",
            "Epoch 25/500\n",
            "29/29 [==============================] - 0s 5ms/step - loss: 0.0609 - accuracy: 0.9778 - val_loss: 0.1371 - val_accuracy: 0.9823\n",
            "Epoch 26/500\n",
            "29/29 [==============================] - 0s 6ms/step - loss: 0.0734 - accuracy: 0.9789 - val_loss: 0.1861 - val_accuracy: 0.9823\n",
            "Epoch 27/500\n",
            "29/29 [==============================] - 0s 4ms/step - loss: 0.0673 - accuracy: 0.9778 - val_loss: 0.1463 - val_accuracy: 0.9823\n",
            "Epoch 28/500\n",
            "29/29 [==============================] - 0s 6ms/step - loss: 0.0544 - accuracy: 0.9789 - val_loss: 0.1652 - val_accuracy: 0.9823\n",
            "Epoch 29/500\n",
            "29/29 [==============================] - 0s 6ms/step - loss: 0.0577 - accuracy: 0.9789 - val_loss: 0.1902 - val_accuracy: 0.9823\n",
            "Epoch 30/500\n",
            "29/29 [==============================] - 0s 6ms/step - loss: 0.0721 - accuracy: 0.9745 - val_loss: 0.1452 - val_accuracy: 0.9823\n",
            "Epoch 31/500\n",
            "29/29 [==============================] - 0s 5ms/step - loss: 0.0653 - accuracy: 0.9800 - val_loss: 0.1582 - val_accuracy: 0.9779\n",
            "Epoch 32/500\n",
            "29/29 [==============================] - 0s 6ms/step - loss: 0.0535 - accuracy: 0.9778 - val_loss: 0.2105 - val_accuracy: 0.9823\n",
            "Epoch 33/500\n",
            "29/29 [==============================] - 0s 6ms/step - loss: 0.0649 - accuracy: 0.9778 - val_loss: 0.1496 - val_accuracy: 0.9779\n",
            "Epoch 34/500\n",
            "29/29 [==============================] - 0s 5ms/step - loss: 0.0517 - accuracy: 0.9789 - val_loss: 0.2165 - val_accuracy: 0.9646\n",
            "Epoch 35/500\n",
            "29/29 [==============================] - 0s 6ms/step - loss: 0.0532 - accuracy: 0.9778 - val_loss: 0.5941 - val_accuracy: 0.9513\n",
            "Epoch 36/500\n",
            "29/29 [==============================] - 0s 6ms/step - loss: 0.5093 - accuracy: 0.9656 - val_loss: 0.0906 - val_accuracy: 0.9823\n",
            "Epoch 37/500\n",
            "29/29 [==============================] - 0s 6ms/step - loss: 0.3131 - accuracy: 0.9723 - val_loss: 0.2163 - val_accuracy: 0.9690\n",
            "Epoch 38/500\n",
            "29/29 [==============================] - 0s 7ms/step - loss: 0.1319 - accuracy: 0.9667 - val_loss: 0.1337 - val_accuracy: 0.9779\n",
            "Epoch 39/500\n",
            "29/29 [==============================] - 0s 6ms/step - loss: 0.0882 - accuracy: 0.9734 - val_loss: 0.1240 - val_accuracy: 0.9823\n",
            "Epoch 40/500\n",
            "29/29 [==============================] - 0s 6ms/step - loss: 0.0923 - accuracy: 0.9745 - val_loss: 0.1097 - val_accuracy: 0.9779\n",
            "Epoch 41/500\n",
            "29/29 [==============================] - 0s 6ms/step - loss: 0.0845 - accuracy: 0.9745 - val_loss: 0.1282 - val_accuracy: 0.9823\n",
            "Epoch 42/500\n",
            "29/29 [==============================] - 0s 6ms/step - loss: 0.0814 - accuracy: 0.9745 - val_loss: 0.1265 - val_accuracy: 0.9823\n",
            "Epoch 43/500\n",
            "29/29 [==============================] - 0s 6ms/step - loss: 0.0707 - accuracy: 0.9745 - val_loss: 0.1431 - val_accuracy: 0.9823\n",
            "Epoch 44/500\n",
            "29/29 [==============================] - 0s 5ms/step - loss: 0.0650 - accuracy: 0.9745 - val_loss: 0.1835 - val_accuracy: 0.9823\n",
            "Epoch 45/500\n",
            "29/29 [==============================] - 0s 5ms/step - loss: 0.0670 - accuracy: 0.9745 - val_loss: 0.2196 - val_accuracy: 0.9823\n",
            "Epoch 46/500\n",
            "29/29 [==============================] - 0s 6ms/step - loss: 0.0662 - accuracy: 0.9678 - val_loss: 0.1574 - val_accuracy: 0.9823\n",
            "Epoch 47/500\n",
            "29/29 [==============================] - 0s 5ms/step - loss: 0.0627 - accuracy: 0.9756 - val_loss: 0.1769 - val_accuracy: 0.9823\n",
            "Epoch 48/500\n",
            "29/29 [==============================] - 0s 5ms/step - loss: 0.0790 - accuracy: 0.9701 - val_loss: 0.1939 - val_accuracy: 0.9823\n",
            "Epoch 49/500\n",
            "29/29 [==============================] - 0s 5ms/step - loss: 0.0735 - accuracy: 0.9756 - val_loss: 0.1712 - val_accuracy: 0.9823\n",
            "Epoch 50/500\n",
            "29/29 [==============================] - 0s 5ms/step - loss: 0.0641 - accuracy: 0.9756 - val_loss: 0.1737 - val_accuracy: 0.9823\n",
            "Epoch 51/500\n",
            "29/29 [==============================] - 0s 5ms/step - loss: 0.0536 - accuracy: 0.9734 - val_loss: 0.2592 - val_accuracy: 0.9823\n",
            "Epoch 52/500\n",
            "29/29 [==============================] - 0s 6ms/step - loss: 0.0560 - accuracy: 0.9723 - val_loss: 0.2570 - val_accuracy: 0.9779\n",
            "Epoch 53/500\n",
            "29/29 [==============================] - 0s 6ms/step - loss: 0.0642 - accuracy: 0.9745 - val_loss: 0.2878 - val_accuracy: 0.9823\n",
            "Epoch 54/500\n",
            "29/29 [==============================] - 0s 6ms/step - loss: 0.0497 - accuracy: 0.9767 - val_loss: 0.3638 - val_accuracy: 0.9823\n",
            "Epoch 55/500\n",
            "29/29 [==============================] - 0s 6ms/step - loss: 0.0579 - accuracy: 0.9756 - val_loss: 0.3950 - val_accuracy: 0.9823\n",
            "Epoch 56/500\n",
            "29/29 [==============================] - 0s 5ms/step - loss: 0.0641 - accuracy: 0.9767 - val_loss: 0.2728 - val_accuracy: 0.9823\n",
            "Epoch 57/500\n",
            "29/29 [==============================] - 0s 5ms/step - loss: 0.0648 - accuracy: 0.9756 - val_loss: 0.1688 - val_accuracy: 0.9823\n",
            "Epoch 58/500\n",
            "29/29 [==============================] - 0s 6ms/step - loss: 0.0505 - accuracy: 0.9745 - val_loss: 0.2557 - val_accuracy: 0.9823\n",
            "Epoch 59/500\n",
            "29/29 [==============================] - 0s 6ms/step - loss: 0.0517 - accuracy: 0.9756 - val_loss: 0.3289 - val_accuracy: 0.9735\n",
            "Epoch 60/500\n",
            "29/29 [==============================] - 0s 6ms/step - loss: 0.0615 - accuracy: 0.9767 - val_loss: 0.2520 - val_accuracy: 0.9690\n",
            "Epoch 61/500\n",
            "29/29 [==============================] - 0s 6ms/step - loss: 0.0460 - accuracy: 0.9823 - val_loss: 0.3570 - val_accuracy: 0.9690\n",
            "Epoch 62/500\n",
            "29/29 [==============================] - 0s 6ms/step - loss: 0.0431 - accuracy: 0.9800 - val_loss: 0.2981 - val_accuracy: 0.9779\n",
            "Epoch 63/500\n",
            "29/29 [==============================] - 0s 6ms/step - loss: 0.0403 - accuracy: 0.9856 - val_loss: 0.3355 - val_accuracy: 0.9823\n",
            "Epoch 64/500\n",
            "29/29 [==============================] - 0s 6ms/step - loss: 0.0373 - accuracy: 0.9856 - val_loss: 0.3353 - val_accuracy: 0.9823\n",
            "Epoch 65/500\n",
            "29/29 [==============================] - 0s 6ms/step - loss: 0.0342 - accuracy: 0.9834 - val_loss: 0.3343 - val_accuracy: 0.9823\n",
            "Epoch 66/500\n",
            "29/29 [==============================] - 0s 6ms/step - loss: 0.0333 - accuracy: 0.9878 - val_loss: 0.3706 - val_accuracy: 0.9779\n",
            "Epoch 67/500\n",
            "29/29 [==============================] - 0s 6ms/step - loss: 0.0309 - accuracy: 0.9845 - val_loss: 0.3852 - val_accuracy: 0.9646\n",
            "Epoch 68/500\n",
            "29/29 [==============================] - 0s 6ms/step - loss: 0.0313 - accuracy: 0.9878 - val_loss: 0.4191 - val_accuracy: 0.9779\n",
            "Epoch 69/500\n",
            "29/29 [==============================] - 0s 6ms/step - loss: 0.0613 - accuracy: 0.9834 - val_loss: 0.4204 - val_accuracy: 0.9735\n",
            "Epoch 70/500\n",
            "29/29 [==============================] - 0s 6ms/step - loss: 0.0933 - accuracy: 0.9778 - val_loss: 0.5095 - val_accuracy: 0.9779\n",
            "Epoch 71/500\n",
            "29/29 [==============================] - 0s 5ms/step - loss: 0.0824 - accuracy: 0.9767 - val_loss: 0.1686 - val_accuracy: 0.9779\n",
            "Epoch 72/500\n",
            "29/29 [==============================] - 0s 6ms/step - loss: 0.0684 - accuracy: 0.9812 - val_loss: 0.1837 - val_accuracy: 0.9513\n",
            "Epoch 73/500\n",
            "29/29 [==============================] - 0s 6ms/step - loss: 0.0522 - accuracy: 0.9789 - val_loss: 0.3236 - val_accuracy: 0.9690\n",
            "Epoch 74/500\n",
            "29/29 [==============================] - 0s 6ms/step - loss: 0.0583 - accuracy: 0.9789 - val_loss: 0.2277 - val_accuracy: 0.9690\n",
            "Epoch 75/500\n",
            "29/29 [==============================] - 0s 6ms/step - loss: 0.0445 - accuracy: 0.9834 - val_loss: 0.2762 - val_accuracy: 0.9735\n",
            "Epoch 76/500\n",
            "29/29 [==============================] - 0s 6ms/step - loss: 0.0392 - accuracy: 0.9845 - val_loss: 0.3157 - val_accuracy: 0.9735\n",
            "Epoch 77/500\n",
            "29/29 [==============================] - 0s 5ms/step - loss: 0.0760 - accuracy: 0.9645 - val_loss: 0.3329 - val_accuracy: 0.9823\n",
            "Epoch 78/500\n",
            "29/29 [==============================] - 0s 5ms/step - loss: 0.0507 - accuracy: 0.9834 - val_loss: 0.4441 - val_accuracy: 0.9823\n",
            "Epoch 79/500\n",
            "29/29 [==============================] - 0s 5ms/step - loss: 0.0472 - accuracy: 0.9800 - val_loss: 0.4209 - val_accuracy: 0.9779\n",
            "Epoch 80/500\n",
            "29/29 [==============================] - 0s 6ms/step - loss: 0.0422 - accuracy: 0.9823 - val_loss: 0.4757 - val_accuracy: 0.9735\n",
            "Epoch 81/500\n",
            "29/29 [==============================] - 0s 6ms/step - loss: 0.0360 - accuracy: 0.9812 - val_loss: 0.5113 - val_accuracy: 0.9735\n",
            "Epoch 82/500\n",
            "29/29 [==============================] - 0s 6ms/step - loss: 0.0384 - accuracy: 0.9845 - val_loss: 0.4289 - val_accuracy: 0.9336\n",
            "Epoch 83/500\n",
            "29/29 [==============================] - 0s 6ms/step - loss: 0.0347 - accuracy: 0.9823 - val_loss: 0.5053 - val_accuracy: 0.9558\n",
            "Epoch 84/500\n",
            "29/29 [==============================] - 0s 6ms/step - loss: 0.0339 - accuracy: 0.9845 - val_loss: 0.4798 - val_accuracy: 0.9469\n",
            "Epoch 85/500\n",
            "29/29 [==============================] - 0s 5ms/step - loss: 0.0325 - accuracy: 0.9800 - val_loss: 0.5910 - val_accuracy: 0.9646\n",
            "Epoch 86/500\n",
            "29/29 [==============================] - 0s 6ms/step - loss: 0.0353 - accuracy: 0.9789 - val_loss: 0.5879 - val_accuracy: 0.9425\n",
            "Epoch 87/500\n",
            "29/29 [==============================] - 0s 6ms/step - loss: 0.0341 - accuracy: 0.9823 - val_loss: 0.4808 - val_accuracy: 0.9513\n",
            "Epoch 88/500\n",
            "29/29 [==============================] - 0s 7ms/step - loss: 0.0314 - accuracy: 0.9867 - val_loss: 0.5905 - val_accuracy: 0.9735\n",
            "Epoch 89/500\n",
            "29/29 [==============================] - 0s 5ms/step - loss: 0.0327 - accuracy: 0.9845 - val_loss: 0.7685 - val_accuracy: 0.9735\n",
            "Epoch 90/500\n",
            "29/29 [==============================] - 0s 8ms/step - loss: 0.0316 - accuracy: 0.9823 - val_loss: 0.6098 - val_accuracy: 0.9558\n",
            "Epoch 91/500\n",
            "29/29 [==============================] - 0s 6ms/step - loss: 0.0531 - accuracy: 0.9712 - val_loss: 0.5503 - val_accuracy: 0.9690\n",
            "Epoch 92/500\n",
            "29/29 [==============================] - 0s 7ms/step - loss: 0.0612 - accuracy: 0.9756 - val_loss: 0.5841 - val_accuracy: 0.9646\n",
            "Epoch 93/500\n",
            "29/29 [==============================] - 0s 6ms/step - loss: 0.0388 - accuracy: 0.9845 - val_loss: 0.7174 - val_accuracy: 0.9690\n",
            "Epoch 94/500\n",
            "29/29 [==============================] - 0s 6ms/step - loss: 0.0517 - accuracy: 0.9823 - val_loss: 0.7058 - val_accuracy: 0.9602\n",
            "Epoch 95/500\n",
            "29/29 [==============================] - 0s 5ms/step - loss: 0.0409 - accuracy: 0.9845 - val_loss: 0.6136 - val_accuracy: 0.9690\n",
            "Epoch 96/500\n",
            "29/29 [==============================] - 0s 5ms/step - loss: 0.0359 - accuracy: 0.9834 - val_loss: 0.6612 - val_accuracy: 0.9690\n",
            "Epoch 97/500\n",
            "29/29 [==============================] - 0s 5ms/step - loss: 0.0356 - accuracy: 0.9845 - val_loss: 0.7929 - val_accuracy: 0.9735\n",
            "Epoch 98/500\n",
            "29/29 [==============================] - 0s 6ms/step - loss: 0.0326 - accuracy: 0.9856 - val_loss: 0.7935 - val_accuracy: 0.9690\n",
            "Epoch 99/500\n",
            "29/29 [==============================] - 0s 5ms/step - loss: 0.0334 - accuracy: 0.9834 - val_loss: 0.9498 - val_accuracy: 0.9735\n",
            "Epoch 100/500\n",
            "29/29 [==============================] - 0s 6ms/step - loss: 0.0318 - accuracy: 0.9867 - val_loss: 0.9609 - val_accuracy: 0.9690\n",
            "Epoch 101/500\n",
            "29/29 [==============================] - 0s 6ms/step - loss: 0.0378 - accuracy: 0.9845 - val_loss: 0.9042 - val_accuracy: 0.9690\n",
            "Epoch 102/500\n",
            "29/29 [==============================] - 0s 6ms/step - loss: 0.0372 - accuracy: 0.9834 - val_loss: 0.6606 - val_accuracy: 0.9558\n",
            "Epoch 103/500\n",
            "29/29 [==============================] - 0s 6ms/step - loss: 0.0320 - accuracy: 0.9878 - val_loss: 0.8692 - val_accuracy: 0.9735\n",
            "Epoch 104/500\n",
            "29/29 [==============================] - 0s 6ms/step - loss: 0.0306 - accuracy: 0.9856 - val_loss: 0.8519 - val_accuracy: 0.9690\n",
            "Epoch 105/500\n",
            "29/29 [==============================] - 0s 6ms/step - loss: 0.0309 - accuracy: 0.9900 - val_loss: 0.8680 - val_accuracy: 0.9558\n",
            "Epoch 106/500\n",
            "29/29 [==============================] - 0s 6ms/step - loss: 0.0280 - accuracy: 0.9878 - val_loss: 1.0062 - val_accuracy: 0.9646\n",
            "Epoch 107/500\n",
            "29/29 [==============================] - 0s 6ms/step - loss: 0.0397 - accuracy: 0.9845 - val_loss: 0.9141 - val_accuracy: 0.9513\n",
            "Epoch 108/500\n",
            "29/29 [==============================] - 0s 6ms/step - loss: 0.0381 - accuracy: 0.9845 - val_loss: 0.6378 - val_accuracy: 0.9602\n",
            "Epoch 109/500\n",
            "29/29 [==============================] - 0s 6ms/step - loss: 0.0335 - accuracy: 0.9856 - val_loss: 0.6976 - val_accuracy: 0.9558\n",
            "Epoch 110/500\n",
            "29/29 [==============================] - 0s 8ms/step - loss: 0.0271 - accuracy: 0.9889 - val_loss: 0.9477 - val_accuracy: 0.9646\n",
            "Epoch 111/500\n",
            "29/29 [==============================] - 0s 6ms/step - loss: 0.2248 - accuracy: 0.9845 - val_loss: 0.2288 - val_accuracy: 0.9469\n",
            "Epoch 112/500\n",
            "29/29 [==============================] - 0s 6ms/step - loss: 0.1042 - accuracy: 0.9767 - val_loss: 0.2270 - val_accuracy: 0.9735\n",
            "Epoch 113/500\n",
            "29/29 [==============================] - 0s 6ms/step - loss: 0.0515 - accuracy: 0.9767 - val_loss: 0.4371 - val_accuracy: 0.9779\n",
            "Epoch 114/500\n",
            "29/29 [==============================] - 0s 5ms/step - loss: 0.0507 - accuracy: 0.9778 - val_loss: 0.4711 - val_accuracy: 0.9779\n",
            "Epoch 115/500\n",
            "29/29 [==============================] - 0s 5ms/step - loss: 0.0748 - accuracy: 0.9834 - val_loss: 0.5000 - val_accuracy: 0.9513\n",
            "Epoch 116/500\n",
            "29/29 [==============================] - 0s 5ms/step - loss: 0.0621 - accuracy: 0.9690 - val_loss: 0.5859 - val_accuracy: 0.9735\n",
            "Epoch 117/500\n",
            "29/29 [==============================] - 0s 6ms/step - loss: 0.0631 - accuracy: 0.9745 - val_loss: 0.4709 - val_accuracy: 0.9336\n",
            "Epoch 118/500\n",
            "29/29 [==============================] - 0s 6ms/step - loss: 0.1799 - accuracy: 0.9723 - val_loss: 0.3335 - val_accuracy: 0.9646\n",
            "Epoch 119/500\n",
            "29/29 [==============================] - 0s 5ms/step - loss: 3.0997 - accuracy: 0.9568 - val_loss: 4.4401 - val_accuracy: 0.9690\n",
            "Epoch 120/500\n",
            "29/29 [==============================] - 0s 5ms/step - loss: 2.1524 - accuracy: 0.9734 - val_loss: 0.2012 - val_accuracy: 0.9823\n",
            "Epoch 121/500\n",
            "29/29 [==============================] - 0s 7ms/step - loss: 0.1677 - accuracy: 0.9667 - val_loss: 0.1431 - val_accuracy: 0.9779\n",
            "Epoch 122/500\n",
            "29/29 [==============================] - 0s 5ms/step - loss: 0.1256 - accuracy: 0.9645 - val_loss: 0.2364 - val_accuracy: 0.9735\n",
            "Epoch 123/500\n",
            "29/29 [==============================] - 0s 5ms/step - loss: 0.1058 - accuracy: 0.9701 - val_loss: 0.4023 - val_accuracy: 0.9779\n",
            "Epoch 124/500\n",
            "29/29 [==============================] - 0s 6ms/step - loss: 0.1813 - accuracy: 0.9734 - val_loss: 0.1614 - val_accuracy: 0.9823\n",
            "Epoch 125/500\n",
            "29/29 [==============================] - 0s 6ms/step - loss: 0.0908 - accuracy: 0.9712 - val_loss: 0.1274 - val_accuracy: 0.9823\n",
            "Epoch 126/500\n",
            "29/29 [==============================] - 0s 6ms/step - loss: 0.0879 - accuracy: 0.9734 - val_loss: 0.1972 - val_accuracy: 0.9823\n",
            "Epoch 127/500\n",
            "29/29 [==============================] - 0s 7ms/step - loss: 0.0691 - accuracy: 0.9745 - val_loss: 0.1756 - val_accuracy: 0.9823\n",
            "Epoch 128/500\n",
            "29/29 [==============================] - 0s 5ms/step - loss: 0.0783 - accuracy: 0.9734 - val_loss: 0.2231 - val_accuracy: 0.9823\n",
            "Epoch 129/500\n",
            "29/29 [==============================] - 0s 6ms/step - loss: 0.0702 - accuracy: 0.9767 - val_loss: 0.1767 - val_accuracy: 0.9823\n",
            "Epoch 130/500\n",
            "29/29 [==============================] - 0s 6ms/step - loss: 0.0791 - accuracy: 0.9690 - val_loss: 0.2231 - val_accuracy: 0.9823\n",
            "Epoch 131/500\n",
            "29/29 [==============================] - 0s 7ms/step - loss: 0.0648 - accuracy: 0.9756 - val_loss: 0.2361 - val_accuracy: 0.9823\n",
            "Epoch 132/500\n",
            "29/29 [==============================] - 0s 8ms/step - loss: 0.0554 - accuracy: 0.9745 - val_loss: 0.2850 - val_accuracy: 0.9823\n",
            "Epoch 133/500\n",
            "29/29 [==============================] - 0s 6ms/step - loss: 0.0542 - accuracy: 0.9800 - val_loss: 0.2762 - val_accuracy: 0.9690\n",
            "Epoch 134/500\n",
            "29/29 [==============================] - 0s 6ms/step - loss: 0.0535 - accuracy: 0.9812 - val_loss: 0.2851 - val_accuracy: 0.9779\n",
            "Epoch 135/500\n",
            "29/29 [==============================] - 0s 6ms/step - loss: 0.0541 - accuracy: 0.9812 - val_loss: 0.3024 - val_accuracy: 0.9823\n",
            "Epoch 136/500\n",
            "29/29 [==============================] - 0s 6ms/step - loss: 0.0507 - accuracy: 0.9800 - val_loss: 0.2719 - val_accuracy: 0.9823\n",
            "Epoch 137/500\n",
            "29/29 [==============================] - 0s 4ms/step - loss: 0.0510 - accuracy: 0.9789 - val_loss: 0.3588 - val_accuracy: 0.9823\n",
            "Epoch 138/500\n",
            "29/29 [==============================] - 0s 7ms/step - loss: 0.0503 - accuracy: 0.9823 - val_loss: 0.3502 - val_accuracy: 0.9735\n",
            "Epoch 139/500\n",
            "29/29 [==============================] - 0s 6ms/step - loss: 0.0409 - accuracy: 0.9834 - val_loss: 0.4276 - val_accuracy: 0.9779\n",
            "Epoch 140/500\n",
            "29/29 [==============================] - 0s 6ms/step - loss: 0.0575 - accuracy: 0.9712 - val_loss: 0.4080 - val_accuracy: 0.9602\n",
            "Epoch 141/500\n",
            "29/29 [==============================] - 0s 5ms/step - loss: 0.0501 - accuracy: 0.9812 - val_loss: 0.3444 - val_accuracy: 0.9779\n",
            "Epoch 142/500\n",
            "29/29 [==============================] - 0s 6ms/step - loss: 0.0494 - accuracy: 0.9789 - val_loss: 0.4354 - val_accuracy: 0.9779\n",
            "Epoch 143/500\n",
            "29/29 [==============================] - 0s 6ms/step - loss: 0.0440 - accuracy: 0.9834 - val_loss: 0.4116 - val_accuracy: 0.9735\n",
            "Epoch 144/500\n",
            "29/29 [==============================] - 0s 6ms/step - loss: 0.0423 - accuracy: 0.9823 - val_loss: 0.4286 - val_accuracy: 0.9602\n",
            "Epoch 145/500\n",
            "29/29 [==============================] - 0s 6ms/step - loss: 0.0392 - accuracy: 0.9823 - val_loss: 0.4671 - val_accuracy: 0.9558\n",
            "Epoch 146/500\n",
            "29/29 [==============================] - 0s 5ms/step - loss: 0.0426 - accuracy: 0.9823 - val_loss: 0.4369 - val_accuracy: 0.9558\n",
            "Epoch 147/500\n",
            "29/29 [==============================] - 0s 6ms/step - loss: 0.0418 - accuracy: 0.9823 - val_loss: 0.4323 - val_accuracy: 0.9558\n",
            "Epoch 148/500\n",
            "29/29 [==============================] - 0s 6ms/step - loss: 0.0440 - accuracy: 0.9823 - val_loss: 0.3634 - val_accuracy: 0.9558\n",
            "Epoch 149/500\n",
            "29/29 [==============================] - 0s 6ms/step - loss: 0.0520 - accuracy: 0.9756 - val_loss: 0.4494 - val_accuracy: 0.9469\n",
            "Epoch 150/500\n",
            "29/29 [==============================] - 0s 6ms/step - loss: 0.0407 - accuracy: 0.9789 - val_loss: 0.3882 - val_accuracy: 0.9602\n",
            "Epoch 151/500\n",
            "29/29 [==============================] - 0s 6ms/step - loss: 0.0422 - accuracy: 0.9845 - val_loss: 0.4613 - val_accuracy: 0.9602\n",
            "Epoch 152/500\n",
            "29/29 [==============================] - 0s 6ms/step - loss: 0.0365 - accuracy: 0.9867 - val_loss: 0.4757 - val_accuracy: 0.9646\n",
            "Epoch 153/500\n",
            "29/29 [==============================] - 0s 6ms/step - loss: 0.0363 - accuracy: 0.9867 - val_loss: 0.5337 - val_accuracy: 0.9558\n",
            "Epoch 154/500\n",
            "29/29 [==============================] - 0s 4ms/step - loss: 0.0426 - accuracy: 0.9812 - val_loss: 0.4815 - val_accuracy: 0.9602\n",
            "Epoch 155/500\n",
            "29/29 [==============================] - 0s 6ms/step - loss: 0.0425 - accuracy: 0.9778 - val_loss: 0.4920 - val_accuracy: 0.9602\n",
            "Epoch 156/500\n",
            "29/29 [==============================] - 0s 6ms/step - loss: 0.0366 - accuracy: 0.9878 - val_loss: 0.5513 - val_accuracy: 0.9646\n",
            "Epoch 157/500\n",
            "29/29 [==============================] - 0s 5ms/step - loss: 0.0716 - accuracy: 0.9645 - val_loss: 0.3612 - val_accuracy: 0.9513\n",
            "Epoch 158/500\n",
            "29/29 [==============================] - 0s 6ms/step - loss: 0.0540 - accuracy: 0.9800 - val_loss: 0.4188 - val_accuracy: 0.9646\n",
            "Epoch 159/500\n",
            "29/29 [==============================] - 0s 6ms/step - loss: 0.0420 - accuracy: 0.9778 - val_loss: 0.6024 - val_accuracy: 0.9779\n",
            "Epoch 160/500\n",
            "29/29 [==============================] - 0s 6ms/step - loss: 0.0506 - accuracy: 0.9756 - val_loss: 0.4758 - val_accuracy: 0.9646\n",
            "Epoch 161/500\n",
            "29/29 [==============================] - 0s 6ms/step - loss: 0.0473 - accuracy: 0.9789 - val_loss: 0.5412 - val_accuracy: 0.9779\n",
            "Epoch 162/500\n",
            "29/29 [==============================] - 0s 6ms/step - loss: 0.0615 - accuracy: 0.9667 - val_loss: 0.5076 - val_accuracy: 0.9823\n",
            "Epoch 163/500\n",
            "29/29 [==============================] - 0s 6ms/step - loss: 0.0419 - accuracy: 0.9823 - val_loss: 0.5871 - val_accuracy: 0.9823\n",
            "Epoch 164/500\n",
            "29/29 [==============================] - 0s 6ms/step - loss: 0.0349 - accuracy: 0.9856 - val_loss: 0.6044 - val_accuracy: 0.9646\n",
            "Epoch 165/500\n",
            "29/29 [==============================] - 0s 6ms/step - loss: 0.0332 - accuracy: 0.9856 - val_loss: 0.5927 - val_accuracy: 0.9469\n",
            "Epoch 166/500\n",
            "29/29 [==============================] - 0s 6ms/step - loss: 0.0364 - accuracy: 0.9867 - val_loss: 0.7327 - val_accuracy: 0.9646\n",
            "Epoch 167/500\n",
            "29/29 [==============================] - 0s 6ms/step - loss: 0.0339 - accuracy: 0.9856 - val_loss: 0.6664 - val_accuracy: 0.9646\n",
            "Epoch 168/500\n",
            "29/29 [==============================] - 0s 6ms/step - loss: 0.0366 - accuracy: 0.9856 - val_loss: 0.7472 - val_accuracy: 0.9602\n",
            "Epoch 169/500\n",
            "29/29 [==============================] - 0s 7ms/step - loss: 0.0358 - accuracy: 0.9845 - val_loss: 0.7446 - val_accuracy: 0.9602\n",
            "Epoch 170/500\n",
            "29/29 [==============================] - 0s 6ms/step - loss: 0.0334 - accuracy: 0.9878 - val_loss: 0.7895 - val_accuracy: 0.9690\n",
            "Epoch 171/500\n",
            "29/29 [==============================] - 0s 6ms/step - loss: 0.0335 - accuracy: 0.9889 - val_loss: 0.7432 - val_accuracy: 0.9602\n",
            "Epoch 172/500\n",
            "29/29 [==============================] - 0s 7ms/step - loss: 0.0379 - accuracy: 0.9845 - val_loss: 0.7732 - val_accuracy: 0.9779\n",
            "Epoch 173/500\n",
            "29/29 [==============================] - 0s 5ms/step - loss: 0.0378 - accuracy: 0.9867 - val_loss: 0.5406 - val_accuracy: 0.9513\n",
            "Epoch 174/500\n",
            "29/29 [==============================] - 0s 4ms/step - loss: 0.0366 - accuracy: 0.9812 - val_loss: 0.6815 - val_accuracy: 0.9602\n",
            "Epoch 175/500\n",
            "29/29 [==============================] - 0s 5ms/step - loss: 0.0432 - accuracy: 0.9812 - val_loss: 0.5298 - val_accuracy: 0.9425\n",
            "Epoch 176/500\n",
            "29/29 [==============================] - 0s 6ms/step - loss: 0.0365 - accuracy: 0.9867 - val_loss: 0.7683 - val_accuracy: 0.9646\n",
            "Epoch 177/500\n",
            "29/29 [==============================] - 0s 6ms/step - loss: 0.0321 - accuracy: 0.9856 - val_loss: 0.7925 - val_accuracy: 0.9602\n",
            "Epoch 178/500\n",
            "29/29 [==============================] - 0s 7ms/step - loss: 0.0628 - accuracy: 0.9690 - val_loss: 0.4215 - val_accuracy: 0.9248\n",
            "Epoch 179/500\n",
            "29/29 [==============================] - 0s 6ms/step - loss: 0.0564 - accuracy: 0.9745 - val_loss: 0.5918 - val_accuracy: 0.9558\n",
            "Epoch 180/500\n",
            "29/29 [==============================] - 0s 6ms/step - loss: 0.0393 - accuracy: 0.9834 - val_loss: 0.7195 - val_accuracy: 0.9602\n",
            "Epoch 181/500\n",
            "29/29 [==============================] - 0s 6ms/step - loss: 0.0354 - accuracy: 0.9867 - val_loss: 0.8035 - val_accuracy: 0.9602\n",
            "Epoch 182/500\n",
            "29/29 [==============================] - 0s 7ms/step - loss: 0.0335 - accuracy: 0.9845 - val_loss: 0.7163 - val_accuracy: 0.9425\n",
            "Epoch 183/500\n",
            "29/29 [==============================] - 0s 6ms/step - loss: 0.0343 - accuracy: 0.9856 - val_loss: 0.9017 - val_accuracy: 0.9646\n",
            "Epoch 184/500\n",
            "29/29 [==============================] - 0s 6ms/step - loss: 0.0304 - accuracy: 0.9878 - val_loss: 0.9709 - val_accuracy: 0.9602\n",
            "Epoch 185/500\n",
            "29/29 [==============================] - 0s 6ms/step - loss: 0.0306 - accuracy: 0.9889 - val_loss: 0.9980 - val_accuracy: 0.9602\n",
            "Epoch 186/500\n",
            "29/29 [==============================] - 0s 6ms/step - loss: 0.0310 - accuracy: 0.9867 - val_loss: 0.9550 - val_accuracy: 0.9735\n",
            "Epoch 187/500\n",
            "29/29 [==============================] - 0s 5ms/step - loss: 0.0379 - accuracy: 0.9845 - val_loss: 0.8741 - val_accuracy: 0.9513\n",
            "Epoch 188/500\n",
            "29/29 [==============================] - 0s 5ms/step - loss: 0.0542 - accuracy: 0.9745 - val_loss: 0.6192 - val_accuracy: 0.9513\n",
            "Epoch 189/500\n",
            "29/29 [==============================] - 0s 6ms/step - loss: 0.0371 - accuracy: 0.9834 - val_loss: 0.8163 - val_accuracy: 0.9823\n",
            "Epoch 190/500\n",
            "29/29 [==============================] - 0s 7ms/step - loss: 0.0374 - accuracy: 0.9878 - val_loss: 0.5813 - val_accuracy: 0.9602\n",
            "Epoch 191/500\n",
            "29/29 [==============================] - 0s 8ms/step - loss: 0.0340 - accuracy: 0.9856 - val_loss: 0.7070 - val_accuracy: 0.9602\n",
            "Epoch 192/500\n",
            "29/29 [==============================] - 0s 6ms/step - loss: 0.0374 - accuracy: 0.9867 - val_loss: 0.6406 - val_accuracy: 0.9602\n",
            "Epoch 193/500\n",
            "29/29 [==============================] - 0s 7ms/step - loss: 0.0317 - accuracy: 0.9867 - val_loss: 0.7361 - val_accuracy: 0.9690\n",
            "Epoch 194/500\n",
            "29/29 [==============================] - 0s 5ms/step - loss: 0.0299 - accuracy: 0.9878 - val_loss: 0.8502 - val_accuracy: 0.9602\n",
            "Epoch 195/500\n",
            "29/29 [==============================] - 0s 7ms/step - loss: 0.0324 - accuracy: 0.9856 - val_loss: 0.8100 - val_accuracy: 0.9558\n",
            "Epoch 196/500\n",
            "29/29 [==============================] - 0s 6ms/step - loss: 0.0336 - accuracy: 0.9856 - val_loss: 0.9633 - val_accuracy: 0.9690\n",
            "Epoch 197/500\n",
            "29/29 [==============================] - 0s 6ms/step - loss: 0.0467 - accuracy: 0.9812 - val_loss: 0.6079 - val_accuracy: 0.9646\n",
            "Epoch 198/500\n",
            "29/29 [==============================] - 0s 6ms/step - loss: 0.0355 - accuracy: 0.9856 - val_loss: 0.7568 - val_accuracy: 0.9779\n",
            "Epoch 199/500\n",
            "29/29 [==============================] - 0s 6ms/step - loss: 0.0388 - accuracy: 0.9823 - val_loss: 0.7131 - val_accuracy: 0.9646\n",
            "Epoch 200/500\n",
            "29/29 [==============================] - 0s 6ms/step - loss: 0.1305 - accuracy: 0.9623 - val_loss: 0.4047 - val_accuracy: 0.9248\n",
            "Epoch 201/500\n",
            "29/29 [==============================] - 0s 6ms/step - loss: 0.1068 - accuracy: 0.9568 - val_loss: 0.6008 - val_accuracy: 0.9779\n",
            "Epoch 202/500\n",
            "29/29 [==============================] - 0s 6ms/step - loss: 0.1033 - accuracy: 0.9623 - val_loss: 0.7907 - val_accuracy: 0.9823\n",
            "Epoch 203/500\n",
            "29/29 [==============================] - 0s 5ms/step - loss: 0.0651 - accuracy: 0.9778 - val_loss: 0.5994 - val_accuracy: 0.9469\n",
            "Epoch 204/500\n",
            "29/29 [==============================] - 0s 7ms/step - loss: 0.0467 - accuracy: 0.9789 - val_loss: 0.6196 - val_accuracy: 0.9823\n",
            "Epoch 205/500\n",
            "29/29 [==============================] - 0s 6ms/step - loss: 0.0388 - accuracy: 0.9834 - val_loss: 1.0771 - val_accuracy: 0.9381\n",
            "Epoch 206/500\n",
            "29/29 [==============================] - 0s 6ms/step - loss: 0.2464 - accuracy: 0.9579 - val_loss: 0.4783 - val_accuracy: 0.9425\n",
            "Epoch 207/500\n",
            "29/29 [==============================] - 0s 6ms/step - loss: 0.0625 - accuracy: 0.9734 - val_loss: 0.5015 - val_accuracy: 0.9646\n",
            "Epoch 208/500\n",
            "29/29 [==============================] - 0s 6ms/step - loss: 0.0522 - accuracy: 0.9723 - val_loss: 0.6966 - val_accuracy: 0.9779\n",
            "Epoch 209/500\n",
            "29/29 [==============================] - 0s 6ms/step - loss: 0.0387 - accuracy: 0.9812 - val_loss: 0.7880 - val_accuracy: 0.9823\n",
            "Epoch 210/500\n",
            "29/29 [==============================] - 0s 6ms/step - loss: 0.0367 - accuracy: 0.9800 - val_loss: 0.7775 - val_accuracy: 0.9690\n",
            "Epoch 211/500\n",
            "29/29 [==============================] - 0s 6ms/step - loss: 0.0332 - accuracy: 0.9878 - val_loss: 0.9583 - val_accuracy: 0.9779\n",
            "Epoch 212/500\n",
            "29/29 [==============================] - 0s 7ms/step - loss: 0.0344 - accuracy: 0.9867 - val_loss: 0.7868 - val_accuracy: 0.9558\n",
            "Epoch 213/500\n",
            "29/29 [==============================] - 0s 6ms/step - loss: 0.0541 - accuracy: 0.9756 - val_loss: 0.6718 - val_accuracy: 0.9823\n",
            "Epoch 214/500\n",
            "29/29 [==============================] - 0s 6ms/step - loss: 0.0474 - accuracy: 0.9856 - val_loss: 0.7029 - val_accuracy: 0.9735\n",
            "Epoch 215/500\n",
            "29/29 [==============================] - 0s 8ms/step - loss: 0.0365 - accuracy: 0.9856 - val_loss: 0.8275 - val_accuracy: 0.9779\n",
            "Epoch 216/500\n",
            "29/29 [==============================] - 0s 6ms/step - loss: 0.0388 - accuracy: 0.9867 - val_loss: 0.7460 - val_accuracy: 0.9646\n",
            "Epoch 217/500\n",
            "29/29 [==============================] - 0s 7ms/step - loss: 0.0364 - accuracy: 0.9878 - val_loss: 0.9154 - val_accuracy: 0.9779\n",
            "Epoch 218/500\n",
            "29/29 [==============================] - 0s 6ms/step - loss: 0.0335 - accuracy: 0.9845 - val_loss: 0.8810 - val_accuracy: 0.9646\n",
            "Epoch 219/500\n",
            "29/29 [==============================] - 0s 6ms/step - loss: 0.0317 - accuracy: 0.9889 - val_loss: 1.0063 - val_accuracy: 0.9558\n",
            "Epoch 220/500\n",
            "29/29 [==============================] - 0s 6ms/step - loss: 0.0310 - accuracy: 0.9878 - val_loss: 1.0810 - val_accuracy: 0.9735\n",
            "Epoch 221/500\n",
            "29/29 [==============================] - 0s 7ms/step - loss: 0.0610 - accuracy: 0.9900 - val_loss: 0.6688 - val_accuracy: 0.9646\n",
            "Epoch 222/500\n",
            "29/29 [==============================] - 0s 5ms/step - loss: 0.0297 - accuracy: 0.9889 - val_loss: 0.7577 - val_accuracy: 0.9646\n",
            "Epoch 223/500\n",
            "29/29 [==============================] - 0s 6ms/step - loss: 0.0283 - accuracy: 0.9922 - val_loss: 0.8776 - val_accuracy: 0.9690\n",
            "Epoch 224/500\n",
            "29/29 [==============================] - 0s 5ms/step - loss: 0.0281 - accuracy: 0.9911 - val_loss: 0.9651 - val_accuracy: 0.9690\n",
            "Epoch 225/500\n",
            "29/29 [==============================] - 0s 6ms/step - loss: 0.0573 - accuracy: 0.9756 - val_loss: 0.6835 - val_accuracy: 0.9469\n",
            "Epoch 226/500\n",
            "29/29 [==============================] - 0s 6ms/step - loss: 0.0424 - accuracy: 0.9800 - val_loss: 0.6604 - val_accuracy: 0.9690\n",
            "Epoch 227/500\n",
            "29/29 [==============================] - 0s 7ms/step - loss: 0.0337 - accuracy: 0.9889 - val_loss: 0.6694 - val_accuracy: 0.9558\n",
            "Epoch 228/500\n",
            "29/29 [==============================] - 0s 6ms/step - loss: 0.0320 - accuracy: 0.9856 - val_loss: 0.8628 - val_accuracy: 0.9646\n",
            "Epoch 229/500\n",
            "29/29 [==============================] - 0s 6ms/step - loss: 0.0314 - accuracy: 0.9922 - val_loss: 0.8773 - val_accuracy: 0.9690\n",
            "Epoch 230/500\n",
            "29/29 [==============================] - 0s 6ms/step - loss: 0.0288 - accuracy: 0.9900 - val_loss: 0.9034 - val_accuracy: 0.9558\n",
            "Epoch 231/500\n",
            "29/29 [==============================] - 0s 6ms/step - loss: 0.0286 - accuracy: 0.9878 - val_loss: 0.9984 - val_accuracy: 0.9646\n",
            "Epoch 232/500\n",
            "29/29 [==============================] - 0s 7ms/step - loss: 0.0355 - accuracy: 0.9812 - val_loss: 0.8523 - val_accuracy: 0.9602\n",
            "Epoch 233/500\n",
            "29/29 [==============================] - 0s 6ms/step - loss: 0.0336 - accuracy: 0.9823 - val_loss: 0.8885 - val_accuracy: 0.9558\n",
            "Epoch 234/500\n",
            "29/29 [==============================] - 0s 6ms/step - loss: 0.0279 - accuracy: 0.9911 - val_loss: 1.0775 - val_accuracy: 0.9690\n",
            "Epoch 235/500\n",
            "29/29 [==============================] - 0s 6ms/step - loss: 0.0264 - accuracy: 0.9922 - val_loss: 1.0033 - val_accuracy: 0.9602\n",
            "Epoch 236/500\n",
            "29/29 [==============================] - 0s 7ms/step - loss: 0.0292 - accuracy: 0.9900 - val_loss: 1.2621 - val_accuracy: 0.9690\n",
            "Epoch 237/500\n",
            "29/29 [==============================] - 0s 6ms/step - loss: 0.0319 - accuracy: 0.9834 - val_loss: 0.9839 - val_accuracy: 0.9558\n",
            "Epoch 238/500\n",
            "29/29 [==============================] - 0s 6ms/step - loss: 0.0306 - accuracy: 0.9856 - val_loss: 1.2321 - val_accuracy: 0.9690\n",
            "Epoch 239/500\n",
            "29/29 [==============================] - 0s 6ms/step - loss: 0.0281 - accuracy: 0.9911 - val_loss: 1.0917 - val_accuracy: 0.9513\n",
            "Epoch 240/500\n",
            "29/29 [==============================] - 0s 6ms/step - loss: 0.0315 - accuracy: 0.9845 - val_loss: 1.3447 - val_accuracy: 0.9690\n",
            "Epoch 241/500\n",
            "29/29 [==============================] - 0s 5ms/step - loss: 0.0247 - accuracy: 0.9922 - val_loss: 1.4223 - val_accuracy: 0.9690\n",
            "Epoch 242/500\n",
            "29/29 [==============================] - 0s 5ms/step - loss: 0.0239 - accuracy: 0.9922 - val_loss: 1.4093 - val_accuracy: 0.9558\n",
            "Epoch 243/500\n",
            "29/29 [==============================] - 0s 6ms/step - loss: 0.0335 - accuracy: 0.9889 - val_loss: 1.2265 - val_accuracy: 0.9558\n",
            "Epoch 244/500\n",
            "29/29 [==============================] - 0s 7ms/step - loss: 0.0372 - accuracy: 0.9823 - val_loss: 1.1033 - val_accuracy: 0.9425\n",
            "Epoch 245/500\n",
            "29/29 [==============================] - 0s 5ms/step - loss: 0.0300 - accuracy: 0.9856 - val_loss: 1.2825 - val_accuracy: 0.9602\n",
            "Epoch 246/500\n",
            "29/29 [==============================] - 0s 5ms/step - loss: 0.0308 - accuracy: 0.9834 - val_loss: 1.1814 - val_accuracy: 0.9513\n",
            "Epoch 247/500\n",
            "29/29 [==============================] - 0s 5ms/step - loss: 0.0286 - accuracy: 0.9856 - val_loss: 1.2460 - val_accuracy: 0.9513\n",
            "Epoch 248/500\n",
            "29/29 [==============================] - 0s 5ms/step - loss: 0.0392 - accuracy: 0.9789 - val_loss: 1.2130 - val_accuracy: 0.9558\n",
            "Epoch 249/500\n",
            "29/29 [==============================] - 0s 7ms/step - loss: 0.0274 - accuracy: 0.9867 - val_loss: 1.4040 - val_accuracy: 0.9690\n",
            "Epoch 250/500\n",
            "29/29 [==============================] - 0s 6ms/step - loss: 0.0246 - accuracy: 0.9867 - val_loss: 1.3309 - val_accuracy: 0.9513\n",
            "Epoch 251/500\n",
            "29/29 [==============================] - 0s 6ms/step - loss: 0.0244 - accuracy: 0.9878 - val_loss: 1.4754 - val_accuracy: 0.9690\n",
            "Epoch 252/500\n",
            "29/29 [==============================] - 0s 6ms/step - loss: 0.0227 - accuracy: 0.9900 - val_loss: 1.6639 - val_accuracy: 0.9735\n",
            "Epoch 253/500\n",
            "29/29 [==============================] - 0s 7ms/step - loss: 0.0230 - accuracy: 0.9900 - val_loss: 1.5352 - val_accuracy: 0.9602\n",
            "Epoch 254/500\n",
            "29/29 [==============================] - 0s 6ms/step - loss: 0.0197 - accuracy: 0.9933 - val_loss: 1.5516 - val_accuracy: 0.9823\n",
            "Epoch 255/500\n",
            "29/29 [==============================] - 0s 5ms/step - loss: 0.0466 - accuracy: 0.9834 - val_loss: 0.7819 - val_accuracy: 0.9425\n",
            "Epoch 256/500\n",
            "29/29 [==============================] - 0s 6ms/step - loss: 0.0363 - accuracy: 0.9778 - val_loss: 1.1967 - val_accuracy: 0.9646\n",
            "Epoch 257/500\n",
            "29/29 [==============================] - 0s 6ms/step - loss: 0.0422 - accuracy: 0.9856 - val_loss: 1.2877 - val_accuracy: 0.9646\n",
            "Epoch 258/500\n",
            "29/29 [==============================] - 0s 5ms/step - loss: 0.0278 - accuracy: 0.9856 - val_loss: 1.5096 - val_accuracy: 0.9646\n",
            "Epoch 259/500\n",
            "29/29 [==============================] - 0s 6ms/step - loss: 0.2389 - accuracy: 0.9789 - val_loss: 2.0566 - val_accuracy: 0.9823\n",
            "Epoch 260/500\n",
            "29/29 [==============================] - 0s 7ms/step - loss: 0.1699 - accuracy: 0.9723 - val_loss: 0.9176 - val_accuracy: 0.9469\n",
            "Epoch 261/500\n",
            "29/29 [==============================] - 0s 6ms/step - loss: 0.0491 - accuracy: 0.9745 - val_loss: 0.8118 - val_accuracy: 0.9646\n",
            "Epoch 262/500\n",
            "29/29 [==============================] - 0s 6ms/step - loss: 0.0411 - accuracy: 0.9845 - val_loss: 1.2160 - val_accuracy: 0.9735\n",
            "Epoch 263/500\n",
            "29/29 [==============================] - 0s 7ms/step - loss: 0.0661 - accuracy: 0.9834 - val_loss: 0.8736 - val_accuracy: 0.9690\n",
            "Epoch 264/500\n",
            "29/29 [==============================] - 0s 6ms/step - loss: 0.0346 - accuracy: 0.9867 - val_loss: 1.0100 - val_accuracy: 0.9646\n",
            "Epoch 265/500\n",
            "29/29 [==============================] - 0s 6ms/step - loss: 0.0297 - accuracy: 0.9856 - val_loss: 0.9347 - val_accuracy: 0.9558\n",
            "Epoch 266/500\n",
            "29/29 [==============================] - 0s 6ms/step - loss: 0.0280 - accuracy: 0.9856 - val_loss: 1.2125 - val_accuracy: 0.9735\n",
            "Epoch 267/500\n",
            "29/29 [==============================] - 0s 6ms/step - loss: 0.0260 - accuracy: 0.9900 - val_loss: 1.3782 - val_accuracy: 0.9646\n",
            "Epoch 268/500\n",
            "29/29 [==============================] - 0s 6ms/step - loss: 0.0492 - accuracy: 0.9878 - val_loss: 1.8363 - val_accuracy: 0.9513\n",
            "Epoch 269/500\n",
            "29/29 [==============================] - 0s 7ms/step - loss: 0.0327 - accuracy: 0.9845 - val_loss: 2.0523 - val_accuracy: 0.9425\n",
            "Epoch 270/500\n",
            "29/29 [==============================] - 0s 6ms/step - loss: 0.0267 - accuracy: 0.9867 - val_loss: 1.9507 - val_accuracy: 0.9469\n",
            "Epoch 271/500\n",
            "29/29 [==============================] - 0s 6ms/step - loss: 0.0370 - accuracy: 0.9856 - val_loss: 1.9611 - val_accuracy: 0.9469\n",
            "Epoch 272/500\n",
            "29/29 [==============================] - 0s 6ms/step - loss: 0.0283 - accuracy: 0.9889 - val_loss: 2.0621 - val_accuracy: 0.9602\n",
            "Epoch 273/500\n",
            "29/29 [==============================] - 0s 7ms/step - loss: 0.0272 - accuracy: 0.9867 - val_loss: 2.0451 - val_accuracy: 0.9602\n",
            "Epoch 274/500\n",
            "29/29 [==============================] - 0s 7ms/step - loss: 0.0222 - accuracy: 0.9900 - val_loss: 2.1638 - val_accuracy: 0.9558\n",
            "Epoch 275/500\n",
            "29/29 [==============================] - 0s 6ms/step - loss: 0.0216 - accuracy: 0.9900 - val_loss: 2.0894 - val_accuracy: 0.9513\n",
            "Epoch 276/500\n",
            "29/29 [==============================] - 0s 7ms/step - loss: 0.0262 - accuracy: 0.9878 - val_loss: 1.9821 - val_accuracy: 0.9469\n",
            "Epoch 277/500\n",
            "29/29 [==============================] - 0s 6ms/step - loss: 0.0251 - accuracy: 0.9878 - val_loss: 1.9583 - val_accuracy: 0.9558\n",
            "Epoch 278/500\n",
            "29/29 [==============================] - 0s 6ms/step - loss: 0.0265 - accuracy: 0.9911 - val_loss: 1.6764 - val_accuracy: 0.9602\n",
            "Epoch 279/500\n",
            "29/29 [==============================] - 0s 7ms/step - loss: 0.0279 - accuracy: 0.9900 - val_loss: 1.7227 - val_accuracy: 0.9735\n",
            "Epoch 280/500\n",
            "29/29 [==============================] - 0s 6ms/step - loss: 0.0190 - accuracy: 0.9911 - val_loss: 1.8784 - val_accuracy: 0.9735\n",
            "Epoch 281/500\n",
            "29/29 [==============================] - 0s 6ms/step - loss: 0.0247 - accuracy: 0.9922 - val_loss: 1.9858 - val_accuracy: 0.9779\n",
            "Epoch 282/500\n",
            "29/29 [==============================] - 0s 6ms/step - loss: 0.0356 - accuracy: 0.9900 - val_loss: 1.3502 - val_accuracy: 0.9513\n",
            "Epoch 283/500\n",
            "29/29 [==============================] - 0s 6ms/step - loss: 0.0289 - accuracy: 0.9889 - val_loss: 1.5224 - val_accuracy: 0.9735\n",
            "Epoch 284/500\n",
            "29/29 [==============================] - 0s 6ms/step - loss: 0.0598 - accuracy: 0.9800 - val_loss: 1.1925 - val_accuracy: 0.9469\n",
            "Epoch 285/500\n",
            "29/29 [==============================] - 0s 7ms/step - loss: 0.0343 - accuracy: 0.9834 - val_loss: 1.6487 - val_accuracy: 0.9823\n",
            "Epoch 286/500\n",
            "29/29 [==============================] - 0s 6ms/step - loss: 0.0251 - accuracy: 0.9878 - val_loss: 1.3447 - val_accuracy: 0.9646\n",
            "Epoch 287/500\n",
            "29/29 [==============================] - 0s 6ms/step - loss: 0.0240 - accuracy: 0.9878 - val_loss: 1.4743 - val_accuracy: 0.9646\n",
            "Epoch 288/500\n",
            "29/29 [==============================] - 0s 7ms/step - loss: 0.0275 - accuracy: 0.9878 - val_loss: 1.3488 - val_accuracy: 0.9469\n",
            "Epoch 289/500\n",
            "29/29 [==============================] - 0s 6ms/step - loss: 0.0457 - accuracy: 0.9800 - val_loss: 0.9615 - val_accuracy: 0.9735\n",
            "Epoch 290/500\n",
            "29/29 [==============================] - 0s 7ms/step - loss: 0.0442 - accuracy: 0.9778 - val_loss: 1.0408 - val_accuracy: 0.9513\n",
            "Epoch 291/500\n",
            "29/29 [==============================] - 0s 6ms/step - loss: 0.0262 - accuracy: 0.9900 - val_loss: 1.6323 - val_accuracy: 0.9602\n",
            "Epoch 292/500\n",
            "29/29 [==============================] - 0s 7ms/step - loss: 0.0304 - accuracy: 0.9889 - val_loss: 2.0406 - val_accuracy: 0.9558\n",
            "Epoch 293/500\n",
            "29/29 [==============================] - 0s 6ms/step - loss: 0.0248 - accuracy: 0.9900 - val_loss: 1.8310 - val_accuracy: 0.9513\n",
            "Epoch 294/500\n",
            "29/29 [==============================] - 0s 7ms/step - loss: 0.0227 - accuracy: 0.9900 - val_loss: 1.9228 - val_accuracy: 0.9558\n",
            "Epoch 295/500\n",
            "29/29 [==============================] - 0s 7ms/step - loss: 0.0225 - accuracy: 0.9878 - val_loss: 1.9211 - val_accuracy: 0.9558\n",
            "Epoch 296/500\n",
            "29/29 [==============================] - 0s 6ms/step - loss: 0.0244 - accuracy: 0.9878 - val_loss: 1.9479 - val_accuracy: 0.9469\n",
            "Epoch 297/500\n",
            "29/29 [==============================] - 0s 7ms/step - loss: 0.0286 - accuracy: 0.9900 - val_loss: 1.7614 - val_accuracy: 0.9425\n",
            "Epoch 298/500\n",
            "29/29 [==============================] - 0s 6ms/step - loss: 0.0234 - accuracy: 0.9911 - val_loss: 1.8779 - val_accuracy: 0.9558\n",
            "Epoch 299/500\n",
            "29/29 [==============================] - 0s 7ms/step - loss: 0.0189 - accuracy: 0.9922 - val_loss: 1.9828 - val_accuracy: 0.9513\n",
            "Epoch 300/500\n",
            "29/29 [==============================] - 0s 7ms/step - loss: 0.0196 - accuracy: 0.9911 - val_loss: 1.9938 - val_accuracy: 0.9513\n",
            "Epoch 301/500\n",
            "29/29 [==============================] - 0s 6ms/step - loss: 0.0167 - accuracy: 0.9911 - val_loss: 2.0568 - val_accuracy: 0.9602\n",
            "Epoch 302/500\n",
            "29/29 [==============================] - 0s 7ms/step - loss: 0.0475 - accuracy: 0.9800 - val_loss: 1.1039 - val_accuracy: 0.9602\n",
            "Epoch 303/500\n",
            "29/29 [==============================] - 0s 6ms/step - loss: 0.0604 - accuracy: 0.9767 - val_loss: 1.4636 - val_accuracy: 0.9735\n",
            "Epoch 304/500\n",
            "29/29 [==============================] - 0s 6ms/step - loss: 0.0362 - accuracy: 0.9867 - val_loss: 1.4515 - val_accuracy: 0.9602\n",
            "Epoch 305/500\n",
            "29/29 [==============================] - 0s 7ms/step - loss: 0.0298 - accuracy: 0.9867 - val_loss: 1.3773 - val_accuracy: 0.9779\n",
            "Epoch 306/500\n",
            "29/29 [==============================] - 0s 6ms/step - loss: 0.0263 - accuracy: 0.9889 - val_loss: 1.5112 - val_accuracy: 0.9381\n",
            "Epoch 307/500\n",
            "29/29 [==============================] - 0s 7ms/step - loss: 0.0413 - accuracy: 0.9867 - val_loss: 1.3099 - val_accuracy: 0.9690\n",
            "Epoch 308/500\n",
            "29/29 [==============================] - 0s 6ms/step - loss: 0.0258 - accuracy: 0.9900 - val_loss: 1.4335 - val_accuracy: 0.9690\n",
            "Epoch 309/500\n",
            "29/29 [==============================] - 0s 6ms/step - loss: 0.0278 - accuracy: 0.9878 - val_loss: 1.5053 - val_accuracy: 0.9425\n",
            "Epoch 310/500\n",
            "29/29 [==============================] - 0s 6ms/step - loss: 0.0406 - accuracy: 0.9856 - val_loss: 1.3779 - val_accuracy: 0.9602\n",
            "Epoch 311/500\n",
            "29/29 [==============================] - 0s 6ms/step - loss: 0.0231 - accuracy: 0.9900 - val_loss: 1.7161 - val_accuracy: 0.9779\n",
            "Epoch 312/500\n",
            "29/29 [==============================] - 0s 6ms/step - loss: 0.0264 - accuracy: 0.9867 - val_loss: 1.7585 - val_accuracy: 0.9690\n",
            "Epoch 313/500\n",
            "29/29 [==============================] - 0s 6ms/step - loss: 0.0236 - accuracy: 0.9867 - val_loss: 1.6927 - val_accuracy: 0.9558\n",
            "Epoch 314/500\n",
            "29/29 [==============================] - 0s 6ms/step - loss: 0.0243 - accuracy: 0.9889 - val_loss: 1.6306 - val_accuracy: 0.9823\n",
            "Epoch 315/500\n",
            "29/29 [==============================] - 0s 7ms/step - loss: 0.0421 - accuracy: 0.9845 - val_loss: 1.8049 - val_accuracy: 0.9823\n",
            "Epoch 316/500\n",
            "29/29 [==============================] - 0s 7ms/step - loss: 0.0309 - accuracy: 0.9878 - val_loss: 1.6731 - val_accuracy: 0.9602\n",
            "Epoch 317/500\n",
            "29/29 [==============================] - 0s 6ms/step - loss: 0.0205 - accuracy: 0.9922 - val_loss: 1.6137 - val_accuracy: 0.9602\n",
            "Epoch 318/500\n",
            "29/29 [==============================] - 0s 7ms/step - loss: 0.0190 - accuracy: 0.9911 - val_loss: 1.9746 - val_accuracy: 0.9558\n",
            "Epoch 319/500\n",
            "29/29 [==============================] - 0s 6ms/step - loss: 0.0172 - accuracy: 0.9922 - val_loss: 2.0472 - val_accuracy: 0.9558\n",
            "Epoch 320/500\n",
            "29/29 [==============================] - 0s 6ms/step - loss: 0.0176 - accuracy: 0.9900 - val_loss: 7.3778 - val_accuracy: 0.7345\n",
            "Epoch 321/500\n",
            "29/29 [==============================] - 0s 7ms/step - loss: 0.3014 - accuracy: 0.9590 - val_loss: 3.5883 - val_accuracy: 0.9690\n",
            "Epoch 322/500\n",
            "29/29 [==============================] - 0s 7ms/step - loss: 0.0799 - accuracy: 0.9678 - val_loss: 3.8845 - val_accuracy: 0.9823\n",
            "Epoch 323/500\n",
            "29/29 [==============================] - 0s 8ms/step - loss: 0.0912 - accuracy: 0.9712 - val_loss: 2.8082 - val_accuracy: 0.9646\n",
            "Epoch 324/500\n",
            "29/29 [==============================] - 0s 8ms/step - loss: 0.0764 - accuracy: 0.9723 - val_loss: 3.1670 - val_accuracy: 0.9779\n",
            "Epoch 325/500\n",
            "29/29 [==============================] - 0s 8ms/step - loss: 0.0722 - accuracy: 0.9745 - val_loss: 8.6315 - val_accuracy: 0.9779\n",
            "Epoch 326/500\n",
            "29/29 [==============================] - 0s 6ms/step - loss: 0.0876 - accuracy: 0.9756 - val_loss: 6.6418 - val_accuracy: 0.9779\n",
            "Epoch 327/500\n",
            "29/29 [==============================] - 0s 7ms/step - loss: 0.0930 - accuracy: 0.9756 - val_loss: 6.1531 - val_accuracy: 0.9779\n",
            "Epoch 328/500\n",
            "29/29 [==============================] - 0s 7ms/step - loss: 0.6272 - accuracy: 0.9701 - val_loss: 0.3129 - val_accuracy: 0.9779\n",
            "Epoch 329/500\n",
            "29/29 [==============================] - 0s 6ms/step - loss: 0.1281 - accuracy: 0.9701 - val_loss: 1.9439 - val_accuracy: 0.9823\n",
            "Epoch 330/500\n",
            "29/29 [==============================] - 0s 6ms/step - loss: 0.1647 - accuracy: 0.9734 - val_loss: 0.6542 - val_accuracy: 0.9823\n",
            "Epoch 331/500\n",
            "29/29 [==============================] - 0s 6ms/step - loss: 0.1013 - accuracy: 0.9734 - val_loss: 0.1664 - val_accuracy: 0.9823\n",
            "Epoch 332/500\n",
            "29/29 [==============================] - 0s 6ms/step - loss: 0.3599 - accuracy: 0.9734 - val_loss: 0.1454 - val_accuracy: 0.9779\n",
            "Epoch 333/500\n",
            "29/29 [==============================] - 0s 7ms/step - loss: 0.2303 - accuracy: 0.9712 - val_loss: 0.2083 - val_accuracy: 0.9823\n",
            "Epoch 334/500\n",
            "29/29 [==============================] - 0s 6ms/step - loss: 0.1060 - accuracy: 0.9734 - val_loss: 0.2128 - val_accuracy: 0.9823\n",
            "Epoch 335/500\n",
            "29/29 [==============================] - 0s 6ms/step - loss: 0.1054 - accuracy: 0.9734 - val_loss: 0.2226 - val_accuracy: 0.9823\n",
            "Epoch 336/500\n",
            "29/29 [==============================] - 0s 6ms/step - loss: 0.1033 - accuracy: 0.9734 - val_loss: 0.2300 - val_accuracy: 0.9823\n",
            "Epoch 337/500\n",
            "29/29 [==============================] - 0s 6ms/step - loss: 0.1193 - accuracy: 0.9734 - val_loss: 0.2479 - val_accuracy: 0.9823\n",
            "Epoch 338/500\n",
            "29/29 [==============================] - 0s 7ms/step - loss: 0.1043 - accuracy: 0.9734 - val_loss: 0.2677 - val_accuracy: 0.9823\n",
            "Epoch 339/500\n",
            "29/29 [==============================] - 0s 6ms/step - loss: 0.1044 - accuracy: 0.9734 - val_loss: 0.3001 - val_accuracy: 0.9823\n",
            "Epoch 340/500\n",
            "29/29 [==============================] - 0s 6ms/step - loss: 0.1041 - accuracy: 0.9734 - val_loss: 0.3898 - val_accuracy: 0.9823\n",
            "Epoch 341/500\n",
            "29/29 [==============================] - 0s 6ms/step - loss: 0.1034 - accuracy: 0.9734 - val_loss: 0.5220 - val_accuracy: 0.9823\n",
            "Epoch 342/500\n",
            "29/29 [==============================] - 0s 6ms/step - loss: 0.1024 - accuracy: 0.9734 - val_loss: 0.6499 - val_accuracy: 0.9823\n",
            "Epoch 343/500\n",
            "29/29 [==============================] - 0s 6ms/step - loss: 0.1024 - accuracy: 0.9734 - val_loss: 0.7806 - val_accuracy: 0.9823\n",
            "Epoch 344/500\n",
            "29/29 [==============================] - 0s 7ms/step - loss: 0.1024 - accuracy: 0.9734 - val_loss: 0.8659 - val_accuracy: 0.9823\n",
            "Epoch 345/500\n",
            "29/29 [==============================] - 0s 6ms/step - loss: 0.0992 - accuracy: 0.9734 - val_loss: 1.2362 - val_accuracy: 0.9823\n",
            "Epoch 346/500\n",
            "29/29 [==============================] - 0s 7ms/step - loss: 0.0968 - accuracy: 0.9734 - val_loss: 1.5024 - val_accuracy: 0.9823\n",
            "Epoch 347/500\n",
            "29/29 [==============================] - 0s 7ms/step - loss: 0.1045 - accuracy: 0.9734 - val_loss: 0.6417 - val_accuracy: 0.9823\n",
            "Epoch 348/500\n",
            "29/29 [==============================] - 0s 7ms/step - loss: 0.1012 - accuracy: 0.9734 - val_loss: 0.6673 - val_accuracy: 0.9823\n",
            "Epoch 349/500\n",
            "29/29 [==============================] - 0s 7ms/step - loss: 0.1015 - accuracy: 0.9734 - val_loss: 0.9355 - val_accuracy: 0.9823\n",
            "Epoch 350/500\n",
            "29/29 [==============================] - 0s 7ms/step - loss: 0.1026 - accuracy: 0.9734 - val_loss: 1.0279 - val_accuracy: 0.9823\n",
            "Epoch 351/500\n",
            "29/29 [==============================] - 0s 7ms/step - loss: 0.0992 - accuracy: 0.9734 - val_loss: 1.3129 - val_accuracy: 0.9823\n",
            "Epoch 352/500\n",
            "29/29 [==============================] - 0s 7ms/step - loss: 0.1350 - accuracy: 0.9734 - val_loss: 0.7431 - val_accuracy: 0.9823\n",
            "Epoch 353/500\n",
            "29/29 [==============================] - 0s 6ms/step - loss: 0.1030 - accuracy: 0.9734 - val_loss: 0.6613 - val_accuracy: 0.9823\n",
            "Epoch 354/500\n",
            "29/29 [==============================] - 0s 7ms/step - loss: 0.1045 - accuracy: 0.9734 - val_loss: 0.6772 - val_accuracy: 0.9823\n",
            "Epoch 355/500\n",
            "29/29 [==============================] - 0s 6ms/step - loss: 0.1044 - accuracy: 0.9734 - val_loss: 0.9213 - val_accuracy: 0.9823\n",
            "Epoch 356/500\n",
            "29/29 [==============================] - 0s 7ms/step - loss: 0.1051 - accuracy: 0.9734 - val_loss: 0.9922 - val_accuracy: 0.9823\n",
            "Epoch 357/500\n",
            "29/29 [==============================] - 0s 6ms/step - loss: 0.1043 - accuracy: 0.9734 - val_loss: 1.0373 - val_accuracy: 0.9823\n",
            "Epoch 358/500\n",
            "29/29 [==============================] - 0s 6ms/step - loss: 0.1059 - accuracy: 0.9734 - val_loss: 1.0201 - val_accuracy: 0.9823\n",
            "Epoch 359/500\n",
            "29/29 [==============================] - 0s 6ms/step - loss: 0.1056 - accuracy: 0.9734 - val_loss: 1.0165 - val_accuracy: 0.9823\n",
            "Epoch 360/500\n",
            "29/29 [==============================] - 0s 7ms/step - loss: 0.1043 - accuracy: 0.9734 - val_loss: 1.0251 - val_accuracy: 0.9823\n",
            "Epoch 361/500\n",
            "29/29 [==============================] - 0s 7ms/step - loss: 0.1074 - accuracy: 0.9734 - val_loss: 1.0269 - val_accuracy: 0.9823\n",
            "Epoch 362/500\n",
            "29/29 [==============================] - 0s 7ms/step - loss: 0.1050 - accuracy: 0.9734 - val_loss: 1.0561 - val_accuracy: 0.9823\n",
            "Epoch 363/500\n",
            "29/29 [==============================] - 0s 7ms/step - loss: 0.1045 - accuracy: 0.9734 - val_loss: 1.0628 - val_accuracy: 0.9823\n",
            "Epoch 364/500\n",
            "29/29 [==============================] - 0s 6ms/step - loss: 0.1048 - accuracy: 0.9734 - val_loss: 1.0188 - val_accuracy: 0.9823\n",
            "Epoch 365/500\n",
            "29/29 [==============================] - 0s 6ms/step - loss: 0.1041 - accuracy: 0.9734 - val_loss: 1.0166 - val_accuracy: 0.9823\n",
            "Epoch 366/500\n",
            "29/29 [==============================] - 0s 7ms/step - loss: 0.1043 - accuracy: 0.9734 - val_loss: 1.0430 - val_accuracy: 0.9823\n",
            "Epoch 367/500\n",
            "29/29 [==============================] - 0s 7ms/step - loss: 0.1041 - accuracy: 0.9734 - val_loss: 1.0510 - val_accuracy: 0.9823\n",
            "Epoch 368/500\n",
            "29/29 [==============================] - 0s 7ms/step - loss: 0.1039 - accuracy: 0.9734 - val_loss: 1.0230 - val_accuracy: 0.9823\n",
            "Epoch 369/500\n",
            "29/29 [==============================] - 0s 7ms/step - loss: 0.1043 - accuracy: 0.9734 - val_loss: 1.0400 - val_accuracy: 0.9823\n",
            "Epoch 370/500\n",
            "29/29 [==============================] - 0s 7ms/step - loss: 0.1038 - accuracy: 0.9734 - val_loss: 1.0685 - val_accuracy: 0.9823\n",
            "Epoch 371/500\n",
            "29/29 [==============================] - 0s 7ms/step - loss: 0.1040 - accuracy: 0.9734 - val_loss: 1.0546 - val_accuracy: 0.9823\n",
            "Epoch 372/500\n",
            "29/29 [==============================] - 0s 6ms/step - loss: 0.1044 - accuracy: 0.9734 - val_loss: 1.0554 - val_accuracy: 0.9823\n",
            "Epoch 373/500\n",
            "29/29 [==============================] - 0s 6ms/step - loss: 0.1059 - accuracy: 0.9734 - val_loss: 1.0518 - val_accuracy: 0.9823\n",
            "Epoch 374/500\n",
            "29/29 [==============================] - 0s 7ms/step - loss: 0.1048 - accuracy: 0.9734 - val_loss: 1.0775 - val_accuracy: 0.9823\n",
            "Epoch 375/500\n",
            "29/29 [==============================] - 0s 7ms/step - loss: 0.1042 - accuracy: 0.9734 - val_loss: 1.0593 - val_accuracy: 0.9823\n",
            "Epoch 376/500\n",
            "29/29 [==============================] - 0s 6ms/step - loss: 0.1049 - accuracy: 0.9734 - val_loss: 1.0382 - val_accuracy: 0.9823\n",
            "Epoch 377/500\n",
            "29/29 [==============================] - 0s 6ms/step - loss: 0.1043 - accuracy: 0.9734 - val_loss: 1.0808 - val_accuracy: 0.9823\n",
            "Epoch 378/500\n",
            "29/29 [==============================] - 0s 6ms/step - loss: 0.1047 - accuracy: 0.9734 - val_loss: 1.0695 - val_accuracy: 0.9823\n",
            "Epoch 379/500\n",
            "29/29 [==============================] - 0s 8ms/step - loss: 0.1041 - accuracy: 0.9734 - val_loss: 1.0500 - val_accuracy: 0.9823\n",
            "Epoch 380/500\n",
            "29/29 [==============================] - 0s 7ms/step - loss: 0.1044 - accuracy: 0.9734 - val_loss: 1.0470 - val_accuracy: 0.9823\n",
            "Epoch 381/500\n",
            "29/29 [==============================] - 0s 6ms/step - loss: 0.1039 - accuracy: 0.9734 - val_loss: 1.0521 - val_accuracy: 0.9823\n",
            "Epoch 382/500\n",
            "29/29 [==============================] - 0s 7ms/step - loss: 0.1041 - accuracy: 0.9734 - val_loss: 1.0705 - val_accuracy: 0.9823\n",
            "Epoch 383/500\n",
            "29/29 [==============================] - 0s 6ms/step - loss: 0.1046 - accuracy: 0.9734 - val_loss: 1.0548 - val_accuracy: 0.9823\n",
            "Epoch 384/500\n",
            "29/29 [==============================] - 0s 8ms/step - loss: 0.1040 - accuracy: 0.9734 - val_loss: 1.0636 - val_accuracy: 0.9823\n",
            "Epoch 385/500\n",
            "29/29 [==============================] - 0s 6ms/step - loss: 0.1044 - accuracy: 0.9734 - val_loss: 1.0595 - val_accuracy: 0.9823\n",
            "Epoch 386/500\n",
            "29/29 [==============================] - 0s 6ms/step - loss: 0.1041 - accuracy: 0.9734 - val_loss: 1.0950 - val_accuracy: 0.9823\n",
            "Epoch 387/500\n",
            "29/29 [==============================] - 0s 6ms/step - loss: 0.1048 - accuracy: 0.9734 - val_loss: 1.0454 - val_accuracy: 0.9823\n",
            "Epoch 388/500\n",
            "29/29 [==============================] - 0s 6ms/step - loss: 0.1044 - accuracy: 0.9734 - val_loss: 1.0679 - val_accuracy: 0.9823\n",
            "Epoch 389/500\n",
            "29/29 [==============================] - 0s 6ms/step - loss: 0.1044 - accuracy: 0.9734 - val_loss: 1.0719 - val_accuracy: 0.9823\n",
            "Epoch 390/500\n",
            "29/29 [==============================] - 0s 6ms/step - loss: 0.1042 - accuracy: 0.9734 - val_loss: 1.0619 - val_accuracy: 0.9823\n",
            "Epoch 391/500\n",
            "29/29 [==============================] - 0s 7ms/step - loss: 0.1041 - accuracy: 0.9734 - val_loss: 1.0544 - val_accuracy: 0.9823\n",
            "Epoch 392/500\n",
            "29/29 [==============================] - 0s 6ms/step - loss: 0.1041 - accuracy: 0.9734 - val_loss: 1.0489 - val_accuracy: 0.9823\n",
            "Epoch 393/500\n",
            "29/29 [==============================] - 0s 6ms/step - loss: 0.1044 - accuracy: 0.9734 - val_loss: 1.0447 - val_accuracy: 0.9823\n",
            "Epoch 394/500\n",
            "29/29 [==============================] - 0s 7ms/step - loss: 0.1039 - accuracy: 0.9734 - val_loss: 1.0636 - val_accuracy: 0.9823\n",
            "Epoch 395/500\n",
            "29/29 [==============================] - 0s 6ms/step - loss: 0.1041 - accuracy: 0.9734 - val_loss: 1.0656 - val_accuracy: 0.9823\n",
            "Epoch 396/500\n",
            "29/29 [==============================] - 0s 7ms/step - loss: 0.1039 - accuracy: 0.9734 - val_loss: 1.0550 - val_accuracy: 0.9823\n",
            "Epoch 397/500\n",
            "29/29 [==============================] - 0s 6ms/step - loss: 0.1041 - accuracy: 0.9734 - val_loss: 1.0710 - val_accuracy: 0.9823\n",
            "Epoch 398/500\n",
            "29/29 [==============================] - 0s 7ms/step - loss: 0.1042 - accuracy: 0.9734 - val_loss: 1.0665 - val_accuracy: 0.9823\n",
            "Epoch 399/500\n",
            "29/29 [==============================] - 0s 6ms/step - loss: 0.1041 - accuracy: 0.9734 - val_loss: 1.0637 - val_accuracy: 0.9823\n",
            "Epoch 400/500\n",
            "29/29 [==============================] - 0s 6ms/step - loss: 0.1055 - accuracy: 0.9734 - val_loss: 1.0537 - val_accuracy: 0.9823\n",
            "Epoch 401/500\n",
            "29/29 [==============================] - 0s 6ms/step - loss: 0.1044 - accuracy: 0.9734 - val_loss: 1.0582 - val_accuracy: 0.9823\n",
            "Epoch 402/500\n",
            "29/29 [==============================] - 0s 7ms/step - loss: 0.1041 - accuracy: 0.9734 - val_loss: 1.0739 - val_accuracy: 0.9823\n",
            "Epoch 403/500\n",
            "29/29 [==============================] - 0s 6ms/step - loss: 0.1043 - accuracy: 0.9734 - val_loss: 1.0601 - val_accuracy: 0.9823\n",
            "Epoch 404/500\n",
            "29/29 [==============================] - 0s 6ms/step - loss: 0.1044 - accuracy: 0.9734 - val_loss: 1.0704 - val_accuracy: 0.9823\n",
            "Epoch 405/500\n",
            "29/29 [==============================] - 0s 7ms/step - loss: 0.1043 - accuracy: 0.9734 - val_loss: 1.0554 - val_accuracy: 0.9823\n",
            "Epoch 406/500\n",
            "29/29 [==============================] - 0s 7ms/step - loss: 0.1053 - accuracy: 0.9734 - val_loss: 1.0877 - val_accuracy: 0.9823\n",
            "Epoch 407/500\n",
            "29/29 [==============================] - 0s 7ms/step - loss: 0.1040 - accuracy: 0.9734 - val_loss: 1.0513 - val_accuracy: 0.9823\n",
            "Epoch 408/500\n",
            "29/29 [==============================] - 0s 7ms/step - loss: 0.1039 - accuracy: 0.9734 - val_loss: 1.0646 - val_accuracy: 0.9823\n",
            "Epoch 409/500\n",
            "29/29 [==============================] - 0s 6ms/step - loss: 0.1046 - accuracy: 0.9734 - val_loss: 1.0567 - val_accuracy: 0.9823\n",
            "Epoch 410/500\n",
            "29/29 [==============================] - 0s 6ms/step - loss: 0.1049 - accuracy: 0.9734 - val_loss: 1.0486 - val_accuracy: 0.9823\n",
            "Epoch 411/500\n",
            "29/29 [==============================] - 0s 6ms/step - loss: 0.1047 - accuracy: 0.9734 - val_loss: 1.0883 - val_accuracy: 0.9823\n",
            "Epoch 412/500\n",
            "29/29 [==============================] - 0s 6ms/step - loss: 0.1043 - accuracy: 0.9734 - val_loss: 1.0503 - val_accuracy: 0.9823\n",
            "Epoch 413/500\n",
            "29/29 [==============================] - 0s 7ms/step - loss: 0.1043 - accuracy: 0.9734 - val_loss: 1.0669 - val_accuracy: 0.9823\n",
            "Epoch 414/500\n",
            "29/29 [==============================] - 0s 6ms/step - loss: 0.1044 - accuracy: 0.9734 - val_loss: 1.0577 - val_accuracy: 0.9823\n",
            "Epoch 415/500\n",
            "29/29 [==============================] - 0s 7ms/step - loss: 0.1052 - accuracy: 0.9734 - val_loss: 1.0531 - val_accuracy: 0.9823\n",
            "Epoch 416/500\n",
            "29/29 [==============================] - 0s 6ms/step - loss: 0.1041 - accuracy: 0.9734 - val_loss: 1.0649 - val_accuracy: 0.9823\n",
            "Epoch 417/500\n",
            "29/29 [==============================] - 0s 7ms/step - loss: 0.1042 - accuracy: 0.9734 - val_loss: 1.0473 - val_accuracy: 0.9823\n",
            "Epoch 418/500\n",
            "29/29 [==============================] - 0s 6ms/step - loss: 0.1040 - accuracy: 0.9734 - val_loss: 1.0590 - val_accuracy: 0.9823\n",
            "Epoch 419/500\n",
            "29/29 [==============================] - 0s 6ms/step - loss: 0.1040 - accuracy: 0.9734 - val_loss: 1.0586 - val_accuracy: 0.9823\n",
            "Epoch 420/500\n",
            "29/29 [==============================] - 0s 6ms/step - loss: 0.1038 - accuracy: 0.9734 - val_loss: 1.0727 - val_accuracy: 0.9823\n",
            "Epoch 421/500\n",
            "29/29 [==============================] - 0s 7ms/step - loss: 0.1039 - accuracy: 0.9734 - val_loss: 1.0573 - val_accuracy: 0.9823\n",
            "Epoch 422/500\n",
            "29/29 [==============================] - 0s 7ms/step - loss: 0.1051 - accuracy: 0.9734 - val_loss: 1.0387 - val_accuracy: 0.9823\n",
            "Epoch 423/500\n",
            "29/29 [==============================] - 0s 7ms/step - loss: 0.1036 - accuracy: 0.9734 - val_loss: 1.0727 - val_accuracy: 0.9823\n",
            "Epoch 424/500\n",
            "29/29 [==============================] - 0s 7ms/step - loss: 0.1049 - accuracy: 0.9734 - val_loss: 1.0632 - val_accuracy: 0.9823\n",
            "Epoch 425/500\n",
            "29/29 [==============================] - 0s 8ms/step - loss: 0.1039 - accuracy: 0.9734 - val_loss: 1.0575 - val_accuracy: 0.9823\n",
            "Epoch 426/500\n",
            "29/29 [==============================] - 0s 6ms/step - loss: 0.1064 - accuracy: 0.9734 - val_loss: 1.0425 - val_accuracy: 0.9823\n",
            "Epoch 427/500\n",
            "29/29 [==============================] - 0s 8ms/step - loss: 0.1037 - accuracy: 0.9734 - val_loss: 1.0808 - val_accuracy: 0.9823\n",
            "Epoch 428/500\n",
            "29/29 [==============================] - 0s 7ms/step - loss: 0.1053 - accuracy: 0.9734 - val_loss: 1.0427 - val_accuracy: 0.9823\n",
            "Epoch 429/500\n",
            "29/29 [==============================] - 0s 10ms/step - loss: 0.1038 - accuracy: 0.9734 - val_loss: 1.0571 - val_accuracy: 0.9823\n",
            "Epoch 430/500\n",
            "29/29 [==============================] - 0s 12ms/step - loss: 0.1049 - accuracy: 0.9734 - val_loss: 1.0555 - val_accuracy: 0.9823\n",
            "Epoch 431/500\n",
            "29/29 [==============================] - 0s 12ms/step - loss: 0.1040 - accuracy: 0.9734 - val_loss: 1.0385 - val_accuracy: 0.9823\n",
            "Epoch 432/500\n",
            "29/29 [==============================] - 0s 12ms/step - loss: 0.1044 - accuracy: 0.9734 - val_loss: 1.0802 - val_accuracy: 0.9823\n",
            "Epoch 433/500\n",
            "29/29 [==============================] - 0s 13ms/step - loss: 0.1042 - accuracy: 0.9734 - val_loss: 1.0449 - val_accuracy: 0.9823\n",
            "Epoch 434/500\n",
            "29/29 [==============================] - 0s 14ms/step - loss: 0.1041 - accuracy: 0.9734 - val_loss: 1.0253 - val_accuracy: 0.9823\n",
            "Epoch 435/500\n",
            "29/29 [==============================] - 1s 20ms/step - loss: 0.1053 - accuracy: 0.9734 - val_loss: 1.0527 - val_accuracy: 0.9823\n",
            "Epoch 436/500\n",
            "29/29 [==============================] - 0s 13ms/step - loss: 0.1041 - accuracy: 0.9734 - val_loss: 1.0507 - val_accuracy: 0.9823\n",
            "Epoch 437/500\n",
            "29/29 [==============================] - 0s 11ms/step - loss: 0.1039 - accuracy: 0.9734 - val_loss: 1.0684 - val_accuracy: 0.9823\n",
            "Epoch 438/500\n",
            "29/29 [==============================] - 0s 15ms/step - loss: 0.1042 - accuracy: 0.9734 - val_loss: 1.0515 - val_accuracy: 0.9823\n",
            "Epoch 439/500\n",
            "29/29 [==============================] - 0s 13ms/step - loss: 0.1042 - accuracy: 0.9734 - val_loss: 1.0669 - val_accuracy: 0.9823\n",
            "Epoch 440/500\n",
            "29/29 [==============================] - 0s 15ms/step - loss: 0.1043 - accuracy: 0.9734 - val_loss: 1.0524 - val_accuracy: 0.9823\n",
            "Epoch 441/500\n",
            "29/29 [==============================] - 0s 11ms/step - loss: 0.1050 - accuracy: 0.9734 - val_loss: 1.0428 - val_accuracy: 0.9823\n",
            "Epoch 442/500\n",
            "29/29 [==============================] - 0s 13ms/step - loss: 0.1044 - accuracy: 0.9734 - val_loss: 1.0457 - val_accuracy: 0.9823\n",
            "Epoch 443/500\n",
            "29/29 [==============================] - 0s 10ms/step - loss: 0.1037 - accuracy: 0.9734 - val_loss: 1.0610 - val_accuracy: 0.9823\n",
            "Epoch 444/500\n",
            "29/29 [==============================] - 0s 12ms/step - loss: 0.1043 - accuracy: 0.9734 - val_loss: 1.0590 - val_accuracy: 0.9823\n",
            "Epoch 445/500\n",
            "29/29 [==============================] - 0s 9ms/step - loss: 0.1053 - accuracy: 0.9734 - val_loss: 1.0233 - val_accuracy: 0.9823\n",
            "Epoch 446/500\n",
            "29/29 [==============================] - 0s 16ms/step - loss: 0.1048 - accuracy: 0.9734 - val_loss: 1.0328 - val_accuracy: 0.9823\n",
            "Epoch 447/500\n",
            "29/29 [==============================] - 0s 12ms/step - loss: 0.1046 - accuracy: 0.9734 - val_loss: 1.0599 - val_accuracy: 0.9823\n",
            "Epoch 448/500\n",
            "29/29 [==============================] - 0s 12ms/step - loss: 0.1042 - accuracy: 0.9734 - val_loss: 1.0418 - val_accuracy: 0.9823\n",
            "Epoch 449/500\n",
            "29/29 [==============================] - 0s 13ms/step - loss: 0.1038 - accuracy: 0.9734 - val_loss: 1.0708 - val_accuracy: 0.9823\n",
            "Epoch 450/500\n",
            "29/29 [==============================] - 0s 16ms/step - loss: 0.1045 - accuracy: 0.9734 - val_loss: 1.0491 - val_accuracy: 0.9823\n",
            "Epoch 451/500\n",
            "29/29 [==============================] - 0s 16ms/step - loss: 0.1052 - accuracy: 0.9734 - val_loss: 1.0437 - val_accuracy: 0.9823\n",
            "Epoch 452/500\n",
            "29/29 [==============================] - 1s 18ms/step - loss: 0.1038 - accuracy: 0.9734 - val_loss: 1.0419 - val_accuracy: 0.9823\n",
            "Epoch 453/500\n",
            "29/29 [==============================] - 0s 14ms/step - loss: 0.1040 - accuracy: 0.9734 - val_loss: 1.0527 - val_accuracy: 0.9823\n",
            "Epoch 454/500\n",
            "29/29 [==============================] - 0s 13ms/step - loss: 0.1040 - accuracy: 0.9734 - val_loss: 1.0456 - val_accuracy: 0.9823\n",
            "Epoch 455/500\n",
            "29/29 [==============================] - 0s 13ms/step - loss: 0.1042 - accuracy: 0.9734 - val_loss: 1.0519 - val_accuracy: 0.9823\n",
            "Epoch 456/500\n",
            "29/29 [==============================] - 0s 14ms/step - loss: 0.1042 - accuracy: 0.9734 - val_loss: 1.0513 - val_accuracy: 0.9823\n",
            "Epoch 457/500\n",
            "29/29 [==============================] - 1s 17ms/step - loss: 0.1042 - accuracy: 0.9734 - val_loss: 1.0578 - val_accuracy: 0.9823\n",
            "Epoch 458/500\n",
            "29/29 [==============================] - 0s 12ms/step - loss: 0.1043 - accuracy: 0.9734 - val_loss: 1.0498 - val_accuracy: 0.9823\n",
            "Epoch 459/500\n",
            "29/29 [==============================] - 0s 10ms/step - loss: 0.1040 - accuracy: 0.9734 - val_loss: 1.0415 - val_accuracy: 0.9823\n",
            "Epoch 460/500\n",
            "29/29 [==============================] - 0s 10ms/step - loss: 0.1043 - accuracy: 0.9734 - val_loss: 1.0484 - val_accuracy: 0.9823\n",
            "Epoch 461/500\n",
            "29/29 [==============================] - 0s 7ms/step - loss: 0.1045 - accuracy: 0.9734 - val_loss: 1.0592 - val_accuracy: 0.9823\n",
            "Epoch 462/500\n",
            "29/29 [==============================] - 0s 7ms/step - loss: 0.1052 - accuracy: 0.9734 - val_loss: 1.0068 - val_accuracy: 0.9823\n",
            "Epoch 463/500\n",
            "29/29 [==============================] - 0s 6ms/step - loss: 0.1037 - accuracy: 0.9734 - val_loss: 1.0572 - val_accuracy: 0.9823\n",
            "Epoch 464/500\n",
            "29/29 [==============================] - 0s 6ms/step - loss: 0.1049 - accuracy: 0.9734 - val_loss: 1.0379 - val_accuracy: 0.9823\n",
            "Epoch 465/500\n",
            "29/29 [==============================] - 0s 7ms/step - loss: 0.1044 - accuracy: 0.9734 - val_loss: 1.0457 - val_accuracy: 0.9823\n",
            "Epoch 466/500\n",
            "29/29 [==============================] - 0s 6ms/step - loss: 0.1051 - accuracy: 0.9734 - val_loss: 1.0552 - val_accuracy: 0.9823\n",
            "Epoch 467/500\n",
            "29/29 [==============================] - 0s 8ms/step - loss: 0.1049 - accuracy: 0.9734 - val_loss: 1.0354 - val_accuracy: 0.9823\n",
            "Epoch 468/500\n",
            "29/29 [==============================] - 0s 6ms/step - loss: 0.1054 - accuracy: 0.9734 - val_loss: 1.0518 - val_accuracy: 0.9823\n",
            "Epoch 469/500\n",
            "29/29 [==============================] - 0s 8ms/step - loss: 0.1038 - accuracy: 0.9734 - val_loss: 1.0420 - val_accuracy: 0.9823\n",
            "Epoch 470/500\n",
            "29/29 [==============================] - 0s 7ms/step - loss: 0.1046 - accuracy: 0.9734 - val_loss: 1.0525 - val_accuracy: 0.9823\n",
            "Epoch 471/500\n",
            "29/29 [==============================] - 0s 5ms/step - loss: 0.1047 - accuracy: 0.9734 - val_loss: 1.0506 - val_accuracy: 0.9823\n",
            "Epoch 472/500\n",
            "29/29 [==============================] - 0s 7ms/step - loss: 0.1040 - accuracy: 0.9734 - val_loss: 1.0416 - val_accuracy: 0.9823\n",
            "Epoch 473/500\n",
            "29/29 [==============================] - 0s 6ms/step - loss: 0.1039 - accuracy: 0.9734 - val_loss: 1.0518 - val_accuracy: 0.9823\n",
            "Epoch 474/500\n",
            "29/29 [==============================] - 0s 6ms/step - loss: 0.1041 - accuracy: 0.9734 - val_loss: 1.0455 - val_accuracy: 0.9823\n",
            "Epoch 475/500\n",
            "29/29 [==============================] - 0s 7ms/step - loss: 0.1049 - accuracy: 0.9734 - val_loss: 1.0702 - val_accuracy: 0.9823\n",
            "Epoch 476/500\n",
            "29/29 [==============================] - 0s 7ms/step - loss: 0.1047 - accuracy: 0.9734 - val_loss: 1.0279 - val_accuracy: 0.9823\n",
            "Epoch 477/500\n",
            "29/29 [==============================] - 0s 6ms/step - loss: 0.1050 - accuracy: 0.9734 - val_loss: 0.9397 - val_accuracy: 0.9823\n",
            "Epoch 478/500\n",
            "29/29 [==============================] - 0s 7ms/step - loss: 0.1041 - accuracy: 0.9734 - val_loss: 1.5262 - val_accuracy: 0.9823\n",
            "Epoch 479/500\n",
            "29/29 [==============================] - 0s 6ms/step - loss: 0.1040 - accuracy: 0.9734 - val_loss: 1.5749 - val_accuracy: 0.9823\n",
            "Epoch 480/500\n",
            "29/29 [==============================] - 0s 8ms/step - loss: 0.1046 - accuracy: 0.9734 - val_loss: 1.5886 - val_accuracy: 0.9823\n",
            "Epoch 481/500\n",
            "29/29 [==============================] - 0s 6ms/step - loss: 0.1047 - accuracy: 0.9734 - val_loss: 1.5863 - val_accuracy: 0.9823\n",
            "Epoch 482/500\n",
            "29/29 [==============================] - 0s 8ms/step - loss: 0.1038 - accuracy: 0.9734 - val_loss: 1.5720 - val_accuracy: 0.9823\n",
            "Epoch 483/500\n",
            "29/29 [==============================] - 0s 7ms/step - loss: 0.1043 - accuracy: 0.9734 - val_loss: 1.5693 - val_accuracy: 0.9823\n",
            "Epoch 484/500\n",
            "29/29 [==============================] - 0s 7ms/step - loss: 0.1042 - accuracy: 0.9734 - val_loss: 1.5810 - val_accuracy: 0.9823\n",
            "Epoch 485/500\n",
            "29/29 [==============================] - 0s 6ms/step - loss: 0.1042 - accuracy: 0.9734 - val_loss: 1.5877 - val_accuracy: 0.9823\n",
            "Epoch 486/500\n",
            "29/29 [==============================] - 0s 7ms/step - loss: 0.1042 - accuracy: 0.9734 - val_loss: 1.5600 - val_accuracy: 0.9823\n",
            "Epoch 487/500\n",
            "29/29 [==============================] - 0s 6ms/step - loss: 0.1040 - accuracy: 0.9734 - val_loss: 1.5568 - val_accuracy: 0.9823\n",
            "Epoch 488/500\n",
            "29/29 [==============================] - 0s 7ms/step - loss: 0.1040 - accuracy: 0.9734 - val_loss: 1.5688 - val_accuracy: 0.9823\n",
            "Epoch 489/500\n",
            "29/29 [==============================] - 0s 7ms/step - loss: 0.1049 - accuracy: 0.9734 - val_loss: 1.5400 - val_accuracy: 0.9823\n",
            "Epoch 490/500\n",
            "29/29 [==============================] - 0s 7ms/step - loss: 0.1041 - accuracy: 0.9734 - val_loss: 1.5894 - val_accuracy: 0.9823\n",
            "Epoch 491/500\n",
            "29/29 [==============================] - 0s 7ms/step - loss: 0.1038 - accuracy: 0.9734 - val_loss: 1.5613 - val_accuracy: 0.9823\n",
            "Epoch 492/500\n",
            "29/29 [==============================] - 0s 6ms/step - loss: 0.1041 - accuracy: 0.9734 - val_loss: 1.5546 - val_accuracy: 0.9823\n",
            "Epoch 493/500\n",
            "29/29 [==============================] - 0s 6ms/step - loss: 0.1040 - accuracy: 0.9734 - val_loss: 1.5717 - val_accuracy: 0.9823\n",
            "Epoch 494/500\n",
            "29/29 [==============================] - 0s 7ms/step - loss: 0.1049 - accuracy: 0.9734 - val_loss: 1.5875 - val_accuracy: 0.9823\n",
            "Epoch 495/500\n",
            "29/29 [==============================] - 0s 7ms/step - loss: 0.1049 - accuracy: 0.9734 - val_loss: 1.5226 - val_accuracy: 0.9823\n",
            "Epoch 496/500\n",
            "29/29 [==============================] - 0s 7ms/step - loss: 0.1046 - accuracy: 0.9734 - val_loss: 1.5675 - val_accuracy: 0.9823\n",
            "Epoch 497/500\n",
            "29/29 [==============================] - 0s 6ms/step - loss: 0.1043 - accuracy: 0.9734 - val_loss: 1.5544 - val_accuracy: 0.9823\n",
            "Epoch 498/500\n",
            "29/29 [==============================] - 0s 7ms/step - loss: 0.1039 - accuracy: 0.9734 - val_loss: 1.5273 - val_accuracy: 0.9823\n",
            "Epoch 499/500\n",
            "29/29 [==============================] - 0s 8ms/step - loss: 0.1043 - accuracy: 0.9734 - val_loss: 1.5402 - val_accuracy: 0.9823\n",
            "Epoch 500/500\n",
            "29/29 [==============================] - 0s 6ms/step - loss: 0.1040 - accuracy: 0.9734 - val_loss: 1.5685 - val_accuracy: 0.9823\n"
          ]
        }
      ],
      "source": [
        "history=model.fit(xtrain,ytrain,epochs=500,\n",
        "                 # validation_data=(xtest, ytest))\n",
        "                  validation_split=0.2)"
      ]
    },
    {
      "cell_type": "code",
      "execution_count": null,
      "metadata": {
        "id": "Etmcn7_VQkFB"
      },
      "outputs": [],
      "source": [
        "r=history"
      ]
    },
    {
      "cell_type": "code",
      "execution_count": null,
      "metadata": {
        "id": "RpR9RlKsQlJx",
        "colab": {
          "base_uri": "https://localhost:8080/",
          "height": 265
        },
        "outputId": "d11df3dc-d13b-4150-94ad-699bd6e9e50f"
      },
      "outputs": [
        {
          "output_type": "display_data",
          "data": {
            "text/plain": [
              "<Figure size 432x288 with 1 Axes>"
            ],
            "image/png": "[encoded data removed]"
          },
          "metadata": {
            "needs_background": "light"
          }
        }
      ],
      "source": [
        "# import libraries\n",
        "import tensorflow as tf\n",
        "import pandas as pd\n",
        "from sklearn.model_selection import train_test_split\n",
        "from sklearn.preprocessing import StandardScaler, LabelEncoder\n",
        "import matplotlib.pyplot as plt\n",
        "from sklearn.metrics import confusion_matrix, accuracy_score\n",
        "plt.plot(r.history['accuracy'], label = 'accuracy')\n",
        "plt.plot(r.history['val_accuracy'], label = 'val_accuracy')\n",
        "plt.grid()\n",
        "plt.legend()\n",
        "plt.show()"
      ]
    },
    {
      "cell_type": "code",
      "execution_count": null,
      "metadata": {
        "id": "0DBjBZK0QlGU",
        "colab": {
          "base_uri": "https://localhost:8080/"
        },
        "outputId": "bc08cd6f-4fbd-4d6b-d30e-b375abae8707"
      },
      "outputs": [
        {
          "output_type": "stream",
          "name": "stdout",
          "text": [
            "12/12 [==============================] - 0s 2ms/step\n"
          ]
        }
      ],
      "source": [
        "le = LabelEncoder()\n",
        "y_pred = model.predict(xtest)\n",
        "y_pred = y_pred > 0.5\n",
        "le2 = LabelEncoder()\n",
        "y_pred = le.fit_transform(y_pred)"
      ]
    },
    {
      "cell_type": "code",
      "execution_count": null,
      "metadata": {
        "id": "PSGQdmE2QncH"
      },
      "outputs": [],
      "source": [
        "# metrics\n",
        "acc_score = accuracy_score(ytest, y_pred)\n",
        "cm = confusion_matrix(ytest, y_pred)\n"
      ]
    },
    {
      "cell_type": "code",
      "execution_count": null,
      "metadata": {
        "id": "er0VsDt4Qo5K",
        "colab": {
          "base_uri": "https://localhost:8080/"
        },
        "outputId": "80f0b7e9-cb88-4cac-dfe2-1c6bad060e5a"
      },
      "outputs": [
        {
          "output_type": "stream",
          "name": "stdout",
          "text": [
            "0.973404255319149\n"
          ]
        }
      ],
      "source": [
        "print(acc_score)"
      ]
    },
    {
      "cell_type": "code",
      "execution_count": null,
      "metadata": {
        "id": "TmnD_4hQQqBI",
        "colab": {
          "base_uri": "https://localhost:8080/"
        },
        "outputId": "b7ea0bb6-c623-470c-91a4-7b5daa270f54"
      },
      "outputs": [
        {
          "output_type": "stream",
          "name": "stdout",
          "text": [
            "[[173  10]\n",
            " [  0 193]]\n"
          ]
        }
      ],
      "source": [
        "print(cm)"
      ]
    },
    {
      "cell_type": "code",
      "execution_count": null,
      "metadata": {
        "id": "Vi_3kUbURKLj",
        "colab": {
          "base_uri": "https://localhost:8080/"
        },
        "outputId": "da2e35cb-11dc-45a0-eed6-52be77b9069f"
      },
      "outputs": [
        {
          "output_type": "stream",
          "name": "stdout",
          "text": [
            "Confusion matrix is :\n",
            "[[173  10]\n",
            " [  0 193]]\n",
            "\n",
            "Classification Report : \n",
            "              precision    recall  f1-score   support\n",
            "\n",
            "           0       1.00      0.95      0.97       183\n",
            "           1       0.95      1.00      0.97       193\n",
            "\n",
            "    accuracy                           0.97       376\n",
            "   macro avg       0.98      0.97      0.97       376\n",
            "weighted avg       0.97      0.97      0.97       376\n",
            "\n",
            "\n",
            "\n",
            "F1 Score : 0.9733287935535127\n",
            "Precision : 0.9753694581280787\n",
            "Recall : 0.9726775956284153\n",
            "Sensitivity :  1.0\n",
            "Specificity :  0.9507389162561576\n",
            "false positive rate :  0.04926108374384237\n",
            "false negative rate :  0.0\n",
            "Negative Predictive Value :  1.0\n",
            "False Discovery rate :  0.0546448087431694\n",
            "Mean Absolute Error: 0.026595744680851064\n"
          ]
        }
      ],
      "source": [
        "\n",
        "print('Confusion matrix is :')\n",
        "cm = confusion_matrix(ytest, y_pred)\n",
        "TP = cm[0][0]\n",
        "TN = cm[1][1]\n",
        "FP = cm[0][1]\n",
        "FN = cm[1][0]\n",
        "print(cm)\n",
        "print()\n",
        "classificationReport = classification_report(ytest, y_pred)\n",
        "print(\"Classification Report : \")\n",
        "print (classificationReport)\n",
        "print(\"\\n\")\n",
        "print(\"F1 Score :\",f1_score(ytest, y_pred,average='macro'))\n",
        "print(\"Precision :\", precision_score(ytest, y_pred,average='macro'))\n",
        "print(\"Recall :\", recall_score(ytest, y_pred,average='macro'))\n",
        "\n",
        "print('Sensitivity : ', TP/(TP+FN))\n",
        "print('Specificity : ', TN/(TN+FP))\n",
        "print('false positive rate : ', FP/(FP+TN))\n",
        "print('false negative rate : ', FN/(FN+TP))\n",
        "print('Negative Predictive Value : ', TN/(TN+FN))\n",
        "print('False Discovery rate : ', FP/(TP+FP))\n",
        "print('Mean Absolute Error:', metrics.mean_absolute_error(ytest, y_pred))"
      ]
    },
    {
      "cell_type": "code",
      "execution_count": null,
      "metadata": {
        "id": "IOsK9EELR1NY"
      },
      "outputs": [],
      "source": []
    },
    {
      "cell_type": "markdown",
      "metadata": {
        "id": "phbnNzx6338-"
      },
      "source": [
        "# Hyper parameter Tuning"
      ]
    },
    {
      "cell_type": "code",
      "execution_count": null,
      "metadata": {
        "id": "cVYXvld131mb"
      },
      "outputs": [],
      "source": [
        "## Hyper Parameter Optimization\n",
        "max_depth = [int(x) for x in np.linspace(10, 11110, num = 11)]\n",
        "params={\n",
        " \"learning_rate\"    : [0.05, 0.10, 0.15, 0.20, 0.25, 0.30 ] ,\n",
        "# \"max_depth\"        : [ 3, 4, 5, 6, 8, 10, 12, 15],\n",
        " \"max_depth\"        : max_depth,\n",
        " \"min_child_weight\" : [ 1, 3, 5, 7 ],\n",
        " \"gamma\"            : [ 0.0, 0.1, 0.2 , 0.3, 0.4 ],\n",
        " \"colsample_bytree\" : [ 0.3, 0.4, 0.5 , 0.7 ]\n",
        "    \n",
        "}"
      ]
    },
    {
      "cell_type": "code",
      "execution_count": null,
      "metadata": {
        "id": "JYoQNpMy30cZ",
        "colab": {
          "base_uri": "https://localhost:8080/"
        },
        "outputId": "6186fc37-4ed8-41d6-e654-f2c8038ea942"
      },
      "outputs": [
        {
          "output_type": "stream",
          "name": "stdout",
          "text": [
            "Fitting 2 folds for each of 5280 candidates, totalling 10560 fits\n"
          ]
        },
        {
          "output_type": "execute_result",
          "data": {
            "text/plain": [
              "GridSearchCV(cv=2, estimator=XGBClassifier(), n_jobs=-1,\n",
              "             param_grid={'colsample_bytree': [0.3, 0.4, 0.5, 0.7],\n",
              "                         'gamma': [0.0, 0.1, 0.2, 0.3, 0.4],\n",
              "                         'learning_rate': [0.05, 0.1, 0.15, 0.2, 0.25, 0.3],\n",
              "                         'max_depth': [10, 1120, 2230, 3340, 4450, 5560, 6670,\n",
              "                                       7780, 8890, 10000, 11110],\n",
              "                         'min_child_weight': [1, 3, 5, 7]},\n",
              "             verbose=2)"
            ]
          },
          "metadata": {},
          "execution_count": 100
        }
      ],
      "source": [
        "## Hyperparameter optimization using RandomizedSearchCV\n",
        "from sklearn.model_selection import RandomizedSearchCV, GridSearchCV\n",
        "import xgboost\n",
        "classifier=xgboost.XGBClassifier()\n",
        "#rf_randomcv=RandomizedSearchCV(estimator=classifier,param_distributions=params,n_iter=500,cv=2,verbose=2,\n",
        "                          #     random_state=100,n_jobs=-1)\n",
        "\n",
        "rf_randomcv=GridSearchCV(estimator=classifier,param_grid=params,cv=2,verbose=2,\n",
        "                               n_jobs=-1)\n",
        "\n",
        "### fit the randomized model\n",
        "rf_randomcv.fit(xtrain,ytrain)"
      ]
    },
    {
      "cell_type": "code",
      "execution_count": null,
      "metadata": {
        "id": "iGIZGYAF4Q6r"
      },
      "outputs": [],
      "source": [
        "best_random_grid=rf_randomcv.best_estimator_"
      ]
    },
    {
      "cell_type": "code",
      "execution_count": null,
      "metadata": {
        "id": "pT-xL94E4Q3a",
        "colab": {
          "base_uri": "https://localhost:8080/"
        },
        "outputId": "f529a845-147b-4244-de66-d18014a1dccd"
      },
      "outputs": [
        {
          "output_type": "stream",
          "name": "stdout",
          "text": [
            "[[175   8]\n",
            " [  2 191]]\n",
            "Accuracy Score 0.973404255319149\n",
            "Classification report:               precision    recall  f1-score   support\n",
            "\n",
            "           0       0.99      0.96      0.97       183\n",
            "           1       0.96      0.99      0.97       193\n",
            "\n",
            "    accuracy                           0.97       376\n",
            "   macro avg       0.97      0.97      0.97       376\n",
            "weighted avg       0.97      0.97      0.97       376\n",
            "\n"
          ]
        }
      ],
      "source": [
        "from sklearn.metrics import accuracy_score\n",
        "from sklearn.metrics import classification_report\n",
        "from sklearn.metrics import confusion_matrix\n",
        "y_pred=best_random_grid.predict(xtest)\n",
        "print(confusion_matrix(ytest,y_pred))\n",
        "print(\"Accuracy Score {}\".format(accuracy_score(ytest,y_pred)))\n",
        "print(\"Classification report: {}\".format(classification_report(ytest,y_pred)))"
      ]
    },
    {
      "cell_type": "code",
      "execution_count": null,
      "metadata": {
        "id": "ydzaYbC-4Q0k",
        "colab": {
          "base_uri": "https://localhost:8080/"
        },
        "outputId": "22b7de87-c09a-4f08-f241-ab2e86f2aa08"
      },
      "outputs": [
        {
          "output_type": "execute_result",
          "data": {
            "text/plain": [
              "XGBClassifier(colsample_bytree=0.4, gamma=0.0, max_depth=10)"
            ]
          },
          "metadata": {},
          "execution_count": 103
        }
      ],
      "source": [
        "best_random_grid"
      ]
    },
    {
      "cell_type": "code",
      "execution_count": null,
      "metadata": {
        "id": "bJaeA-E_4Qxv"
      },
      "outputs": [],
      "source": []
    },
    {
      "cell_type": "code",
      "execution_count": null,
      "metadata": {
        "id": "eEajb66Q4uQl",
        "colab": {
          "base_uri": "https://localhost:8080/"
        },
        "outputId": "641ee803-8dfd-43f1-c36c-af2e34bc6429"
      },
      "outputs": [
        {
          "output_type": "stream",
          "name": "stdout",
          "text": [
            "Confusion matrix is :\n",
            "[[175   8]\n",
            " [  2 191]]\n",
            "\n",
            "Classification Report : \n",
            "              precision    recall  f1-score   support\n",
            "\n",
            "           0       0.99      0.96      0.97       183\n",
            "           1       0.96      0.99      0.97       193\n",
            "\n",
            "    accuracy                           0.97       376\n",
            "   macro avg       0.97      0.97      0.97       376\n",
            "weighted avg       0.97      0.97      0.97       376\n",
            "\n",
            "\n",
            "\n",
            "Testing accuracy :  0.973404255319149\n",
            "Training accuracy: 97.96099290780141\n",
            "F1 Score : 0.9733560090702947\n",
            "Precision : 0.974249779973313\n",
            "Recall : 0.9729607293524731\n",
            "AUC = 0.981\n",
            "Sensitivity :  0.9887005649717514\n",
            "Specificity :  0.9597989949748744\n",
            "false positive rate :  0.04020100502512563\n",
            "false negative rate :  0.011299435028248588\n",
            "Negative Predictive Value :  0.9896373056994818\n",
            "False Discovery rate :  0.04371584699453552\n",
            "Mean Absolute Error: 0.026595744680851064\n",
            "10 fold cross validation:  [0.99337748 0.94701987 0.97350993 0.98013245 0.94666667 0.98\n",
            " 0.97333333 0.98666667 0.98666667 0.98      ]\n",
            "Mean of 10 fold cross validation :  0.9747373068432671\n"
          ]
        }
      ],
      "source": [
        "\n",
        "print('Confusion matrix is :')\n",
        "cm = confusion_matrix(ytest, best_random_grid.predict(xtest))\n",
        "TP = cm[0][0]\n",
        "TN = cm[1][1]\n",
        "FP = cm[0][1]\n",
        "FN = cm[1][0]\n",
        "print(cm)\n",
        "print()\n",
        "classificationReport = classification_report(ytest, best_random_grid.predict(xtest))\n",
        "print(\"Classification Report : \")\n",
        "print (classificationReport)\n",
        "print(\"\\n\")\n",
        "print('Testing accuracy : ',best_random_grid.score(xtest,ytest))\n",
        "print(\"Training accuracy:\",best_random_grid.score(xtrain,ytrain)*100)\n",
        "print(\"F1 Score :\",f1_score(ytest, best_random_grid.predict(xtest),average='macro'))\n",
        "print(\"Precision :\", precision_score(ytest, best_random_grid.predict(xtest),average='macro'))\n",
        "print(\"Recall :\", recall_score(ytest, best_random_grid.predict(xtest),average='macro'))\n",
        "probs = best_random_grid.predict_proba(xtest)\n",
        "probs = probs[:, 1]\n",
        "auc = roc_auc_score(ytest, probs)\n",
        "fpr, tpr, _ = roc_curve(ytest, probs)\n",
        "auc1=metrics.auc(fpr, tpr)\n",
        "print('AUC = %.3f' % (auc1))\n",
        "print('Sensitivity : ', TP/(TP+FN))\n",
        "print('Specificity : ', TN/(TN+FP))\n",
        "print('false positive rate : ', FP/(FP+TN))\n",
        "print('false negative rate : ', FN/(FN+TP))\n",
        "print('Negative Predictive Value : ', TN/(TN+FN))\n",
        "print('False Discovery rate : ', FP/(TP+FP))\n",
        "print('Mean Absolute Error:', metrics.mean_absolute_error(ytest, best_random_grid.predict(xtest)))\n",
        "\n",
        "skfold=StratifiedKFold(n_splits=10)\n",
        "scores=cross_val_score(best_random_grid,x,y,cv=skfold)\n",
        "print(\"10 fold cross validation: \",scores)\n",
        "print(\"Mean of 10 fold cross validation : \",np.mean(scores))\n",
        "gnb=roc_auc_values(best_random_grid)"
      ]
    },
    {
      "cell_type": "code",
      "execution_count": null,
      "metadata": {
        "id": "lWcwLLVU4t6M"
      },
      "outputs": [],
      "source": []
    },
    {
      "cell_type": "code",
      "execution_count": null,
      "metadata": {
        "id": "fI5z_SDG4t29"
      },
      "outputs": [],
      "source": []
    }
  ],
  "metadata": {
    "colab": {
      "collapsed_sections": [
        "jslW2L6YE9qZ",
        "s3iZkagRIDKv",
        "v5pw9Hx1J6yr",
        "INQjjUSHP5oo",
        "phbnNzx6338-"
      ],
      "provenance": []
    },
    "kernelspec": {
      "display_name": "Python 3",
      "name": "python3"
    },
    "language_info": {
      "name": "python"
    }
  },
  "nbformat": 4,
  "nbformat_minor": 0
}